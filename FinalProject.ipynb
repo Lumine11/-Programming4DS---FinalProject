{
 "cells": [
  {
   "cell_type": "markdown",
   "id": "f310ab9f",
   "metadata": {},
   "source": [
    "# Information\n",
    "Đây là markdown giới thiệu thông tin đồ án"
   ]
  },
  {
   "cell_type": "markdown",
   "id": "82db38a2",
   "metadata": {},
   "source": [
    "Libraries used"
   ]
  },
  {
   "cell_type": "code",
   "execution_count": null,
   "id": "fd1cd4bd",
   "metadata": {},
   "outputs": [],
   "source": [
    "#import những gì bạn cần ở đây"
   ]
  },
  {
   "cell_type": "markdown",
   "id": "a584bf68",
   "metadata": {},
   "source": [
    "# Data Collection"
   ]
  },
  {
   "cell_type": "code",
   "execution_count": null,
   "id": "575bcb5d",
   "metadata": {},
   "outputs": [],
   "source": []
  },
  {
   "cell_type": "markdown",
   "id": "2a2ba84f",
   "metadata": {},
   "source": [
    "# Data Pre-processing and Exploration"
   ]
  },
  {
   "attachments": {},
   "cell_type": "markdown",
   "id": "f258bfc6",
   "metadata": {},
   "source": [
    "How many rows and how many columns?"
   ]
  },
  {
   "cell_type": "markdown",
   "id": "5d47f6fa",
   "metadata": {},
   "source": [
    "markdown trước code của phần này (nếu có)"
   ]
  },
  {
   "cell_type": "code",
   "execution_count": null,
   "id": "cf80e76e",
   "metadata": {},
   "outputs": [],
   "source": [
    "code của phần này"
   ]
  },
  {
   "cell_type": "markdown",
   "id": "cb9e16cb",
   "metadata": {},
   "source": [
    "markdown kết luận"
   ]
  },
  {
   "attachments": {},
   "cell_type": "markdown",
   "id": "33d4ecca",
   "metadata": {},
   "source": [
    "What is the meaning of each row/column?\n"
   ]
  },
  {
   "cell_type": "markdown",
   "id": "fb7acd43",
   "metadata": {},
   "source": [
    "Are there duplicated rows? + Remove duplicate"
   ]
  },
  {
   "cell_type": "markdown",
   "id": "59c327a6",
   "metadata": {},
   "source": [
    "What is the meaning of each column?\n"
   ]
  },
  {
   "cell_type": "markdown",
   "id": "46ff7b33",
   "metadata": {},
   "source": [
    "What is the current data type of each column? Are there columns having inappropriate data types? If have, converting\n"
   ]
  },
  {
   "cell_type": "markdown",
   "id": "6348f83d",
   "metadata": {},
   "source": [
    "\"With each categorical column, how are values distributed?\n",
    "- What is the percentage of missing values?\n",
    "- Nếu phát hiện mising value thì nhắn lên gr để thảo luận cách xử lí\n",
    "- How many different values? Are they abnormal?\"\n"
   ]
  },
  {
   "cell_type": "markdown",
   "id": "4fa01aca",
   "metadata": {},
   "source": [
    "\"With each numerical column, how are values distributed?\n",
    "- What is the percentage of missing values?\n",
    "- Nếu phát hiện mising value thì nhắn lên gr để thảo luận cách xử lí\n",
    "- Min? max? Are they abnormal?\"\n"
   ]
  },
  {
   "cell_type": "markdown",
   "id": "0f2b2efe",
   "metadata": {},
   "source": [
    "# Question"
   ]
  }
 ],
 "metadata": {
  "kernelspec": {
   "display_name": "Python 3 (ipykernel)",
   "language": "python",
   "name": "python3"
  },
  "language_info": {
   "codemirror_mode": {
    "name": "ipython",
    "version": 3
   },
   "file_extension": ".py",
   "mimetype": "text/x-python",
   "name": "python",
   "nbconvert_exporter": "python",
   "pygments_lexer": "ipython3",
   "version": "3.9.18"
  }
 },
 "nbformat": 4,
 "nbformat_minor": 5
}
