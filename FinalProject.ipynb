{
 "cells": [
  {
   "cell_type": "markdown",
   "id": "f310ab9f",
   "metadata": {},
   "source": [
    "# Programming for Data Science - 21KHDL1\n",
    "# Final Project\n",
    "# Topic:\n",
    "\n",
    "## Student Information \n",
    "| MSSV     | Họ tên          |\n",
    "| -------- | --------------- |\n",
    "| 21120570 | Đặng Nguyễn Thanh Tín |\n",
    "| 21120574 | Nguyễn Minh Trí |\n",
    "| 21120580 | Trần Thị Kim Trinh |\n",
    "\n",
    "## Table of contents\n",
    "- [Overview](#overview)\n",
    "- [Data Collection](#data-collection)\n",
    "- [Data Pre-processing and Exploration](#data-pre-processing-and-exploration)\n",
    "- [Quick view of Data](#quick-view-of-data)\n",
    "- [Questions](#questions)\n",
    "- [Reflection](#reflection)\n",
    "- [References](#references)\n",
    "\n",
    "\n",
    "# Overview\n",
    "\n",
    "The Kaggle dataset on drug-related deaths from 2012-2018 provides comprehensive health-related information, encompassing various factors such as drug categories, demographics including gender and age, and the geographical context of fatalities. Despite its age, this data serves as a crucial resource for comprehending the drug issue and proposing preventative measures. Analyzing the dataset can pinpoint trends and factors contributing to fatalities, supporting prevention and treatment efforts. This presents an opportunity to address the public health challenge and formulate effective anti-drug strategies."
   ]
  },
  {
   "cell_type": "markdown",
   "id": "82db38a2",
   "metadata": {},
   "source": [
    "Libraries used"
   ]
  },
  {
   "cell_type": "code",
   "execution_count": null,
   "id": "fd1cd4bd",
   "metadata": {},
   "outputs": [],
   "source": [
    "#import những gì bạn cần ở đây\n",
    "import numpy as np\n",
    "import pandas as pd\n",
    "import matplotlib.pyplot as plt\n",
    "import pandas as pd\n",
    "import plotly.graph_objects as go\n",
    "import plotly.express as px\n",
    "import seaborn as sns\n",
    "import geopandas as gpd\n",
    "import folium\n",
    "from folium.plugins import MarkerCluster"
   ]
  },
  {
   "cell_type": "markdown",
   "id": "a584bf68",
   "metadata": {},
   "source": [
    "# 1. Data Collection"
   ]
  },
  {
   "cell_type": "markdown",
   "id": "575bcb5d",
   "metadata": {},
   "source": [
    "- **Data about:** **The Connecticut Deaths due to Drugs Dataset** contains information about **5105** people who died due to drug overdose between **2012 and 2018** in Connecticut, US.\n",
    "\n",
    "    The dataset includes data related to the age, race, gender, place of residence of the victims as well as the drugs they overdosed on. This information can be used to understand if drug use is prevalent in a specific area or city, drug use by individuals of different age groups and races as well as the popularity of different types of drugs.\n",
    "\n",
    "    The dataset has **41 columns** and **5105 rows**. The file have the following columns:\n",
    "    1. `ID`: ID of Patient\n",
    "    2. `Date`: The time which Patient died \n",
    "    3. `DateType`: Type of Date in Column 2 [Date of Reporting or Date of Death]\n",
    "    4. `Age`: Age of Patient\n",
    "    5. `Sex`: Sex of Patient\n",
    "    6. `Race`: Race of Patient\n",
    "    7. `ResidenceCity`: City of Residence\n",
    "    8. `ResidenceCounty`: County of Residence\n",
    "    9. `ResidenceState`: State of Residence\n",
    "    10. `DeathCity`: City of Death\n",
    "    11. `DeathCounty`: County of Death\n",
    "    12. `Location`: Location of Death [Hospital or Residence]\n",
    "    13. `LocationifOther`: Location of Death if Not Hospital or Residence\n",
    "    14. `DescriptionofInjury`: Cause of Death\n",
    "    15. `InjuryPlace`: Place of Event that caused Death\n",
    "    16. `InjuryCity`: City of Event that caused Death\n",
    "    17. `InjuryCounty`: County of Event that caused Death\n",
    "    18. `InjuryState`: State of Event that caused Death\n",
    "    19. `COD`: Detailed Cause of Death\n",
    "    20. `OtherSignifican`: Other Significant Injuries that may have lead to Death\n",
    "    21. `Heroin`: Drug Found in Body [Y/N] liệu heroin đã được phát hiện trong mẫu từ những trường hợp tử vong hay không?\n",
    "    22. `Cocaine`: Drug Found in Body [Y/N]\n",
    "    23. `Fentanyl`: Drug Found in Body [Y/N]\n",
    "    24. `FentanylAnalogue`: Drug Found in Body [Y/N]\n",
    "    25. `Oxycodone`: Drug Found in Body [Y/N]\n",
    "    26. `Oxymorphone`: Drug Found in Body [Y/N]\n",
    "    27. `Ethanol`: Drug Found in Body [Y/N]\n",
    "    28. `Hydrocodone`: Drug Found in Body [Y/N]\n",
    "    29. `Benzodiazepine`: Drug Found in Body [Y/N]\n",
    "    30. `Methadone`: Drug Found in Body [Y/N]\n",
    "    31. `Amphet`: Drug Found in Body [Y/N]\n",
    "    32. `Tramad`: Drug Found in Body [Y/N]\n",
    "    33. `Morphine_NotHeroin`: Drug Found in Body [Y/N]\n",
    "    34. `Hydromorphone`: Drug Found in Body [Y/N]\n",
    "    35. `Other`: Drug Found in Body [Y/N]\n",
    "    36. `OpiateNOS`: Drug Found in Body [Y/N]\n",
    "    37. `AnyOpioid`: Drug Found in Body [Y/N]\n",
    "    38. `MannerofDeath`: Manner of Death\n",
    "    39. `DeathCityGeo`: City of Death\n",
    "    40. `ResidenceCityGeo`: City of Residence\n",
    "    41. `InjuryCityGeo`: City of Injury\n",
    "\n",
    "- **Source:** From `Data Science Dojo`\n",
    "\n",
    "- **Collect data and License:** This data set has been sourced from `the US Government's \n",
    "Open Data Initiative Accidental Drug Related Deaths Dataset`.\n",
    "The Open Data Initiative page mentions the following as the original source of the\n",
    "data set:\n",
    "Local Government, Connecticut"
   ]
  },
  {
   "cell_type": "markdown",
   "id": "2a2ba84f",
   "metadata": {},
   "source": [
    "# 2. Data Pre-processing"
   ]
  },
  {
   "cell_type": "markdown",
   "id": "b085c5b0",
   "metadata": {},
   "source": [
    "## 2.0 Take a quick view of our data"
   ]
  },
  {
   "cell_type": "markdown",
   "id": "6b8729f8",
   "metadata": {},
   "source": [
    " **Read Data**"
   ]
  },
  {
   "cell_type": "code",
   "execution_count": null,
   "id": "cf80e76e",
   "metadata": {},
   "outputs": [],
   "source": [
    "# Đọc dữ liệu từ ./Accidental Drug Related Deaths in Connecticut-2012-2018 và lưu vào DrugDeath_df\n",
    "DrugDeath_df = pd.read_csv('./Data/Accidental_Drug_Related_Deaths_2012-2022.csv')\n",
    "\n",
    "DrugDeath_df.head(5)"
   ]
  },
  {
   "cell_type": "markdown",
   "id": "f258bfc6",
   "metadata": {},
   "source": [
    "**How many rows and how many columns?**"
   ]
  },
  {
   "cell_type": "code",
   "execution_count": null,
   "id": "2db2528e",
   "metadata": {},
   "outputs": [],
   "source": [
    "# Lưu số dòng của DrugDeath_df vào n_rows và số cột của DrugDeath_df vào n_cols\n",
    "n_rows, n_cols = DrugDeath_df.shape\n",
    "\n",
    "# In ra màn hình số dòng và số cột của DrugDeath_df\n",
    "print(f'({n_rows}, {n_cols})')"
   ]
  },
  {
   "cell_type": "markdown",
   "id": "33d4ecca",
   "metadata": {},
   "source": [
    "**What is the meaning of each row?**\n",
    "\n",
    "\n",
    "Each row in this dataset contains information about an individual who has passed away due to a drug overdose. Specifically:\n",
    "\n",
    "- `Demographic Information:` This includes details about the person such as age, gender, race, and residential address.\n",
    "\n",
    "- `Death Information:` This encompasses the date, location, specific cause, and manner of death (for example, intentional or accidental).\n",
    "\n",
    "- `Drug-related Information:` It provides details about specific drugs found in the individual's body at the time of death.\n",
    "\n",
    "Each row in this data isn't just a set of numbers; it represents a story of an unnecessary loss of an individual. It combines personal information, the context of the death, and the impact of drugs on this heartbreaking departure. A deeper understanding of these factors could help prevent and reduce similar cases in the future."
   ]
  },
  {
   "cell_type": "markdown",
   "id": "4922871a",
   "metadata": {},
   "source": [
    "**What is the meaning of each column?**\n",
    "\n",
    "- The data columns is crucial for effective analysis. By carefully examining the column titles and their respective data entries, we can decipher the information they encapsulate. Given the extensive length of the column titles, renaming them for easier handling and analysis becomes essential.\n",
    "\n",
    "- Through a thorough review of the column titles and their contents, aligned with the context of the survey questionnaire, we can gain a comprehensive understanding of the dataset. This process will enable us to effectively rename the columns, simplifying them for easier manipulation and analysis in subsequent steps.\n",
    "\n",
    "- The columns in this dataset provide information about emergency cases due to drug overdoses."
   ]
  },
  {
   "cell_type": "markdown",
   "id": "ec9afb70",
   "metadata": {},
   "source": [
    "**What is the meaning of each column?**\n",
    "\n",
    "- The data columns is crucial for effective analysis. By carefully examining the column titles and their respective data entries, we can decipher the information they encapsulate. Given the extensive length of the column titles, renaming them for easier handling and analysis becomes essential.\n",
    "\n",
    "- Through a thorough review of the column titles and their contents, aligned with the context of the survey questionnaire, we can gain a comprehensive understanding of the dataset. This process will enable us to effectively rename the columns, simplifying them for easier manipulation and analysis in subsequent steps.\n",
    "\n",
    "- The columns in this dataset provide information about emergency cases due to drug overdoses."
   ]
  },
  {
   "cell_type": "markdown",
   "id": "2462003c",
   "metadata": {},
   "source": [
    "Chọn ra các cột sẽ dùng + giải thích lí do"
   ]
  },
  {
   "cell_type": "code",
   "execution_count": null,
   "id": "440c2430",
   "metadata": {},
   "outputs": [],
   "source": [
    "DrugDeath_df.columns"
   ]
  },
  {
   "cell_type": "code",
   "execution_count": null,
   "id": "784bce55",
   "metadata": {},
   "outputs": [],
   "source": [
    "DrugDeath_df = DrugDeath_df[['Date', 'Age', 'Sex', 'Race',\n",
    "        'Location', 'Cause of Death', 'Heroin', 'Cocaine',\n",
    "       'Fentanyl', 'Fentanyl Analogue', 'Oxycodone', 'Oxymorphone', 'Ethanol',\n",
    "       'Hydrocodone', 'Benzodiazepine', 'Methadone', 'Meth/Amphetamine',\n",
    "       'Amphet', 'Tramad', 'Hydromorphone', 'Morphine (Not Heroin)',\n",
    "       'Xylazine', 'Gabapentin', 'Opiate NOS', 'Heroin/Morph/Codeine', 'ResidenceCityGeo',\n",
    "       'DeathCityGeo']]"
   ]
  },
  {
   "cell_type": "markdown",
   "id": "fb7acd43",
   "metadata": {},
   "source": [
    "## 2.1 Are there duplicated rows?"
   ]
  },
  {
   "cell_type": "code",
   "execution_count": null,
   "id": "29dc7343",
   "metadata": {},
   "outputs": [],
   "source": [
    "# Kiểm tra các dòng bị trùng lặp\n",
    "duplicate_rows = DrugDeath_df[DrugDeath_df.duplicated()]\n",
    "\n",
    "# Hiển thị nếu có dòng bị trùng lặp\n",
    "if duplicate_rows.shape[0] > 0:\n",
    "    print(\"There are duplicated rows.\")\n",
    "    # Xóa các dòng trùng lặp\n",
    "    DrugDeath_df.drop_duplicates(inplace=True)\n",
    "    print(\"Duplicates removed.\")\n",
    "else:\n",
    "    print(\"There are no duplicated rows.\")"
   ]
  },
  {
   "cell_type": "markdown",
   "id": "ee8fd9bf",
   "metadata": {},
   "source": [
    "**Conclusion:** We can see that the dataset doesn't have duplicated rows."
   ]
  },
  {
   "cell_type": "markdown",
   "id": "46ff7b33",
   "metadata": {},
   "source": [
    "## 2.2 Data type & missing values"
   ]
  },
  {
   "cell_type": "markdown",
   "id": "848f9c4e",
   "metadata": {},
   "source": [
    "### 2.2.1 Datatype"
   ]
  },
  {
   "cell_type": "code",
   "execution_count": null,
   "id": "39c17284",
   "metadata": {},
   "outputs": [],
   "source": [
    "# Kiểm tra kiểu dữ liệu hiện tại của các cột\n",
    "print(DrugDeath_df.info())"
   ]
  },
  {
   "cell_type": "markdown",
   "id": "587b0d2c",
   "metadata": {},
   "source": [
    "Most columns have the correct data types, with a few exceptions:\n",
    "\n",
    "- The **Date** column should have the data type of Datetime.\n",
    "- **Age** should have the data type of int instead of float.\n",
    "- Columns such as **Heroin, Cocaine, Fentanyl, etc.,** which confirm the presence or absence of each toxic substance, should have a data type of bool instead of object."
   ]
  },
  {
   "cell_type": "code",
   "execution_count": null,
   "id": "47e31ca6",
   "metadata": {},
   "outputs": [],
   "source": [
    "#Chuyển cột Date thành datetime\n",
    "DrugDeath_df['Date'] = pd.to_datetime(DrugDeath_df['Date'], format='%m/%d/%Y')"
   ]
  },
  {
   "cell_type": "markdown",
   "id": "fd685045",
   "metadata": {},
   "source": [
    "Ta sẽ xem xét các cột nên có kiểu dữ liệu boolean"
   ]
  },
  {
   "cell_type": "code",
   "execution_count": null,
   "id": "0cc7dde8",
   "metadata": {
    "scrolled": true
   },
   "outputs": [],
   "source": [
    "#Xem các giá trị có trong các cột\n",
    "drugs = ['Heroin', 'Cocaine',\n",
    "       'Fentanyl', 'Fentanyl Analogue', 'Oxycodone', 'Oxymorphone', 'Ethanol',\n",
    "       'Hydrocodone', 'Benzodiazepine', 'Methadone', 'Meth/Amphetamine',\n",
    "       'Amphet', 'Tramad', 'Hydromorphone', 'Morphine (Not Heroin)',\n",
    "       'Xylazine', 'Gabapentin', 'Opiate NOS', 'Heroin/Morph/Codeine']\n",
    "\n",
    "for col in drugs: \n",
    "    print(col)\n",
    "    print(DrugDeath_df[col].unique())"
   ]
  },
  {
   "cell_type": "markdown",
   "id": "7f88675e",
   "metadata": {},
   "source": [
    "In this context, treating `NaN` and `N` as equivalent is justified since there is no evidence indicating the presence of the tested substance in the victim's body. Consequently, we can replace occurrences of `NaN` with `N` in these columns.\n",
    "\n",
    "Before converting these columns to a boolean type, special values need to be addressed. Specifically, we need to handle values other than True (Y) and False (N or NaN) in these columns. The majority of columns exhibit a standard pattern with only 'Y', 'N', and 'NaN', but there are a few exceptions.\n",
    "\n",
    "- **Other Opioid:** Includes values [nan 'Buprenorphine' 'MDMA, Buprenorphine' 'Mitragynine' 'ketamine' 'PCP' 'Difluro' 'pcp' 'Y']. Since this column represents the presence of other addictive substances, we can treat answers like 'Buprenorphine' 'MDMA, Buprenorphine', ... as 'Y'.\n",
    "\n",
    "- **Morphine (Not Heroin):** [nan 'Y' 'PCP NEG' 'NO RX BUT STRAWS' 'STOLE MEDS']. Firstly, let's examine the meaning of special values:\n",
    "    - `PCP NEG`: Indicates a negative result for PCP, unrelated to Heroin. Treat as 'Y'.\n",
    "    - `NO RX BUT STRAWS`: Indicates the absence of a prescription but presence of straws, likely unrelated to Heroin. Treat as 'Y'.\n",
    "    - `STOLE MEDS`: Indicates stolen medication, unrelated to Heroin. Treat as 'Y'. \n",
    "    --> Therefore, this column can be considered 'Y' for these special cases.\n",
    "\n",
    "- **Fentanyl:** [nan 'Y' 'Y (PTCH)' 'Y POPS']\n",
    "    - `Y PTCH`: Fentanyl detected in patch form.\n",
    "    - `Y POPS`: Fentanyl detected in candy form.\n",
    "    Treat these values as 'Y'.\n",
    "\n",
    "In conclusion, a common approach for all columns can be formulated as follows:"
   ]
  },
  {
   "cell_type": "code",
   "execution_count": null,
   "id": "22602d14",
   "metadata": {},
   "outputs": [],
   "source": [
    "#chuyển thành kiểu boolean (null hoặc 'N' là False, còn lại là True)\n",
    "for col in drugs: \n",
    "    DrugDeath_df[col] = DrugDeath_df[col].notnull() & (DrugDeath_df[col] != 'N')"
   ]
  },
  {
   "cell_type": "markdown",
   "id": "6ad78c6d",
   "metadata": {},
   "source": [
    "### 2.2.3 Handle missing value"
   ]
  },
  {
   "cell_type": "markdown",
   "id": "199efe4d",
   "metadata": {},
   "source": [
    "- With each column, how are missing values distributed?\n",
    "- What is the percentage of missing values?\n",
    "- How many different values? Are they abnormal?"
   ]
  },
  {
   "cell_type": "markdown",
   "id": "aafb143c",
   "metadata": {},
   "source": [
    "#### Firstly, let's examine the number of missing values in each column."
   ]
  },
  {
   "cell_type": "code",
   "execution_count": null,
   "id": "5ab9c04e",
   "metadata": {
    "scrolled": false
   },
   "outputs": [],
   "source": [
    "missing_values = DrugDeath_df.isnull().sum().sort_values(ascending=True)\n",
    "\n",
    "fig = go.Figure(data=[go.Bar(\n",
    "    y=missing_values.index,\n",
    "    x=missing_values.values,\n",
    "    orientation='h',\n",
    "    marker_color='#1f77b4'\n",
    ")])\n",
    "\n",
    "fig.update_layout(\n",
    "    title_text='Số lượng giá trị bị thiếu của mỗi cột',\n",
    "    xaxis_title='Số lượng giá trị bị thiếu',\n",
    "    yaxis_title='Tên cột',\n",
    "    yaxis={'autorange': 'reversed'},\n",
    "    height=800\n",
    ")\n",
    "\n",
    "fig.show()\n"
   ]
  },
  {
   "cell_type": "markdown",
   "id": "734ea1d1",
   "metadata": {},
   "source": [
    "#### Secondly, handle them"
   ]
  },
  {
   "cell_type": "markdown",
   "id": "c1cfec19",
   "metadata": {},
   "source": [
    "- In this process, i will use **Imputation**.\n",
    "    - For categorical data, mode (the most frequent value) is often used. \n",
    "    - For numerical data, mean or median can be used depending on the data distribution."
   ]
  },
  {
   "cell_type": "code",
   "execution_count": null,
   "id": "7f8303d7",
   "metadata": {},
   "outputs": [],
   "source": [
    "categorical_cols = DrugDeath_df.select_dtypes(include=['object', 'category']).columns\n",
    "numerical_cols = DrugDeath_df.select_dtypes(include=['int64', 'float64']).columns\n",
    "\n",
    "missing_categorical_cols = [col for col in categorical_cols if DrugDeath_df[col].isnull().any()]\n",
    "missing_numerical_cols = [col for col in numerical_cols if DrugDeath_df[col].isnull().any()]\n",
    "\n",
    "print(\"Categorical columns with missing values:\")\n",
    "print(missing_categorical_cols)\n",
    "\n",
    "print(\"\\nNumerical columns with missing values:\")\n",
    "print(missing_numerical_cols)"
   ]
  },
  {
   "cell_type": "code",
   "execution_count": null,
   "id": "f2d55766",
   "metadata": {},
   "outputs": [],
   "source": [
    "#Xử lí Age, Sex, Location, Race bằng cách điền median và mode\n",
    "# For numerical columns\n",
    "DrugDeath_df['Age'] = DrugDeath_df['Age'].fillna(DrugDeath_df['Age'].median())\n",
    "DrugDeath_df['Age'] = DrugDeath_df['Age'].astype(int)\n",
    "\n",
    "# For categorical columns\n",
    "for col in missing_categorical_cols:\n",
    "    DrugDeath_df[col] = DrugDeath_df[col].fillna(DrugDeath_df[col].mode()[0])"
   ]
  },
  {
   "cell_type": "markdown",
   "id": "821f2623",
   "metadata": {},
   "source": [
    "Let's double-check to see if there are any remaining columns with missing values."
   ]
  },
  {
   "cell_type": "code",
   "execution_count": null,
   "id": "42ed0646",
   "metadata": {},
   "outputs": [],
   "source": [
    "missing_cols = DrugDeath_df.columns[DrugDeath_df.isnull().any()].tolist()\n",
    "\n",
    "print(\"Columns with missing values:\")\n",
    "print(missing_cols)"
   ]
  },
  {
   "cell_type": "markdown",
   "id": "1e98bc7d",
   "metadata": {},
   "source": [
    "### 2.2.4 Handle abnormal value \n",
    "\n",
    "- In the column `Cause of Death`, there are values like: \n",
    "    - **Acetyl Fentanyl**, those values belong to `Fentanyl Analogue` column.\n",
    "    - **Tramadol** belongs to the `Tramad` column, and there are some abnormal cases like that.\n",
    "- For example: with the value `\"Acute Intoxication due to the Combined Effects of Fentanyl, Xylazine, Cocaine and Tramadol\"` , i will turn it into\n",
    "`\"Fentanyl, Xylazine, Cocaine, Tramadol\"`.\n",
    "\n",
    "- How i solve this issue?\n",
    "    - Step 1: remove unwanted words, like: \"Acute Intoxication due to the Combined Effects of\" , \"and\", etc.\n",
    "    - Step 2: create a new column `Details Cause` from drugs' name in the `Cause of Death` to help out later work easier.\n",
    "        - For example: with the value `\"Acute Intoxication due to the Combined Effects of Fentanyl, Xylazine, Cocaine and Tramadol\"` , i will turn it into `\"Fentanyl, Xylazine, Cocaine, Tramadol\"`.\n",
    "\n",
    "\n",
    "\n"
   ]
  },
  {
   "cell_type": "code",
   "execution_count": null,
   "id": "2d911b09",
   "metadata": {},
   "outputs": [],
   "source": [
    "DrugDeath_df.columns"
   ]
  },
  {
   "cell_type": "markdown",
   "id": "5f82a7ab",
   "metadata": {},
   "source": [
    "#### Step 1: Remove unnecessary words."
   ]
  },
  {
   "cell_type": "code",
   "execution_count": null,
   "id": "a3f7f1da",
   "metadata": {},
   "outputs": [],
   "source": [
    "# rename 'Cause of Death' into COD for more convienient\n",
    "\n",
    "DrugDeath_df = DrugDeath_df.rename(columns={'Cause of Death': 'COD'})\n",
    "\n",
    "#Tạo cột mới chứa ds các thuốc là nguyên nhân trục tiếp gây tử vong\n",
    "# Đổi tên cột 'Cause of Death' thành 'COD'\n",
    "DrugDeath_df['COD'] = DrugDeath_df['COD'].str.lower()\n",
    "\n",
    "# Loại bỏ các từ không mong muốn\n",
    "unwanted_words = ['from the','ination', 'combination', 'pharmaceutical','with','use','by','complications','toxic', 'abuse' ,' of ', 'toxicity associated with', 'intoxiation', 'multidrug', 'toxicity' ,'including', 'chronic substance abuse'\n",
    "    'acute intoxication by the combined effects of','while using' 'recent','effects','ity' ,'toxicities','combined','intoxication', 'acute', 'due to' ,'the', 'combined effects of', 'combined drug toxicity', 'multi-drug', 'following','chronic substance use','(',')']\n",
    "for word in unwanted_words:\n",
    "    DrugDeath_df['COD'] = DrugDeath_df['COD'].str.replace(word, '')\n",
    "\n",
    "# Thay thế 'and' bằng ','\n",
    "DrugDeath_df['COD'] = DrugDeath_df['COD'].str.replace('and', ',')\n",
    "DrugDeath_df['COD'] = DrugDeath_df['COD'].str.replace('  ', ',')\n",
    "DrugDeath_df['COD'] = DrugDeath_df['COD'].str.replace('/', ',')"
   ]
  },
  {
   "cell_type": "markdown",
   "id": "09df91f1",
   "metadata": {},
   "source": [
    "#### Step 2: Create column `Details Cause` "
   ]
  },
  {
   "cell_type": "markdown",
   "id": "9516ac7f",
   "metadata": {},
   "source": [
    "- First, find column name that match with the drug in `COD`."
   ]
  },
  {
   "cell_type": "code",
   "execution_count": null,
   "id": "7ae6a4e5",
   "metadata": {},
   "outputs": [],
   "source": [
    "# Lấy các giá trị duy nhất từ cột 'COD'\n",
    "drug_column = DrugDeath_df.columns[8:-3]\n",
    "drug_column"
   ]
  },
  {
   "cell_type": "markdown",
   "id": "6fa12882",
   "metadata": {},
   "source": [
    "Create a new column from COD , to categorize value in COD to match with the drug columns"
   ]
  },
  {
   "cell_type": "code",
   "execution_count": null,
   "id": "d9c0a79d",
   "metadata": {},
   "outputs": [],
   "source": [
    "#Hợp cột Fetanyl và Fentanyl Analogue thành cột Fentanyl & Analogue có giá trị True nếu có ít nhất 1 trong 2 cột trên có giá trị True\n",
    "DrugDeath_df['Fentanyl & Analogue'] = DrugDeath_df['Fentanyl'] | DrugDeath_df['Fentanyl Analogue']\n",
    "#Bỏ cột Fentanyl và Fentanyl Analogue\n",
    "DrugDeath_df.drop(columns=['Fentanyl', 'Fentanyl Analogue'], inplace=True)"
   ]
  },
  {
   "cell_type": "code",
   "execution_count": null,
   "id": "57dfe77c",
   "metadata": {},
   "outputs": [],
   "source": [
    "import pandas as pd\n",
    "import numpy as np\n",
    "\n",
    "# List of drugs\n",
    "drugs = ['Heroin', 'Cocaine',\n",
    "       'Fentanyl & Analogue', 'Oxycodone', 'Oxymorphone', 'Ethanol',\n",
    "       'Hydrocodone', 'Benzodiazepine', 'Methadone','Amphetamine',\n",
    "       'Tramadol', 'Hydromorphone', 'Morphine',\n",
    "       'Xylazine', 'Gabapentin', 'Opiate NOS', 'Heroin','Codeine']\n",
    "\n",
    "def remove_dup(df, column):\n",
    "    df[column] = df[column].apply(lambda x: ', '.join(sorted(set(str(x).strip() for x in str(x).split(', ')))))\n",
    "    return df\n",
    "\n",
    "#Function to find drugs in 'COD' and add them to 'Details Cause'\n",
    "def find_drugs(row):\n",
    "    global all_stripped_words\n",
    "    a = []\n",
    "    details_cause = []\n",
    "    for drug in drugs:\n",
    "        if drug.lower() in row['COD'].lower() or (drug.lower() + 's') in row['COD'].lower():\n",
    "            details_cause.append(drug)\n",
    "    if 'alcohol' in row['COD'].lower():\n",
    "        details_cause.append('Ethanol')\n",
    "\n",
    "    if 'fentanyl' in row['COD'].lower():\n",
    "        details_cause.append('Fentanyl & Analogue')\n",
    "\n",
    "    if 'opiates' in row['COD'].lower() or 'opiate' in row['COD'].lower() :\n",
    "        details_cause.append('Opiate NOS')\n",
    "\n",
    "    if not details_cause:\n",
    "        details_cause.append('Other')\n",
    "        return ''.join(details_cause)\n",
    "    return ', '.join(details_cause)\n",
    "\n",
    "# Apply the function to the 'COD' column\n",
    "DrugDeath_df['Details Cause'] = DrugDeath_df.apply(find_drugs, axis=1)\n",
    "DrugDeath_df = remove_dup(DrugDeath_df, 'Details Cause')"
   ]
  },
  {
   "cell_type": "code",
   "execution_count": null,
   "id": "86b4e8ec",
   "metadata": {},
   "outputs": [],
   "source": [
    "DrugDeath_df['Details Cause'].str.get_dummies(sep=', ').columns"
   ]
  },
  {
   "cell_type": "markdown",
   "id": "780509f6",
   "metadata": {},
   "source": [
    "# 3. Data Exploration"
   ]
  },
  {
   "cell_type": "markdown",
   "id": "76141036",
   "metadata": {},
   "source": [
    "## 3.1 How are values distributed? "
   ]
  },
  {
   "cell_type": "markdown",
   "id": "d73a2c26",
   "metadata": {},
   "source": [
    "### 3.1.1 With number columns, how are values distributed?"
   ]
  },
  {
   "cell_type": "code",
   "execution_count": null,
   "id": "f89ba0e9",
   "metadata": {},
   "outputs": [],
   "source": [
    "DrugDeath_df['Age'].describe()"
   ]
  },
  {
   "cell_type": "code",
   "execution_count": null,
   "id": "24e90c0f",
   "metadata": {},
   "outputs": [],
   "source": [
    "num_bins = int(np.sqrt((DrugDeath_df['Age'].nunique())))\n",
    "\n",
    "plt.figure(figsize=(10,6))\n",
    "plt.hist(DrugDeath_df['Age'],bins=range(0, 101, 10), edgecolor='black')\n",
    "plt.title('Distribution of Age')\n",
    "plt.xlabel('Age')\n",
    "plt.xticks(range(0, 101, 10))\n",
    "plt.ylabel('Frequency')\n",
    "plt.show()\n"
   ]
  },
  {
   "cell_type": "markdown",
   "id": "a5dbe283",
   "metadata": {},
   "source": [
    "### 3.1.2 With categorical columns, how are values distributed?"
   ]
  },
  {
   "cell_type": "markdown",
   "id": "f4d84f74",
   "metadata": {},
   "source": [
    "For the columns Sex, and Race, let's create pie charts to visualize the distribution of values."
   ]
  },
  {
   "cell_type": "code",
   "execution_count": null,
   "id": "4be55c57",
   "metadata": {},
   "outputs": [],
   "source": [
    "# Đếm số lượng nam và nữ\n",
    "sex_counts = DrugDeath_df['Sex'].value_counts()\n",
    "\n",
    "# Vẽ biểu đồ tròn\n",
    "plt.figure(figsize=(6, 6))\n",
    "plt.pie(sex_counts, labels=sex_counts.index, autopct='%1.1f%%', colors=['blue', 'pink'])\n",
    "plt.title('Tỉ lệ tử vong nam và nữ')\n",
    "plt.show()"
   ]
  },
  {
   "cell_type": "markdown",
   "id": "12657dce",
   "metadata": {},
   "source": [
    "We will calculate the ratio of males to females in the data to gain a more objective perspective."
   ]
  },
  {
   "cell_type": "code",
   "execution_count": null,
   "id": "7c1c6d79",
   "metadata": {},
   "outputs": [],
   "source": [
    "# Tính tỷ lệ tử vong giữa nam và nữ\n",
    "male_deaths = sex_counts['Male']\n",
    "female_deaths = sex_counts['Female']\n",
    "death_ratio = male_deaths / female_deaths\n",
    "print(f\"The male-to-female death ratio.: {death_ratio:.2f}\")"
   ]
  },
  {
   "cell_type": "markdown",
   "id": "59a4a396",
   "metadata": {},
   "source": [
    "We will create a bar chart to visualize the frequency of each drug found in the bodies of the victims."
   ]
  },
  {
   "cell_type": "code",
   "execution_count": null,
   "id": "63d0be0b",
   "metadata": {},
   "outputs": [],
   "source": [
    "import plotly.express as px\n",
    "drug_column = ['Heroin', 'Cocaine',\n",
    "       'Oxycodone', 'Oxymorphone', 'Ethanol', 'Hydrocodone', 'Benzodiazepine',\n",
    "       'Methadone', 'Meth/Amphetamine', 'Amphet', 'Tramad', 'Hydromorphone',\n",
    "       'Morphine (Not Heroin)', 'Xylazine', 'Gabapentin', 'Opiate NOS',\n",
    "       'Heroin/Morph/Codeine', 'Fentanyl & Analogue']\n",
    "\n",
    "#LẶp qua tất cả các cột thuốc, vì đây là boolean nên chỉ cần dùng .sum() để đếm số lượng True\n",
    "drugs_found = DrugDeath_df.copy()\n",
    "drugs_found = drugs_found[drug_column].sum().sort_values(ascending=False)\n",
    "drugs_found \n",
    "\n",
    "# Chuyển đổi Series thành DataFrame để vẽ biểu đồ\n",
    "drugs_found_df = drugs_found.reset_index()\n",
    "drugs_found_df.columns = ['Drug', 'Count']\n",
    "\n",
    "# Vẽ biểu đồ cột\n",
    "fig = px.bar(drugs_found_df, x='Drug', y='Count', title='Số lượng bệnh nhân', color_discrete_sequence=['steelblue'])\n",
    "fig.show()"
   ]
  },
  {
   "cell_type": "markdown",
   "id": "53965ae5",
   "metadata": {},
   "source": [
    "For the column indicating the cause of death, we will examine how many victims were directly related to each type of drug."
   ]
  },
  {
   "cell_type": "code",
   "execution_count": null,
   "id": "fec59cff",
   "metadata": {},
   "outputs": [],
   "source": [
    "# value count for each name of drug in each row\n",
    "\n",
    "def count_drug_frequency(df, column):\n",
    "    # Split the column into separate drugs\n",
    "    df[column] = df[column].str.split(',')\n",
    "\n",
    "    # Expand the lists into separate rows\n",
    "    df = df.explode(column)\n",
    "\n",
    "    # Strip leading/trailing whitespace\n",
    "    df[column] = df[column].str.strip()\n",
    "\n",
    "    # Count the frequency of each drug\n",
    "    drug_counts = df[column].value_counts()\n",
    "\n",
    "    return drug_counts\n",
    "\n",
    "drug_counts = count_drug_frequency(DrugDeath_df.copy(), 'Details Cause')\n",
    "\n",
    "# Chuyển đổi Series thành DataFrame để vẽ biểu đồ\n",
    "drug_counts_df = drug_counts.reset_index()\n",
    "drug_counts_df.columns = ['Drug', 'Count']\n",
    "\n",
    "# Vẽ biểu đồ cột\n",
    "fig = px.bar(drug_counts_df, x='Drug', y='Count', title='Tần suất xuất hiện của từng loại thuốc', color_discrete_sequence=['steelblue'])\n",
    "fig.show()\n",
    "\n",
    "\n"
   ]
  },
  {
   "cell_type": "markdown",
   "id": "33984bb8",
   "metadata": {},
   "source": [
    "## 3.2 The correlation between \"Age\" and \"Types of drugs\""
   ]
  },
  {
   "cell_type": "markdown",
   "id": "06051794",
   "metadata": {},
   "source": [
    "### Step 1: Calculating correlation coefficients"
   ]
  },
  {
   "cell_type": "code",
   "execution_count": null,
   "id": "b18daf7f",
   "metadata": {},
   "outputs": [],
   "source": [
    "# Sao lưu một bản sao của DataFrame gốc\n",
    "df_copy = DrugDeath_df.copy()\n",
    "\n",
    "# Tạo một dictionary để lưu trữ hệ số tương quan giữa 'Age' và các thuốc\n",
    "correlations = {}\n",
    "\n",
    "# Lặp qua từng cột thuốc và tính toán tương quan\n",
    "for column in df_copy.columns:\n",
    "    if df_copy[column].dtype == bool:  # Chỉ xem xét các cột dạng boolean\n",
    "        correlation = df_copy['Age'].corr(df_copy[column].astype(int), method='pearson')\n",
    "        correlations[column] = correlation\n",
    "\n",
    "# In ra các hệ số tương quan\n",
    "for drug, correlation in correlations.items():\n",
    "    print(f\"Correlation between Age and {drug}: {correlation}\")\n"
   ]
  },
  {
   "cell_type": "markdown",
   "id": "c389c566",
   "metadata": {},
   "source": [
    "### Step 2: Visualize by heatmap"
   ]
  },
  {
   "cell_type": "code",
   "execution_count": null,
   "id": "b685c97a",
   "metadata": {},
   "outputs": [],
   "source": [
    "# Chuyển đổi dictionary thành DataFrame để vẽ biểu đồ\n",
    "correlation_df = pd.DataFrame(list(correlations.items()), columns=['Drug', 'Correlation'])\n",
    "\n",
    "# Sắp xếp DataFrame theo giá trị tăng dần của hệ số tương quan\n",
    "correlation_df = correlation_df.sort_values(by='Correlation')\n",
    "\n",
    "# Tạo DataFrame có chỉ số là tên thuốc và cột là 'Age' và giá trị là hệ số tương quan\n",
    "heatmap_data = correlation_df.set_index('Drug').T\n",
    "plt.figure(figsize=(10, 6))\n",
    "sns.heatmap(heatmap_data, annot=False, cmap='coolwarm')\n",
    "plt.title('Correlation Heatmap between Age and Drugs')\n",
    "plt.xlabel('Drug')\n",
    "plt.ylabel('Age')\n",
    "plt.show()"
   ]
  },
  {
   "cell_type": "markdown",
   "id": "1a8a101e",
   "metadata": {},
   "source": [
    "**Nhận xét:**\n",
    "- Ma túy có mức tương quan tiêu cực nhẹ hơn (màu xanh nhạt) bao gồm: Amphet và Meth/Amphetamine.\n",
    "- Gabapentin có mức tương quan tích cực mạnh nhất với tuổi tác (màu đỏ sẫm), có nghĩa là loại ma túy này có thể được sử dụng nhiều hơn bởi những người lớn tuổi.\n",
    "- Các loại ma túy khác như Cocaine, Methadone, và Hydrocodone cũng cho thấy một mức độ tương quan tích cực nhẹ hơn (màu đỏ nhạt)."
   ]
  },
  {
   "cell_type": "markdown",
   "id": "60f2620e",
   "metadata": {},
   "source": [
    "## 3.3 Which are the top 5 cities with the highest number of deaths?"
   ]
  },
  {
   "cell_type": "markdown",
   "id": "bd65fce4",
   "metadata": {},
   "source": [
    "### Step 1: Top 5 cities with the highest death counts"
   ]
  },
  {
   "cell_type": "code",
   "execution_count": null,
   "id": "01a2c7b3",
   "metadata": {},
   "outputs": [],
   "source": [
    "# Tạo bản sao dataframe\n",
    "DrugDeath_df_copy = DrugDeath_df.copy()\n",
    "\n",
    "top_cities = DrugDeath_df_copy['DeathCityGeo'].value_counts()"
   ]
  },
  {
   "cell_type": "markdown",
   "id": "1ed3cd94",
   "metadata": {},
   "source": [
    "### Step 2: Visualize"
   ]
  },
  {
   "cell_type": "code",
   "execution_count": null,
   "id": "162469ba",
   "metadata": {},
   "outputs": [],
   "source": [
    "# Lọc dữ liệu cho 5 thành phố có số lượng tử vong cao nhất\n",
    "top_cities_data = DrugDeath_df_copy[DrugDeath_df_copy['DeathCityGeo'].isin(top_cities.index)]\n",
    "\n",
    "# Tách dữ liệu về vĩ độ (latitude) và kinh độ (longitude) từ cột 'DeathCityGeo'\n",
    "lat_lon = top_cities_data['DeathCityGeo'].str.extract(r'\\(([-+]?\\d+\\.\\d+), ([-+]?\\d+\\.\\d+)\\)')\n",
    "\n",
    "# Xử lý ngoại lệ: Nếu không tìm thấy tên thành phố, đặt là 'Noname'\n",
    "top_cities_data['City'] = top_cities_data['DeathCityGeo'].str.extract(r'\\s(.*),').fillna('Noname')\n",
    "\n",
    "top_cities_data['Latitude'] = lat_lon[0].astype(float)\n",
    "top_cities_data['Longitude'] = lat_lon[1].astype(float)\n",
    "\n",
    "# Tạo một bản đồ được căn chỉnh vào tọa độ trung bình (median coordinates)\n",
    "map_center = list(top_cities_data[['Latitude', 'Longitude']].median())\n",
    "m = folium.Map(location=map_center, zoom_start=5)\n",
    "\n",
    "# Thêm các đánh dấu cho các thành phố hàng đầu\n",
    "mc = MarkerCluster()\n",
    "for idx, row in top_cities_data.iterrows():\n",
    "    if row['City'] == 'Noname':\n",
    "        popup_text = 'Noname'\n",
    "    else:\n",
    "        popup_text = f\"{row['City']}\"\n",
    "    mc.add_child(folium.Marker([row['Latitude'], row['Longitude']], popup=popup_text))\n",
    "\n",
    "m.add_child(mc)\n",
    "\n",
    "m\n"
   ]
  },
  {
   "cell_type": "markdown",
   "id": "0f638657",
   "metadata": {},
   "source": [
    "**Nhận xét:**\n",
    "- Thành phố không rõ tên (có tọa độ 41.573507300003, -72.738509097997) dẫn đầu với số lượng tử vong vượt quá 1400.\n",
    "- Hartford, CT (với tọa độ 41.765775, -72.673356) tiếp theo với số lượng tử vong hơn 800.\n",
    "- New Haven, CT (tọa độ 41.308252, -72.924161) với số lượng tử vong hơn 600.\n",
    "- Waterbury, CT (tọa độ 41.554261, -73.043069) có số lượng tử vong hơn 400.\n",
    "- Bridgeport, CT (tọa độ 41.179195, -73.189476) với số lượng tử vong gần 400."
   ]
  },
  {
   "cell_type": "markdown",
   "id": "28f5a43b",
   "metadata": {},
   "source": [
    "## 3.4 Top 5 most common details of death causes?"
   ]
  },
  {
   "cell_type": "markdown",
   "id": "4f2969ee",
   "metadata": {},
   "source": [
    "### Step 1: Counting occurrences of each death cause detail. Then selecting the top 5"
   ]
  },
  {
   "cell_type": "code",
   "execution_count": null,
   "id": "f18810a2",
   "metadata": {},
   "outputs": [],
   "source": [
    "# Sao lưu một bản sao của DataFrame gốc\n",
    "df_copy = DrugDeath_df.copy()\n",
    "\n",
    "# Counting occurrences of each death cause detail and selecting the top 5\n",
    "top_5_death_causes = df_copy['Details Cause'].value_counts().head(5)\n",
    "\n",
    "# Displaying the top 5 most common death cause details\n",
    "print(\"Top 5 Most Common Death Cause Details:\")\n",
    "print(top_5_death_causes)"
   ]
  },
  {
   "cell_type": "markdown",
   "id": "974890a6",
   "metadata": {},
   "source": [
    "### Step 2: Visualize by bar chart"
   ]
  },
  {
   "cell_type": "code",
   "execution_count": null,
   "id": "0ee40050",
   "metadata": {},
   "outputs": [],
   "source": [
    "# Vẽ biểu đồ cho 5 nguyên nhân gây tử vong phổ biến nhất\n",
    "plt.figure(figsize=(10, 6))\n",
    "top_5_death_causes.plot(kind='barh', color='steelblue')\n",
    "plt.title('Top 5 Most Common Death Cause Details')\n",
    "plt.xlabel('Number of Occurrences')\n",
    "plt.ylabel('Death Cause Details')\n",
    "plt.show()"
   ]
  },
  {
   "cell_type": "markdown",
   "id": "e4f4579d",
   "metadata": {},
   "source": [
    "**Nhận xét:**\n",
    "- Các nguyên nhân từ cao xuống thấp là:\n",
    "    - Fentanyl, Fentanyl Analog, Heroin\n",
    "    - Ethanol, Fentanyl, Fentanyl Analog\n",
    "    - Heroin\n",
    "    - Cocaine, Fentanyl, Fentanyl Analog\n",
    "    - Fentanyl, Fentanyl Analog\n",
    "- Nguyên nhân hàng đầu gây tử vong là sự kết hợp của Fentanyl, Fentanyl Analog và Heroin với số lần xuất hiện gần 1400 lần. Các nguyên nhân khác cũng chứa Fentanyl và các chất analog của nó, cho thấy rằng Fentanyl là một vấn đề lớn trong các trường hợp tử vong liên quan đến ma túy.\n",
    "- Heroin và Ethanol cũng được nhắc đến như là các nguyên nhân chính"
   ]
  },
  {
   "cell_type": "markdown",
   "id": "0f2b2efe",
   "metadata": {},
   "source": [
    "# 4. Meaningful Questions"
   ]
  },
  {
   "cell_type": "markdown",
   "id": "986ef56a",
   "metadata": {},
   "source": [
    "## 4.1 Question 1: Tìm các thuốc(Cause) có tỉ lệ tử vong cao nhất , với các thuốc dó thì xu hướng sử dụng, xu hướng tử vong qua mỗi năm thay đổi như thế nào?\n",
    "\n",
    "- Benefit:\n",
    "    - Giúp chính phủ có biện pháp hạn chế phù hợp đối với việc sử dụng các chất trên.\n",
    "    - Đưa ra cảnh báo cho người dân.\n"
   ]
  },
  {
   "cell_type": "code",
   "execution_count": null,
   "id": "e8127779",
   "metadata": {},
   "outputs": [],
   "source": [
    "cause_info = cause_count = DrugDeath_df.copy()\n",
    "cause_count['Details Cause'] = cause_info['Details Cause'].str.split(', ').copy()\n",
    "# Sử dụng .stack() để chuyển đổi dữ liệu thành dạng stack\n",
    "stacked_values = cause_count['Details Cause'].apply(pd.Series).stack()\n",
    "\n",
    "# Đếm số lần xuất hiện của mỗi giá trị\n",
    "top_5_values = stacked_values.value_counts().nlargest(5)\n",
    "\n",
    "print(top_5_values)"
   ]
  },
  {
   "cell_type": "code",
   "execution_count": null,
   "id": "e2755f1e",
   "metadata": {},
   "outputs": [],
   "source": [
    "import matplotlib.pyplot as plt\n",
    "\n",
    "# Tạo một cột mới 'Year' bằng cách trích xuất năm từ cột 'Date'\n",
    "cause_info['Year'] = cause_info['Date'].dt.year\n",
    "\n",
    "# Tạo DataFrame mới để lưu trữ số lần xuất hiện của từng giá trị theo năm\n",
    "yearly_counts = pd.DataFrame()\n",
    "\n",
    "# Vòng lặp qua top 5 giá trị\n",
    "for value in top_5_values.index:\n",
    "    # Tạo một mask boolean cho từng giá trị\n",
    "    mask = cause_info['Details Cause'].apply(lambda x: value in x)\n",
    "    # Đếm số lần xuất hiện của giá trị trong mỗi năm\n",
    "    yearly_count = cause_info[mask].groupby('Year').size()\n",
    "    # Thêm số lần xuất hiện vào DataFrame\n",
    "    yearly_counts[value] = yearly_count\n",
    "\n",
    "# Vẽ biểu đồ đường\n",
    "%matplotlib inline \n",
    "plt.figure(figsize=(6, 6))\n",
    "yearly_counts.plot(kind='line')\n",
    "plt.title('Số lần xuất hiện của từng giá trị hàng đầu theo năm')\n",
    "plt.xlabel('Năm')\n",
    "# plt.xticks(range(2012, 2023))\n",
    "plt.ylabel('Số ca tuvong liên quan')\n",
    "# Điều chỉnh chiều rộng của trục x\n",
    "plt.show()\n"
   ]
  },
  {
   "cell_type": "markdown",
   "id": "47fa1112",
   "metadata": {},
   "source": [
    "Nhận xét:\n",
    "- Chúng ta có thể thấy với hai chất `Fentanyl` và `Fentanyl Analogue`, Số ca tử vong có liên quan tới hai chất này tăng mạnh qua hàng năm và đạt đỉnh ở năm 2021 (hơn 1200 ca). Tuy nhiên  2021 trở đi, có sự giảm thiểu về số ca mà hai chất này có liên quan. \n",
    "- Với hai chất `Cocaine và Ethanol`, số ca có tử vong liên quan tới hai chất này nhìn chung luôn tăng đều. Tuy nhiên vào năm 2021, có sự suy giảm ở số lượng ca có liên quan tới `Ethanol`.\n",
    "- Với `Heroin`, Số ca tử vong liên quan tới chất này đạt đỉnh ở năm 2016 với khoảng 500 ca và giảm dần cho tới năm 2022. Có thể thấy chất này được quản lí tốt.\n"
   ]
  },
  {
   "cell_type": "markdown",
   "id": "dc085c65",
   "metadata": {},
   "source": [
    "## 4.3 Question 3: Liệu có sự khác biệt về loại ma tuý được sử dụng ở các chủng tộc/ nhóm tuổi hay không?\n",
    "\n",
    "Lợi ích: giúp chúng ta hiểu rõ hơn về mô hình sử dụng ma tuý trong cộng đồng, xác định được những nhóm có nguy cơ cao nhất. Từ đó chúng ta có thể phát triển các chiến lược can thiệp và phòng ngừa ma tuý hiệu quả hơn, dựa trên nhu cầu cụ thể của từng nhóm"
   ]
  },
  {
   "cell_type": "code",
   "execution_count": null,
   "id": "71003bb7",
   "metadata": {
    "scrolled": false
   },
   "outputs": [],
   "source": [
    "df = DrugDeath_df.copy()\n",
    "\n",
    "drugs = ['Heroin', 'Cocaine', 'Fentanyl & Analogue', 'Oxycodone', 'Oxymorphone', 'Ethanol',\n",
    "         'Hydrocodone', 'Benzodiazepine', 'Methadone', 'Meth/Amphetamine', 'Amphet', 'Tramad', \n",
    "         'Hydromorphone', 'Morphine (Not Heroin)', 'Xylazine', 'Gabapentin', 'Opiate NOS', \n",
    "         'Heroin/Morph/Codeine']\n",
    "\n",
    "race_groups = {\n",
    "    \"White Group\": [\"White\"],\n",
    "    \"Black Group\": [\"Black\", \"Black or African American\"],\n",
    "    \"Asian Group\": [\"Asian, Other\", \"Asian Indian\", \"Other Asian\", \"Chinese\", \"Korean\"],\n",
    "    \"Unknown/Other Group\": [\"Unknown\", \"Other\", \"American Indian or Alaska Native\", \"Hawaiian\", \"Native American, Other\"]\n",
    "}\n",
    "\n",
    "bins = [0, 25, 60, 100]\n",
    "labels = [\"Young\", \"Middle\", \"Old\"]\n",
    "df['AgeGroup'] = pd.cut(df['Age'], bins=bins, labels=labels)\n",
    "df['RaceGroup'] = df['Race'].apply(lambda race: next((group for group, races in race_groups.items() if race in races), \"Unknown/Other Group\"))\n",
    "\n",
    "# Heatmap 1\n",
    "df_drug_usage = df.groupby(['AgeGroup', 'RaceGroup'], observed = False)[drugs].sum().reset_index().melt(id_vars=['AgeGroup', 'RaceGroup'], value_vars=drugs, var_name='Drug', value_name='Count')\n",
    "\n",
    "plt.figure(figsize=(10, 8))\n",
    "sns.heatmap(df_drug_usage.pivot_table(index='Drug', columns=['AgeGroup', 'RaceGroup'], values='Count'), cmap='YlGnBu')\n",
    "plt.title('Drug Usage by Age Group and Race Group')\n",
    "plt.show()\n",
    "\n",
    "# Heatmap 2\n",
    "drugs = ['Amphetamine', 'Benzodiazepine', 'Cocaine', 'Codeine', 'Ethanol',\n",
    "       'Fentanyl & Analogue', 'Gabapentin', 'Heroin', 'Hydrocodone',\n",
    "       'Hydromorphone', 'Methadone', 'Morphine', 'Opiate NOS',\n",
    "       'Oxycodone', 'Oxymorphone', 'Tramadol', 'Xylazine']\n",
    "\n",
    "df = df[['AgeGroup', 'RaceGroup', 'Details Cause']].join(df['Details Cause'].str.get_dummies(sep=', '))\n",
    "df_drug_usage = df.groupby(['AgeGroup', 'RaceGroup'],  observed = False)[drugs].sum().reset_index().melt(id_vars=['AgeGroup', 'RaceGroup'], var_name='Drug', value_name='Count')\n",
    "\n",
    "plt.figure(figsize=(10, 8))\n",
    "sns.heatmap(df_drug_usage.pivot_table(index='Drug', columns=['AgeGroup', 'RaceGroup'], values='Count'), cmap='YlGnBu')\n",
    "plt.title('Drug Related Deaths by Age Group and Race Group')\n",
    "plt.show()\n"
   ]
  },
  {
   "cell_type": "markdown",
   "id": "a06fd170",
   "metadata": {},
   "source": [
    "Nhận xét: \n",
    "- 3 nhóm người sử dụng nhiều ma tuý nhất là Middle-White, Middle-Black và Young-White.\n",
    "- Độ tuổi dùng thuốc tập trung chủ yếu ở Young và Middle\n",
    "- Nhóm dân Châu Á ít sử dụng thuốc nhất, nhóm White dùng nhiều nhất.\n",
    "- Ở các nhóm dùng ma tuý nhiều, có xu hướng chung: sử dụng nhiều nhất là Fetanyl, Cocain, Heroin, Ethanol\n",
    "- Với biểu đồ về loại thuốc liên quan trục tiếp đến cái chết của nạn nhân, có thể thấy rằng Fentanyl, Cocaine, Heroin, Ethanol là những loại thuốc gây ra nhiều cái chết nhất, tương tự như biểu đồ về loại thuốc sử dụng\n",
    "- Có sự tương đồng giữa số nạn nhân sử dụng một loại thuốc và số nạn nhân có nguyên nhân tử vong do loại thuốc đó gây ra, 2 thông số này gàn như suýt soát nhau, điều này có thể chứng minh rắng các loại thuốc này rất độc, tỉ lệ tử vong khá cao"
   ]
  },
  {
   "cell_type": "markdown",
   "id": "aeab4a12",
   "metadata": {},
   "source": [
    "## 4.4 Question 4: Liệu độ tuổi sử dụng các chất kích thích có bị trẻ hóa?\n",
    "Như trong phần EDA, ta có thể thấy số lượng ca tử vong liên quan tới các chất tăng dần qua hàng năm. Liệu xu hướng đó có trẻ hóa?\n",
    "- Lợi ích: \n",
    "    - Giúp chính quyền đưa ra các chính sách quản lý và răn đe phù hợp.\n",
    "    - Giúp người dân nâng cao ý thức cảnh giác.\n",
    "    - Hạn chế tệ nạn xã hội, giúp nâng cao chất lượng con  người."
   ]
  },
  {
   "cell_type": "code",
   "execution_count": null,
   "id": "a4225b8a",
   "metadata": {},
   "outputs": [],
   "source": [
    "df = DrugDeath_df.copy()\n",
    "df['Date'] = pd.to_datetime(df['Date'])\n",
    "# Tạo cột 'Year' từ 'Date'\n",
    "df['Year'] = df['Date'].dt.year\n",
    "\n",
    "df[[\"Age\",\"Year\"]]\n",
    "\n",
    "# Tạo 3 nhóm tuổi\n",
    "df['Age_Group'] = pd.cut(df['Age'], bins=[0, 25, 50, np.inf], labels=['<=25', '25-50', '>50'])\n",
    "\n",
    "# Tính số lượng người trong mỗi nhóm tuổi qua từng năm\n",
    "age_group_counts = df.groupby(['Year', 'Age_Group']).size().unstack()\n",
    "\n",
    "# Vẽ line chart\n",
    "plt.figure(figsize=(10, 6))\n",
    "for column in age_group_counts.columns:\n",
    "    plt.plot(age_group_counts.index, age_group_counts[column], marker='', linewidth=2, label=column)\n",
    "\n",
    "plt.title('Số ca tử vong theo nhóm tuổi qua hằng năm')\n",
    "plt.xlabel('Year')\n",
    "plt.ylabel('Số ca')\n",
    "plt.legend()\n",
    "plt.show()\n",
    "\n"
   ]
  },
  {
   "cell_type": "markdown",
   "id": "4b9beed5",
   "metadata": {},
   "source": [
    "## 4.2 Question 2: Các thuốc gây nguyên nhân tử vong cao nhất cho từng nhóm tuổi và sự chuyển biến của nó theo độ tuổi?"
   ]
  },
  {
   "cell_type": "markdown",
   "id": "59b90400",
   "metadata": {},
   "source": [
    "- Lợi ích của câu hỏi:\n",
    "    - Có cái nhìn sâu hơn về các vấn đề sức khỏe và nguyên nhân gây tử vong ở mỗi nhóm độ tuổi cụ thể.\n",
    "    - Hỗ trợ việc đưa ra các chính sách y tế cụ thể nhằm giảm thiểu nguy cơ tử vong, tăng cường giám sát và cải thiện chăm sóc sức khỏe cho từng nhóm tuổi.\n",
    "    - Phát hiện ra những đặc điểm, xu hướng đặc trưng của từng nhóm tuổi trong việc sử dụng và ảnh hưởng của các loại thuốc khác nhau."
   ]
  },
  {
   "cell_type": "code",
   "execution_count": null,
   "id": "6be72749",
   "metadata": {},
   "outputs": [],
   "source": [
    "DrugDeath_df_copy = DrugDeath_df.copy()\n",
    "DrugDeath_df_copy = DrugDeath_df_copy.explode('Details Cause')"
   ]
  },
  {
   "cell_type": "markdown",
   "id": "4b9322e7",
   "metadata": {},
   "source": [
    "### Step 1: Phân loại cột \"Age\" thành các nhóm độ tuổi theo quy định quốc tế"
   ]
  },
  {
   "cell_type": "code",
   "execution_count": null,
   "id": "9e22d6a0",
   "metadata": {},
   "outputs": [],
   "source": [
    "# Phân loại độ tuổi thành 3 nhóm\n",
    "def classify_age_group(age):\n",
    "    if age > 55:\n",
    "        return 'Người già'\n",
    "    elif 35 <= age <= 55:\n",
    "        return 'Người trung niên'\n",
    "    elif 18 <= age <= 34:\n",
    "        return 'Người thanh niên'\n",
    "    elif 14 <= age <= 17:\n",
    "        return 'Người vị thành niên'\n",
    "    else:\n",
    "        return 'Người thiếu nhi'\n",
    "\n",
    "DrugDeath_df_copy['Age Group'] = DrugDeath_df_copy['Age'].apply(classify_age_group)"
   ]
  },
  {
   "cell_type": "markdown",
   "id": "8572fc12",
   "metadata": {},
   "source": [
    "### Step 2: Tìm mỗi loại thuốc gây tử vong cao nhất ở mỗi độ tuổi"
   ]
  },
  {
   "cell_type": "code",
   "execution_count": null,
   "id": "106acefa",
   "metadata": {},
   "outputs": [],
   "source": [
    "# Nhóm theo Age Group và Details Death, đếm số lần xuất hiện của mỗi loại thuốc\n",
    "top_drugs_by_age = DrugDeath_df_copy.groupby(['Age Group', 'Details Cause']).size().reset_index(name='count')\n",
    "\n",
    "# Tìm loại thuốc gây tử vong nhiều nhất trong mỗi nhóm tuổi\n",
    "top_drugs_by_age = top_drugs_by_age.loc[top_drugs_by_age.groupby('Age Group')['count'].idxmax()]\n",
    "\n",
    "# Đổi tên cột 'Details Cause' thành 'Name of Drug'\n",
    "top_drugs_by_age = top_drugs_by_age.rename(columns={'Details Cause': 'Name of Drug'})\n",
    "\n",
    "print(top_drugs_by_age)"
   ]
  },
  {
   "cell_type": "markdown",
   "id": "ce818b5d",
   "metadata": {},
   "source": [
    "- Ta thấy, ở tất cả 5 nhóm độ tuổi, loại thuốc gây tử vong cao nhất đều là `Fentanyl Analogue`. Do đó ta không cần phải vẽ mỗi loại thuốc gây tử vong cao nhất cho từng độ tuổi để minh họa sự chuyển biến của loại thuốc đó lên các độ tuổi còn lại. Mà ta chỉ cần vẽ một đồ thị để minh họa tác động của loại thuốc `Fentanyl Analogue` lên 5 nhóm tuổi mà ta đã phân loại trước đó."
   ]
  },
  {
   "cell_type": "markdown",
   "id": "05e026da",
   "metadata": {},
   "source": [
    "### Step 3: Minh họa bằng biểu đồ đường"
   ]
  },
  {
   "cell_type": "code",
   "execution_count": null,
   "id": "0f44ab15",
   "metadata": {},
   "outputs": [],
   "source": [
    "age_groups = ['Người thiếu nhi', 'Người vị thành niên', 'Người thanh niên', 'Người trung niên', 'Người già']\n",
    "\n",
    "# Lấy dữ liệu cho biểu đồ\n",
    "deaths_by_age_group = [top_drugs_by_age[top_drugs_by_age['Age Group'] == age]['count'].values[0] for age in age_groups]\n",
    "# Vẽ biểu đồ đường\n",
    "plt.figure(figsize=(8, 6))\n",
    "plt.plot(age_groups, deaths_by_age_group, marker='o', linestyle='-', color='red')\n",
    "plt.xlabel('Age Group')\n",
    "plt.ylabel('Number of Deaths')\n",
    "plt.title('Number of Deaths by Fentanyl Analogue in Different Age Groups')\n",
    "plt.xticks(rotation=45)\n",
    "\n",
    "# Thêm chú thích số lên mỗi điểm\n",
    "for i, txt in enumerate(deaths_by_age_group):\n",
    "    plt.text(age_groups[i], txt, str(txt), ha='center', va='bottom')\n",
    "\n",
    "plt.tight_layout()\n",
    "plt.show()\n"
   ]
  },
  {
   "cell_type": "markdown",
   "id": "4fdc9213",
   "metadata": {},
   "source": [
    "- Nhận xét:\n",
    "    - Ta thấy mặc dù ở mỗi nhóm tuổi khác nhau, thì loại thuốc `Fentanyl Analogue` đều gây tử vong nhiều nhất.\n",
    "    - Tuy nhiên, ta cũng có thể nhìn thấy được, ở nhóm tuổi `Người Trung Niên` có mức độ tử vong cao nhất gây ra bởi loại thuốc `Fentanyl Analogue` so với các nhóm tuổi khác.\n",
    "    - Ở các nhóm tuổi có sức lao động cao lại có xu hướng dễ bị tử vong vì sốc thuốc.\n",
    "    - Ở đây, ta thêm vào nhóm tuổi là thiếu nhi chỉ mang tính chất tượng trưng, tuy nhiên, ở trong dữ liệu này cũng đã xuất hiện có một ca tử vong. Và có thể xu hướng này có thể tăng thêm nữa.  "
   ]
  },
  {
   "cell_type": "markdown",
   "id": "cf86c728",
   "metadata": {},
   "source": [
    "## Q5. Liệu có sự khác biệt về tình hình sử dụng ma tuý giữa 3 thành phố có nhiều nạn nhân nhất hay không?\n",
    "\n",
    "Nếu tồn tại sự khác biệt đáng kể về tình hình sử dụng ma tuý giữa các thành phố, điều này sẽ yêu cầu chính phủ phải thực hiện các chính sách và biện pháp can thiệp riêng biệt, phù hợp với từng địa phương để kiểm soát tình hình. \n",
    "\n",
    "Do đó, em muốn tiến hành phân tích để xác định xem có sự khác biệt nào giữa các thành phố hay không, nhằm cung cấp một cái nhìn chi tiết và rõ ràng về tình hình sử dụng ma tuý tại các thành phố khác nhau"
   ]
  },
  {
   "cell_type": "code",
   "execution_count": null,
   "id": "d8af63a3",
   "metadata": {},
   "outputs": [],
   "source": [
    "#Chọn ra 3 thành phố xuất hiện nhiều nhất trong dữ liệu\n",
    "top_cities = DrugDeath_df['DeathCityGeo'].value_counts().head(10)\n",
    "#Bỏ giá trị đầu\n",
    "top_cities = top_cities[1:]"
   ]
  },
  {
   "cell_type": "code",
   "execution_count": null,
   "id": "a6195588",
   "metadata": {},
   "outputs": [],
   "source": [
    "df = DrugDeath_df.copy()\n",
    "df['Age Group'] = pd.cut(df['Age'], bins=[0, 25, 60, 100], labels=['Young', 'Middle', 'Old'])\n",
    "df['Year'] = pd.DatetimeIndex(df['Date']).year\n",
    "\n",
    "#chọn ra 3 thành phố có nhiều nạn nhân nhất (trừ giá trị đầu, vì nó là chir ghi chung chung Connecticut)\n",
    "top_cities = df['DeathCityGeo'].value_counts().head(4)\n",
    "# Bỏ giá trị đầu\n",
    "top_cities = top_cities[1:]\n",
    "\n",
    "city_stats = df[DrugDeath_df['DeathCityGeo'].isin(top_cities.index)].groupby('DeathCityGeo').apply(lambda city_data: pd.Series({\n",
    "    'Death Count': len(city_data),\n",
    "    'Average Age': city_data['Age'].mean(),\n",
    "    'Growth Rate': city_data['Year'].value_counts().sort_index().pct_change().mean(),\n",
    "    'Old Percentage': (city_data['Age Group'] == 'Old').mean() * 100,\n",
    "    'Middle Percentage': (city_data['Age Group'] == 'Middle').mean() * 100,\n",
    "    'Young Percentage': (city_data['Age Group'] == 'Young').mean() * 100\n",
    "})).reset_index()\n",
    "\n",
    "city_stats"
   ]
  },
  {
   "cell_type": "code",
   "execution_count": null,
   "id": "0fa188fe",
   "metadata": {},
   "outputs": [],
   "source": [
    "df = city_stats.set_index('DeathCityGeo')\n",
    "\n",
    "# Scale dữ liệu theo từng cột bằng cách lấy giá trị trong từng cột chia cho max\n",
    "for col in df.columns:\n",
    "    df[col] = df[col] / df[col].max()\n",
    "\n",
    "df_scaled = df\n",
    "\n",
    "fig = go.Figure()\n",
    "\n",
    "for i in range(len(df_scaled)):\n",
    "    fig.add_trace(go.Scatterpolar(\n",
    "        r=df_scaled.loc[df_scaled.index[i], :].tolist(),\n",
    "        theta=df_scaled.columns.tolist(),\n",
    "        fill='toself',\n",
    "        name=df_scaled.index[i]\n",
    "    ))\n",
    "\n",
    "# Cập nhật layout\n",
    "fig.update_layout(\n",
    "    polar=dict(\n",
    "        radialaxis=dict(\n",
    "            visible=True,\n",
    "            range=[0, 1]\n",
    "        )),\n",
    "    showlegend=True\n",
    ")\n",
    "\n",
    "fig.show()\n"
   ]
  },
  {
   "cell_type": "markdown",
   "id": "5331df35",
   "metadata": {},
   "source": [
    "Nhận xét:\n",
    "- Tuổi thọ trung bình của nạn nhân ở các thành phố là như nhau, khoảng 44 tuổi\n",
    "- Tỉ lệ nạn nhân tử vong ở độ tuổi trung niên của các thành phố cũng tương đương nhau, khoảng 80%\n",
    "- Ở thành phố Hartford, đây là thành phố đứng đầu về số nạn nhân tử vong. Tỉ lệ tăng trưởng trung bình ở đây cũng là cao nhất trong các thành phố. Tỉ lệ lớp trẻ dùng ma tuý ở đây cũng cao hơn so với các thành phố khác.\n",
    "- Ở thành phố New Heaven, tỉ lệ tăng trưởng trung bình ở đây cao hơn so với thành phố Waterbury, và thấp hơn Hartford. Tỉ lệ lớp trẻ dùng ma tuý ở đây cũng gần như tương tự Hartford. Bên cạnh đó, tỉ lệ lớp lớn tuổi tử vong vì ma tuý ở đây cao nhất trong 3 thành phố.\n",
    "- Đứng thứ 3 trong danh sách là thành phố Waterbury, tỉ lệ tăng trưởng trung bình ở đây thấp nhất trong 3 thành phố. Tỉ lệ lớp trẻ dùng ma tuý ở đây cũng thấp hơn hẳn so với Hartford và New Heaven, chỉ bằng khoảng 1 nửa các thành phố này.\n",
    "\n",
    "Từ đó, ta thấy được rằng, tình hình sử dụng ma tuý ở thành phố Hartford và New Heaven là tồi tệ nhất, có xu hướng trẻ hoá. Ở thành phố Waterbury, tình hình sử dụng ma tuý tương đối khả quan hơn nhiều, chứng tỏ các biện pháp kiểm soát tại đây đã có hiệu quả hơn so với các thành phố khác."
   ]
  },
  {
   "cell_type": "markdown",
   "id": "02483f21",
   "metadata": {},
   "source": [
    "# 5. Reflection"
   ]
  },
  {
   "cell_type": "markdown",
   "id": "1a7d8439",
   "metadata": {},
   "source": [
    "## 5.1 Những khó khăn gặp phải\n"
   ]
  },
  {
   "cell_type": "markdown",
   "id": "15b61d49",
   "metadata": {},
   "source": [
    "### Khó khăn khi tìm bộ dữ liệu"
   ]
  },
  {
   "cell_type": "markdown",
   "id": "0a95e91e",
   "metadata": {},
   "source": [
    "Giữa muôn vàng dataset để lựa chọn, chúng em phân vân không biết nên chọn dataset nào cho đồ án lần này."
   ]
  },
  {
   "cell_type": "markdown",
   "id": "345174d4",
   "metadata": {},
   "source": [
    "### Khó khăn khi xử lí các giá trị tên thuốc."
   ]
  },
  {
   "cell_type": "markdown",
   "id": "2425e1d5",
   "metadata": {},
   "source": [
    "- Ở bước xử lí cho cột `Details Cause`, chúng em gặp phải một vấn đề rất lớn đó là đưa các tên thuốc vào cột này.\n",
    "Trong khi các giá trị trong cột `Cause of Death` (Nguyên nhân chính gây tử vong) sẽ có các giá trị như `Tramadol` hay `Amphetamine`. Thì các cột tên thuốc lại là giá trị viết tắt\n",
    "như `Tramad`, `Amphet`. Có rất nhiều các giá trị như vậy nên chúng em khó có thể tìm kiếm và xử lí chúng.\n",
    "- Hơn nữa, các giá trị tên thuốc trong cột `Cause of Death` thường đi với những từ ngữ khác, ví dụ như `due to the combined of`, `and`,... Nên để loại bỏ những từ rác và lấy những tên thuốc quan trọng cũng là một điều khó khăn."
   ]
  },
  {
   "cell_type": "markdown",
   "id": "25e60c9d",
   "metadata": {},
   "source": [
    "### Khó khăn khi suy nghĩ câu hỏi hữu ích."
   ]
  },
  {
   "cell_type": "markdown",
   "id": "3a80d915",
   "metadata": {},
   "source": [
    "- Do đặc thù của dataset này có rất nhiều cột tên thuốc có kiểu boolean, có nhiều cột có tỉ lệ missing value cao và bắt buộc phải loại bỏ. Nên số lượng các cột hữu ích còn lại là khá khiêm tốn, khiến việc đặt câu hỏi hữu ích khá khó khăn."
   ]
  },
  {
   "cell_type": "markdown",
   "id": "654f46d6",
   "metadata": {},
   "source": [
    "## 5.2 Chúng em sẽ làm gì nếu có nhiều thời gian hơn?"
   ]
  },
  {
   "cell_type": "markdown",
   "id": "de0de6d9",
   "metadata": {},
   "source": [
    "### Xử lí hoàn hảo hơn cho các cột tên thuốc"
   ]
  },
  {
   "cell_type": "markdown",
   "id": "48e728a8",
   "metadata": {},
   "source": [
    "Chúng em sẽ tiến hành tìm tất cả các tên thuốc trong cột `Cause of Death`, sau đó đổi những tên cột được viết tắt(hay đặt tên khác) thành những tên cột tương ứng với Cause of Death để tận dụng được các cột này."
   ]
  },
  {
   "cell_type": "markdown",
   "id": "3f57318e",
   "metadata": {},
   "source": [
    "### Sử dụng mô hình học máy để trả lời những câu hỏi hữu ích."
   ]
  },
  {
   "cell_type": "markdown",
   "id": "113b034a",
   "metadata": {},
   "source": [
    "Do đặc thù của bộ dữ liệu, chúng em không biết để áp dụng học máy vào bộ dữ liệu này như thế nào. Hồi quy cái gì? Phân loại những gì? Khi mà câu hỏi đặt ra sẽ có những điểm không hợp lí. Ví dụ như:\n",
    "- Phân loại nhóm người nào sử dụng những chất nào: Bài toán này khá nhạy cảm, khi nó có thể liên quan đến phân biệt chủng tộc.\n"
   ]
  },
  {
   "cell_type": "markdown",
   "id": "faf2fb89",
   "metadata": {},
   "source": [
    "# References"
   ]
  }
 ],
 "metadata": {
  "kernelspec": {
   "display_name": "Python 3 (ipykernel)",
   "language": "python",
   "name": "python3"
  },
  "language_info": {
   "codemirror_mode": {
    "name": "ipython",
    "version": 3
   },
   "file_extension": ".py",
   "mimetype": "text/x-python",
   "name": "python",
   "nbconvert_exporter": "python",
   "pygments_lexer": "ipython3",
   "version": "3.10.11"
  }
 },
 "nbformat": 4,
 "nbformat_minor": 5
}
