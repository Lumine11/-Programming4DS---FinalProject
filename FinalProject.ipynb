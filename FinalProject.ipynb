{
 "cells": [
  {
   "cell_type": "markdown",
   "id": "f310ab9f",
   "metadata": {},
   "source": [
    "# Programming for Data Science - 21KHDL1\n",
    "# Final Project\n",
    "# Topic:\n",
    "\n",
    "## Student Information \n",
    "| MSSV     | Họ tên          |\n",
    "| -------- | --------------- |\n",
    "| 21120570 | Đặng Nguyễn Thanh Tín |\n",
    "| 21120574 | Nguyễn Minh Trí |\n",
    "| 21120580 | Trần Thị Kim Trinh |\n",
    "\n",
    "## Table of contents\n",
    "- [Overview](#overview)\n",
    "- [Data Collection](#data-collection)\n",
    "- [Data Pre-processing and Exploration](#data-pre-processing-and-exploration)\n",
    "- [Quick view of Data](#quick-view-of-data)\n",
    "- [Questions](#questions)\n",
    "- [Reflection](#reflection)\n",
    "- [References](#references)\n",
    "\n",
    "\n",
    "# Overview\n",
    "\n",
    "The Kaggle dataset on drug-related deaths from 2012-2018 provides comprehensive health-related information, encompassing various factors such as drug categories, demographics including gender and age, and the geographical context of fatalities. Despite its age, this data serves as a crucial resource for comprehending the drug issue and proposing preventative measures. Analyzing the dataset can pinpoint trends and factors contributing to fatalities, supporting prevention and treatment efforts. This presents an opportunity to address the public health challenge and formulate effective anti-drug strategies."
   ]
  },
  {
   "cell_type": "markdown",
   "id": "82db38a2",
   "metadata": {},
   "source": [
    "Libraries used"
   ]
  },
  {
   "cell_type": "code",
   "execution_count": 1,
   "id": "fd1cd4bd",
   "metadata": {},
   "outputs": [],
   "source": [
    "#import những gì bạn cần ở đây\n",
    "import numpy as np\n",
    "import pandas as pd"
   ]
  },
  {
   "cell_type": "markdown",
   "id": "a584bf68",
   "metadata": {},
   "source": [
    "# Data Collection"
   ]
  },
  {
   "cell_type": "markdown",
   "id": "575bcb5d",
   "metadata": {},
   "source": [
    "**The Connecticut Deaths due to Drugs Dataset** contains information about **5105** people who died due to drug overdose between **2012 and 2018** in Connecticut, US.\n",
    "\n",
    "The dataset includes data related to the age, race, gender, place of residence of the victims as well as the drugs they overdosed on. This information can be used to understand if drug use is prevalent in a specific area or city, drug use by individuals of different age groups and races as well as the popularity of different types of drugs.\n",
    "\n",
    "The dataset has **41 columns** and **5105 rows**. The file have the following columns:\n",
    "1. `ID`: ID of Patient\n",
    "2. `Date`: The time which Patient died \n",
    "3. `DateType`: Type of Date in Column 2 [Date of Reporting or Date of Death]\n",
    "4. `Age`: Age of Patient\n",
    "5. `Sex`: Sex of Patient\n",
    "6. `Race`: Race of Patient\n",
    "7. `ResidenceCity`: City of Residence\n",
    "8. `ResidenceCounty`: County of Residence\n",
    "9. `ResidenceState`: State of Residence\n",
    "10. `DeathCity`: City of Death\n",
    "11. `DeathCounty`: County of Death\n",
    "12. `Location`: Location of Death [Hospital or Residence]\n",
    "13. `LocationifOther`: Location of Death if Not Hospital or Residence\n",
    "14. `DescriptionofInjury`: Cause of Death\n",
    "15. `InjuryPlace`: Place of Event that caused Death\n",
    "16. `InjuryCity`: City of Event that caused Death\n",
    "17. `InjuryCounty`: County of Event that caused Death\n",
    "18. `InjuryState`: State of Event that caused Death\n",
    "19. `COD`: Detailed Cause of Death\n",
    "20. `OtherSignifican`: Other Significant Injuries that may have lead to Death\n",
    "21. `Heroin`: Drug Found in Body [Y/N] liệu heroin đã được phát hiện trong mẫu từ những trường hợp tử vong hay không?\n",
    "22. `Cocaine`: Drug Found in Body [Y/N]\n",
    "23. `Fentanyl`: Drug Found in Body [Y/N]\n",
    "24. `FentanylAnalogue`: Drug Found in Body [Y/N]\n",
    "25. `Oxycodone`: Drug Found in Body [Y/N]\n",
    "26. `Oxymorphone`: Drug Found in Body [Y/N]\n",
    "27. `Ethanol`: Drug Found in Body [Y/N]\n",
    "28. `Hydrocodone`: Drug Found in Body [Y/N]\n",
    "29. `Benzodiazepine`: Drug Found in Body [Y/N]\n",
    "30. `Methadone`: Drug Found in Body [Y/N]\n",
    "31. `Amphet`: Drug Found in Body [Y/N]\n",
    "32. `Tramad`: Drug Found in Body [Y/N]\n",
    "33. `Morphine_NotHeroin`: Drug Found in Body [Y/N]\n",
    "34. `Hydromorphone`: Drug Found in Body [Y/N]\n",
    "35. `Other`: Drug Found in Body [Y/N]\n",
    "36. `OpiateNOS`: Drug Found in Body [Y/N]\n",
    "37. `AnyOpioid`: Drug Found in Body [Y/N]\n",
    "38. `MannerofDeath`: Manner of Death\n",
    "39. `DeathCityGeo`: City of Death\n",
    "40. `ResidenceCityGeo`: City of Residence\n",
    "41. `InjuryCityGeo`: City of Injury"
   ]
  },
  {
   "cell_type": "markdown",
   "id": "2a2ba84f",
   "metadata": {},
   "source": [
    "# Data Pre-processing and Exploration"
   ]
  },
  {
   "cell_type": "markdown",
   "id": "6b8729f8",
   "metadata": {},
   "source": [
    "**Read Data**"
   ]
  },
  {
   "cell_type": "code",
   "execution_count": 2,
   "id": "cf80e76e",
   "metadata": {},
   "outputs": [
    {
     "data": {
      "text/html": [
       "<div>\n",
       "<style scoped>\n",
       "    .dataframe tbody tr th:only-of-type {\n",
       "        vertical-align: middle;\n",
       "    }\n",
       "\n",
       "    .dataframe tbody tr th {\n",
       "        vertical-align: top;\n",
       "    }\n",
       "\n",
       "    .dataframe thead th {\n",
       "        text-align: right;\n",
       "    }\n",
       "</style>\n",
       "<table border=\"1\" class=\"dataframe\">\n",
       "  <thead>\n",
       "    <tr style=\"text-align: right;\">\n",
       "      <th></th>\n",
       "      <th>Date</th>\n",
       "      <th>Date Type</th>\n",
       "      <th>Age</th>\n",
       "      <th>Sex</th>\n",
       "      <th>Race</th>\n",
       "      <th>Ethnicity</th>\n",
       "      <th>Residence City</th>\n",
       "      <th>Residence County</th>\n",
       "      <th>Residence State</th>\n",
       "      <th>Injury City</th>\n",
       "      <th>...</th>\n",
       "      <th>Xylazine</th>\n",
       "      <th>Gabapentin</th>\n",
       "      <th>Opiate NOS</th>\n",
       "      <th>Heroin/Morph/Codeine</th>\n",
       "      <th>Other Opioid</th>\n",
       "      <th>Any Opioid</th>\n",
       "      <th>Other</th>\n",
       "      <th>ResidenceCityGeo</th>\n",
       "      <th>InjuryCityGeo</th>\n",
       "      <th>DeathCityGeo</th>\n",
       "    </tr>\n",
       "  </thead>\n",
       "  <tbody>\n",
       "    <tr>\n",
       "      <th>0</th>\n",
       "      <td>12/31/2022</td>\n",
       "      <td>Date of death</td>\n",
       "      <td>54.0</td>\n",
       "      <td>Male</td>\n",
       "      <td>White</td>\n",
       "      <td>NaN</td>\n",
       "      <td>OAKVILLE</td>\n",
       "      <td>LITCHFIELD</td>\n",
       "      <td>CT</td>\n",
       "      <td>WATERBURY</td>\n",
       "      <td>...</td>\n",
       "      <td>NaN</td>\n",
       "      <td>NaN</td>\n",
       "      <td>NaN</td>\n",
       "      <td>NaN</td>\n",
       "      <td>NaN</td>\n",
       "      <td>NaN</td>\n",
       "      <td>NaN</td>\n",
       "      <td>OAKVILLE, CT\\n(41.58854000000008, -73.08690999...</td>\n",
       "      <td>WATERBURY, CT\\n(41.55490000000003, -73.0464699...</td>\n",
       "      <td>CT\\n(41.57350273000003, -72.73830590799997)</td>\n",
       "    </tr>\n",
       "    <tr>\n",
       "      <th>1</th>\n",
       "      <td>12/31/2022</td>\n",
       "      <td>Date of death</td>\n",
       "      <td>61.0</td>\n",
       "      <td>Female</td>\n",
       "      <td>White</td>\n",
       "      <td>NaN</td>\n",
       "      <td>LEBANON</td>\n",
       "      <td>NEW LONDON</td>\n",
       "      <td>CT</td>\n",
       "      <td>WILLIMANTIC</td>\n",
       "      <td>...</td>\n",
       "      <td>Y</td>\n",
       "      <td>NaN</td>\n",
       "      <td>NaN</td>\n",
       "      <td>NaN</td>\n",
       "      <td>NaN</td>\n",
       "      <td>Y</td>\n",
       "      <td>NaN</td>\n",
       "      <td>LEBANON, CT\\n(41.64541000000003, -72.200979999...</td>\n",
       "      <td>WILLIMANTIC, CT\\n(41.71096000000006, -72.20528...</td>\n",
       "      <td>CT\\n(41.57350273000003, -72.73830590799997)</td>\n",
       "    </tr>\n",
       "    <tr>\n",
       "      <th>2</th>\n",
       "      <td>12/31/2022</td>\n",
       "      <td>Date of death</td>\n",
       "      <td>54.0</td>\n",
       "      <td>Male</td>\n",
       "      <td>White</td>\n",
       "      <td>NaN</td>\n",
       "      <td>WEST HAVEN</td>\n",
       "      <td>NEW HAVEN</td>\n",
       "      <td>CT</td>\n",
       "      <td>WEST HAVEN</td>\n",
       "      <td>...</td>\n",
       "      <td>NaN</td>\n",
       "      <td>NaN</td>\n",
       "      <td>NaN</td>\n",
       "      <td>y</td>\n",
       "      <td>NaN</td>\n",
       "      <td>Y</td>\n",
       "      <td>NaN</td>\n",
       "      <td>WEST HAVEN, CT\\n(41.27228000000008, -72.949979...</td>\n",
       "      <td>WEST HAVEN, CT\\n(41.27228000000008, -72.949979...</td>\n",
       "      <td>CT\\n(41.57350273000003, -72.73830590799997)</td>\n",
       "    </tr>\n",
       "    <tr>\n",
       "      <th>3</th>\n",
       "      <td>12/30/2022</td>\n",
       "      <td>Date of death</td>\n",
       "      <td>48.0</td>\n",
       "      <td>Male</td>\n",
       "      <td>White</td>\n",
       "      <td>NaN</td>\n",
       "      <td>SOMERS</td>\n",
       "      <td>TOLLAND</td>\n",
       "      <td>CT</td>\n",
       "      <td>SOMERS</td>\n",
       "      <td>...</td>\n",
       "      <td>NaN</td>\n",
       "      <td>NaN</td>\n",
       "      <td>NaN</td>\n",
       "      <td>NaN</td>\n",
       "      <td>Buprenorphine</td>\n",
       "      <td>Y</td>\n",
       "      <td>Buprenorphine</td>\n",
       "      <td>SOMERS, CT\\n(41.98825000000005, -72.4401299999...</td>\n",
       "      <td>SOMERS, CT\\n(41.98825000000005, -72.4401299999...</td>\n",
       "      <td>CT\\n(41.57350273000003, -72.73830590799997)</td>\n",
       "    </tr>\n",
       "    <tr>\n",
       "      <th>4</th>\n",
       "      <td>12/29/2022</td>\n",
       "      <td>Date of death</td>\n",
       "      <td>41.0</td>\n",
       "      <td>Female</td>\n",
       "      <td>Black or African American</td>\n",
       "      <td>NaN</td>\n",
       "      <td>BRIDGEPORT</td>\n",
       "      <td>FAIRFIELD</td>\n",
       "      <td>CT</td>\n",
       "      <td>BRIDGEPORT</td>\n",
       "      <td>...</td>\n",
       "      <td>NaN</td>\n",
       "      <td>Y</td>\n",
       "      <td>NaN</td>\n",
       "      <td>NaN</td>\n",
       "      <td>NaN</td>\n",
       "      <td>Y</td>\n",
       "      <td>NaN</td>\n",
       "      <td>BRIDGEPORT, CT\\n(41.18213000000003, -73.190639...</td>\n",
       "      <td>BRIDGEPORT, CT\\n(41.18213000000003, -73.190639...</td>\n",
       "      <td>CT\\n(41.57350273000003, -72.73830590799997)</td>\n",
       "    </tr>\n",
       "    <tr>\n",
       "      <th>...</th>\n",
       "      <td>...</td>\n",
       "      <td>...</td>\n",
       "      <td>...</td>\n",
       "      <td>...</td>\n",
       "      <td>...</td>\n",
       "      <td>...</td>\n",
       "      <td>...</td>\n",
       "      <td>...</td>\n",
       "      <td>...</td>\n",
       "      <td>...</td>\n",
       "      <td>...</td>\n",
       "      <td>...</td>\n",
       "      <td>...</td>\n",
       "      <td>...</td>\n",
       "      <td>...</td>\n",
       "      <td>...</td>\n",
       "      <td>...</td>\n",
       "      <td>...</td>\n",
       "      <td>...</td>\n",
       "      <td>...</td>\n",
       "      <td>...</td>\n",
       "    </tr>\n",
       "    <tr>\n",
       "      <th>10649</th>\n",
       "      <td>01/07/2012</td>\n",
       "      <td>Date of death</td>\n",
       "      <td>45.0</td>\n",
       "      <td>Male</td>\n",
       "      <td>White</td>\n",
       "      <td>NaN</td>\n",
       "      <td>HARTFORD</td>\n",
       "      <td>HARTFORD</td>\n",
       "      <td>NaN</td>\n",
       "      <td>HARTFORD</td>\n",
       "      <td>...</td>\n",
       "      <td>NaN</td>\n",
       "      <td>NaN</td>\n",
       "      <td>NaN</td>\n",
       "      <td>NaN</td>\n",
       "      <td>NaN</td>\n",
       "      <td>NaN</td>\n",
       "      <td>NaN</td>\n",
       "      <td>HARTFORD, CT\\n(41.765775, -72.673356)</td>\n",
       "      <td>HARTFORD, CT\\n(41.765775, -72.673356)</td>\n",
       "      <td>Hartford, CT\\n(41.765775, -72.673356)</td>\n",
       "    </tr>\n",
       "    <tr>\n",
       "      <th>10650</th>\n",
       "      <td>01/05/2012</td>\n",
       "      <td>Date of death</td>\n",
       "      <td>51.0</td>\n",
       "      <td>Male</td>\n",
       "      <td>White</td>\n",
       "      <td>NaN</td>\n",
       "      <td>STRATFORD</td>\n",
       "      <td>FAIRFIELD</td>\n",
       "      <td>NaN</td>\n",
       "      <td>STRATFORD</td>\n",
       "      <td>...</td>\n",
       "      <td>NaN</td>\n",
       "      <td>NaN</td>\n",
       "      <td>NaN</td>\n",
       "      <td>NaN</td>\n",
       "      <td>NaN</td>\n",
       "      <td>NaN</td>\n",
       "      <td>NaN</td>\n",
       "      <td>STRATFORD, CT\\n(41.200888, -73.131323)</td>\n",
       "      <td>STRATFORD, CT\\n(41.200888, -73.131323)</td>\n",
       "      <td>Bridgeport, CT\\n(41.179195, -73.189476)</td>\n",
       "    </tr>\n",
       "    <tr>\n",
       "      <th>10651</th>\n",
       "      <td>01/04/2012</td>\n",
       "      <td>Date of death</td>\n",
       "      <td>61.0</td>\n",
       "      <td>Male</td>\n",
       "      <td>Black</td>\n",
       "      <td>NaN</td>\n",
       "      <td>DANBURY</td>\n",
       "      <td>FAIRFIELD</td>\n",
       "      <td>NaN</td>\n",
       "      <td>DANBURY</td>\n",
       "      <td>...</td>\n",
       "      <td>NaN</td>\n",
       "      <td>NaN</td>\n",
       "      <td>NaN</td>\n",
       "      <td>NaN</td>\n",
       "      <td>NaN</td>\n",
       "      <td>NaN</td>\n",
       "      <td>NaN</td>\n",
       "      <td>DANBURY, CT\\n(41.393666, -73.451539)</td>\n",
       "      <td>DANBURY, CT\\n(41.393666, -73.451539)</td>\n",
       "      <td>Danbury, CT\\n(41.393666, -73.451539)</td>\n",
       "    </tr>\n",
       "    <tr>\n",
       "      <th>10652</th>\n",
       "      <td>01/03/2012</td>\n",
       "      <td>Date of death</td>\n",
       "      <td>41.0</td>\n",
       "      <td>Male</td>\n",
       "      <td>White</td>\n",
       "      <td>NaN</td>\n",
       "      <td>BRISTOL</td>\n",
       "      <td>HARTFORD</td>\n",
       "      <td>NaN</td>\n",
       "      <td>BRISTOL</td>\n",
       "      <td>...</td>\n",
       "      <td>NaN</td>\n",
       "      <td>NaN</td>\n",
       "      <td>NaN</td>\n",
       "      <td>NaN</td>\n",
       "      <td>NaN</td>\n",
       "      <td>NaN</td>\n",
       "      <td>NaN</td>\n",
       "      <td>BRISTOL, CT\\n(41.673037, -72.945791)</td>\n",
       "      <td>BRISTOL, CT\\n(41.673037, -72.945791)</td>\n",
       "      <td>Bristol, CT\\n(41.673037, -72.945791)</td>\n",
       "    </tr>\n",
       "    <tr>\n",
       "      <th>10653</th>\n",
       "      <td>01/01/2012</td>\n",
       "      <td>Date of death</td>\n",
       "      <td>35.0</td>\n",
       "      <td>Male</td>\n",
       "      <td>White</td>\n",
       "      <td>NaN</td>\n",
       "      <td>HEBRON</td>\n",
       "      <td>TOLLAND</td>\n",
       "      <td>NaN</td>\n",
       "      <td>HEBRON</td>\n",
       "      <td>...</td>\n",
       "      <td>NaN</td>\n",
       "      <td>NaN</td>\n",
       "      <td>NaN</td>\n",
       "      <td>NaN</td>\n",
       "      <td>NaN</td>\n",
       "      <td>NaN</td>\n",
       "      <td>NaN</td>\n",
       "      <td>HEBRON, CT\\n(41.658069, -72.366324)</td>\n",
       "      <td>HEBRON, CT\\n(41.658069, -72.366324)</td>\n",
       "      <td>Hebron, CT\\n(41.658069, -72.366324)</td>\n",
       "    </tr>\n",
       "  </tbody>\n",
       "</table>\n",
       "<p>10654 rows × 48 columns</p>\n",
       "</div>"
      ],
      "text/plain": [
       "             Date      Date Type   Age     Sex                       Race  \\\n",
       "0      12/31/2022  Date of death  54.0    Male                      White   \n",
       "1      12/31/2022  Date of death  61.0  Female                      White   \n",
       "2      12/31/2022  Date of death  54.0    Male                      White   \n",
       "3      12/30/2022  Date of death  48.0    Male                      White   \n",
       "4      12/29/2022  Date of death  41.0  Female  Black or African American   \n",
       "...           ...            ...   ...     ...                        ...   \n",
       "10649  01/07/2012  Date of death  45.0    Male                      White   \n",
       "10650  01/05/2012  Date of death  51.0    Male                      White   \n",
       "10651  01/04/2012  Date of death  61.0    Male                      Black   \n",
       "10652  01/03/2012  Date of death  41.0    Male                      White   \n",
       "10653  01/01/2012  Date of death  35.0    Male                      White   \n",
       "\n",
       "      Ethnicity Residence City Residence County Residence State  Injury City  \\\n",
       "0           NaN       OAKVILLE       LITCHFIELD              CT    WATERBURY   \n",
       "1           NaN        LEBANON       NEW LONDON              CT  WILLIMANTIC   \n",
       "2           NaN     WEST HAVEN        NEW HAVEN              CT   WEST HAVEN   \n",
       "3           NaN         SOMERS          TOLLAND              CT       SOMERS   \n",
       "4           NaN     BRIDGEPORT        FAIRFIELD              CT   BRIDGEPORT   \n",
       "...         ...            ...              ...             ...          ...   \n",
       "10649       NaN       HARTFORD         HARTFORD             NaN     HARTFORD   \n",
       "10650       NaN      STRATFORD        FAIRFIELD             NaN    STRATFORD   \n",
       "10651       NaN        DANBURY        FAIRFIELD             NaN      DANBURY   \n",
       "10652       NaN        BRISTOL         HARTFORD             NaN      BRISTOL   \n",
       "10653       NaN         HEBRON          TOLLAND             NaN       HEBRON   \n",
       "\n",
       "       ... Xylazine Gabapentin Opiate NOS Heroin/Morph/Codeine   Other Opioid  \\\n",
       "0      ...      NaN        NaN        NaN                  NaN            NaN   \n",
       "1      ...        Y        NaN        NaN                  NaN            NaN   \n",
       "2      ...      NaN        NaN        NaN                    y            NaN   \n",
       "3      ...      NaN        NaN        NaN                  NaN  Buprenorphine   \n",
       "4      ...      NaN          Y        NaN                  NaN            NaN   \n",
       "...    ...      ...        ...        ...                  ...            ...   \n",
       "10649  ...      NaN        NaN        NaN                  NaN            NaN   \n",
       "10650  ...      NaN        NaN        NaN                  NaN            NaN   \n",
       "10651  ...      NaN        NaN        NaN                  NaN            NaN   \n",
       "10652  ...      NaN        NaN        NaN                  NaN            NaN   \n",
       "10653  ...      NaN        NaN        NaN                  NaN            NaN   \n",
       "\n",
       "      Any Opioid          Other  \\\n",
       "0            NaN            NaN   \n",
       "1              Y            NaN   \n",
       "2              Y            NaN   \n",
       "3              Y  Buprenorphine   \n",
       "4              Y            NaN   \n",
       "...          ...            ...   \n",
       "10649        NaN            NaN   \n",
       "10650        NaN            NaN   \n",
       "10651        NaN            NaN   \n",
       "10652        NaN            NaN   \n",
       "10653        NaN            NaN   \n",
       "\n",
       "                                        ResidenceCityGeo  \\\n",
       "0      OAKVILLE, CT\\n(41.58854000000008, -73.08690999...   \n",
       "1      LEBANON, CT\\n(41.64541000000003, -72.200979999...   \n",
       "2      WEST HAVEN, CT\\n(41.27228000000008, -72.949979...   \n",
       "3      SOMERS, CT\\n(41.98825000000005, -72.4401299999...   \n",
       "4      BRIDGEPORT, CT\\n(41.18213000000003, -73.190639...   \n",
       "...                                                  ...   \n",
       "10649              HARTFORD, CT\\n(41.765775, -72.673356)   \n",
       "10650             STRATFORD, CT\\n(41.200888, -73.131323)   \n",
       "10651               DANBURY, CT\\n(41.393666, -73.451539)   \n",
       "10652               BRISTOL, CT\\n(41.673037, -72.945791)   \n",
       "10653                HEBRON, CT\\n(41.658069, -72.366324)   \n",
       "\n",
       "                                           InjuryCityGeo  \\\n",
       "0      WATERBURY, CT\\n(41.55490000000003, -73.0464699...   \n",
       "1      WILLIMANTIC, CT\\n(41.71096000000006, -72.20528...   \n",
       "2      WEST HAVEN, CT\\n(41.27228000000008, -72.949979...   \n",
       "3      SOMERS, CT\\n(41.98825000000005, -72.4401299999...   \n",
       "4      BRIDGEPORT, CT\\n(41.18213000000003, -73.190639...   \n",
       "...                                                  ...   \n",
       "10649              HARTFORD, CT\\n(41.765775, -72.673356)   \n",
       "10650             STRATFORD, CT\\n(41.200888, -73.131323)   \n",
       "10651               DANBURY, CT\\n(41.393666, -73.451539)   \n",
       "10652               BRISTOL, CT\\n(41.673037, -72.945791)   \n",
       "10653                HEBRON, CT\\n(41.658069, -72.366324)   \n",
       "\n",
       "                                      DeathCityGeo  \n",
       "0      CT\\n(41.57350273000003, -72.73830590799997)  \n",
       "1      CT\\n(41.57350273000003, -72.73830590799997)  \n",
       "2      CT\\n(41.57350273000003, -72.73830590799997)  \n",
       "3      CT\\n(41.57350273000003, -72.73830590799997)  \n",
       "4      CT\\n(41.57350273000003, -72.73830590799997)  \n",
       "...                                            ...  \n",
       "10649        Hartford, CT\\n(41.765775, -72.673356)  \n",
       "10650      Bridgeport, CT\\n(41.179195, -73.189476)  \n",
       "10651         Danbury, CT\\n(41.393666, -73.451539)  \n",
       "10652         Bristol, CT\\n(41.673037, -72.945791)  \n",
       "10653          Hebron, CT\\n(41.658069, -72.366324)  \n",
       "\n",
       "[10654 rows x 48 columns]"
      ]
     },
     "execution_count": 2,
     "metadata": {},
     "output_type": "execute_result"
    }
   ],
   "source": [
    "# Đọc dữ liệu từ ./Accidental Drug Related Deaths in Connecticut-2012-2018 và lưu vào DrugDeath_df\n",
    "DrugDeath_df = pd.read_csv('./Data/Accidental_Drug_Related_Deaths_2012-2022.csv')\n",
    "\n",
    "DrugDeath_df"
   ]
  },
  {
   "cell_type": "markdown",
   "id": "f258bfc6",
   "metadata": {},
   "source": [
    "**How many rows and how many columns?**"
   ]
  },
  {
   "cell_type": "code",
   "execution_count": 3,
   "id": "2db2528e",
   "metadata": {},
   "outputs": [
    {
     "name": "stdout",
     "output_type": "stream",
     "text": [
      "(10654, 48)\n"
     ]
    }
   ],
   "source": [
    "# Lưu số dòng của DrugDeath_df vào n_rows và số cột của DrugDeath_df vào n_cols\n",
    "n_rows, n_cols = DrugDeath_df.shape\n",
    "\n",
    "# In ra màn hình số dòng và số cột của DrugDeath_df\n",
    "print(f'({n_rows}, {n_cols})')"
   ]
  },
  {
   "cell_type": "markdown",
   "id": "33d4ecca",
   "metadata": {},
   "source": [
    "**What is the meaning of each row?**\n",
    "\n",
    "Each row in this dataset represents information about an individual who passed away due to a drug overdose. Specifically:\n",
    "\n",
    "<li><b>Demographic Information</b>: Age, gender, race, residential address.</li>\n",
    "<li><b>Death Information</b>: Date of death, location of death, cause of death, manner of death.</li>\n",
    "<li><b>Drug-related Information</b>: Presence of specific drugs in the body.</li>"
   ]
  },
  {
   "cell_type": "markdown",
   "id": "2462003c",
   "metadata": {},
   "source": [
    "Chọn ra các cột sẽ dùng + giải thích lí do"
   ]
  },
  {
   "cell_type": "code",
   "execution_count": 4,
   "id": "440c2430",
   "metadata": {},
   "outputs": [
    {
     "data": {
      "text/plain": [
       "Index(['Date', 'Date Type', 'Age', 'Sex', 'Race', 'Ethnicity',\n",
       "       'Residence City', 'Residence County', 'Residence State', 'Injury City',\n",
       "       'Injury County', 'Injury State', 'Injury Place',\n",
       "       'Description of Injury', 'Death City', 'Death County', 'Death State',\n",
       "       'Location', 'Location if Other', 'Cause of Death', 'Manner of Death',\n",
       "       'Other Significant Conditions ', 'Heroin',\n",
       "       'Heroin death certificate (DC)', 'Cocaine', 'Fentanyl',\n",
       "       'Fentanyl Analogue', 'Oxycodone', 'Oxymorphone', 'Ethanol',\n",
       "       'Hydrocodone', 'Benzodiazepine', 'Methadone', 'Meth/Amphetamine',\n",
       "       'Amphet', 'Tramad', 'Hydromorphone', 'Morphine (Not Heroin)',\n",
       "       'Xylazine', 'Gabapentin', 'Opiate NOS', 'Heroin/Morph/Codeine',\n",
       "       'Other Opioid', 'Any Opioid', 'Other', 'ResidenceCityGeo',\n",
       "       'InjuryCityGeo', 'DeathCityGeo'],\n",
       "      dtype='object')"
      ]
     },
     "execution_count": 4,
     "metadata": {},
     "output_type": "execute_result"
    }
   ],
   "source": [
    "DrugDeath_df.columns"
   ]
  },
  {
   "cell_type": "code",
   "execution_count": 5,
   "id": "784bce55",
   "metadata": {},
   "outputs": [],
   "source": [
    "DrugDeath_df = DrugDeath_df[['Date', 'Age', 'Sex', 'Race',\n",
    "       'Residence County',\n",
    "       'Death County', 'Location', 'Cause of Death', 'Heroin', 'Cocaine',\n",
    "       'Fentanyl', 'Fentanyl Analogue', 'Oxycodone', 'Oxymorphone', 'Ethanol',\n",
    "       'Hydrocodone', 'Benzodiazepine', 'Methadone', 'Meth/Amphetamine',\n",
    "       'Amphet', 'Tramad', 'Hydromorphone', 'Morphine (Not Heroin)',\n",
    "       'Xylazine', 'Gabapentin', 'Opiate NOS', 'Heroin/Morph/Codeine', 'ResidenceCityGeo',\n",
    "       'DeathCityGeo']]"
   ]
  },
  {
   "cell_type": "markdown",
   "id": "fb7acd43",
   "metadata": {},
   "source": [
    "**Are there duplicated rows? + Remove duplicate**"
   ]
  },
  {
   "cell_type": "code",
   "execution_count": 6,
   "id": "29dc7343",
   "metadata": {},
   "outputs": [
    {
     "name": "stdout",
     "output_type": "stream",
     "text": [
      "There are no duplicated rows.\n"
     ]
    }
   ],
   "source": [
    "# Kiểm tra các dòng bị trùng lặp\n",
    "duplicate_rows = DrugDeath_df[DrugDeath_df.duplicated()]\n",
    "\n",
    "# Hiển thị nếu có dòng bị trùng lặp\n",
    "if duplicate_rows.shape[0] > 0:\n",
    "    print(\"There are duplicated rows.\")\n",
    "    # Xóa các dòng trùng lặp\n",
    "    DrugDeath_df.drop_duplicates(inplace=True)\n",
    "    print(\"Duplicates removed.\")\n",
    "else:\n",
    "    print(\"There are no duplicated rows.\")"
   ]
  },
  {
   "cell_type": "markdown",
   "id": "ee8fd9bf",
   "metadata": {},
   "source": [
    "**Conclusion:** We can see that the dataset doesn't have duplicated rows."
   ]
  },
  {
   "cell_type": "markdown",
   "id": "59c327a6",
   "metadata": {},
   "source": [
    "**What is the meaning of each column?**\n",
    "\n",
    "- The data columns is crucial for effective analysis. By carefully examining the column titles and their respective data entries, we can decipher the information they encapsulate. Given the extensive length of the column titles, renaming them for easier handling and analysis becomes essential.\n",
    "\n",
    "- Through a thorough review of the column titles and their contents, aligned with the context of the survey questionnaire, we can gain a comprehensive understanding of the dataset. This process will enable us to effectively rename the columns, simplifying them for easier manipulation and analysis in subsequent steps.\n",
    "\n",
    "- The columns in this dataset provide information about emergency cases due to drug overdoses."
   ]
  },
  {
   "cell_type": "markdown",
   "id": "46ff7b33",
   "metadata": {},
   "source": [
    "What is the current data type of each column? Are there columns having inappropriate data types? If have, converting"
   ]
  },
  {
   "cell_type": "code",
   "execution_count": 7,
   "id": "39c17284",
   "metadata": {},
   "outputs": [
    {
     "name": "stdout",
     "output_type": "stream",
     "text": [
      "<class 'pandas.core.frame.DataFrame'>\n",
      "RangeIndex: 10654 entries, 0 to 10653\n",
      "Data columns (total 29 columns):\n",
      " #   Column                 Non-Null Count  Dtype  \n",
      "---  ------                 --------------  -----  \n",
      " 0   Date                   10654 non-null  object \n",
      " 1   Age                    10652 non-null  float64\n",
      " 2   Sex                    10645 non-null  object \n",
      " 3   Race                   10625 non-null  object \n",
      " 4   Residence County       9486 non-null   object \n",
      " 5   Death County           8090 non-null   object \n",
      " 6   Location               10632 non-null  object \n",
      " 7   Cause of Death         10654 non-null  object \n",
      " 8   Heroin                 3472 non-null   object \n",
      " 9   Cocaine                3855 non-null   object \n",
      " 10  Fentanyl               6925 non-null   object \n",
      " 11  Fentanyl Analogue      804 non-null    object \n",
      " 12  Oxycodone              950 non-null    object \n",
      " 13  Oxymorphone            157 non-null    object \n",
      " 14  Ethanol                2878 non-null   object \n",
      " 15  Hydrocodone            163 non-null    object \n",
      " 16  Benzodiazepine         2499 non-null   object \n",
      " 17  Methadone              938 non-null    object \n",
      " 18  Meth/Amphetamine       127 non-null    object \n",
      " 19  Amphet                 359 non-null    object \n",
      " 20  Tramad                 284 non-null    object \n",
      " 21  Hydromorphone          67 non-null     object \n",
      " 22  Morphine (Not Heroin)  55 non-null     object \n",
      " 23  Xylazine               792 non-null    object \n",
      " 24  Gabapentin             348 non-null    object \n",
      " 25  Opiate NOS             126 non-null    object \n",
      " 26  Heroin/Morph/Codeine   2090 non-null   object \n",
      " 27  ResidenceCityGeo       10488 non-null  object \n",
      " 28  DeathCityGeo           10653 non-null  object \n",
      "dtypes: float64(1), object(28)\n",
      "memory usage: 2.4+ MB\n",
      "None\n"
     ]
    }
   ],
   "source": [
    "# Kiểm tra kiểu dữ liệu hiện tại của các cột\n",
    "print(DrugDeath_df.info())"
   ]
  },
  {
   "cell_type": "markdown",
   "id": "587b0d2c",
   "metadata": {},
   "source": [
    "Hầu hết các cột đều có kiểu dữ liệu đúng, chỉ trừ một số cột sau:\n",
    "\n",
    "    - Cột Date nên có kiểu là Datetime\n",
    "    - Các cột như Heroin, Cocaine, Fentanyl,.. xác nhận sự xuất hiện hoặc vắng mặt của mỗi chất độc này, vì thế chúng nên có kiểu dữ liệu là bool thay vì object\n",
    "    "
   ]
  },
  {
   "cell_type": "code",
   "execution_count": 8,
   "id": "47e31ca6",
   "metadata": {},
   "outputs": [
    {
     "name": "stderr",
     "output_type": "stream",
     "text": [
      "C:\\Users\\Dell\\AppData\\Local\\Temp\\ipykernel_10444\\1500526394.py:3: SettingWithCopyWarning: \n",
      "A value is trying to be set on a copy of a slice from a DataFrame.\n",
      "Try using .loc[row_indexer,col_indexer] = value instead\n",
      "\n",
      "See the caveats in the documentation: https://pandas.pydata.org/pandas-docs/stable/user_guide/indexing.html#returning-a-view-versus-a-copy\n",
      "  DrugDeath_df['Date'] = pd.to_datetime(DrugDeath_df['Date'], format='%m/%d/%Y')\n"
     ]
    }
   ],
   "source": [
    "#Chuyển cột Date thành datetime\n",
    "# Chuyển cột Date thành datetime\n",
    "DrugDeath_df['Date'] = pd.to_datetime(DrugDeath_df['Date'], format='%m/%d/%Y')"
   ]
  },
  {
   "cell_type": "markdown",
   "id": "fd685045",
   "metadata": {},
   "source": [
    "Ta sẽ xem xét các cột nên có kiểu dữ liệu boolean"
   ]
  },
  {
   "cell_type": "code",
   "execution_count": 9,
   "id": "0cc7dde8",
   "metadata": {
    "scrolled": true
   },
   "outputs": [
    {
     "name": "stdout",
     "output_type": "stream",
     "text": [
      "Heroin\n",
      "[nan 'Y']\n",
      "Cocaine\n",
      "['Y' nan]\n",
      "Fentanyl\n",
      "[nan 'Y' 'Y (PTCH)' 'Y POPS']\n",
      "Fentanyl Analogue\n",
      "[nan 'Y']\n",
      "Oxycodone\n",
      "[nan 'Y']\n",
      "Oxymorphone\n",
      "[nan 'Y']\n",
      "Ethanol\n",
      "[nan 'Y' 'P']\n",
      "Hydrocodone\n",
      "[nan 'Y']\n",
      "Benzodiazepine\n",
      "[nan 'Y']\n",
      "Methadone\n",
      "[nan 'Y']\n",
      "Meth/Amphetamine\n",
      "[nan 'Y']\n",
      "Amphet\n",
      "[nan 'Y']\n",
      "Tramad\n",
      "[nan 'Y']\n",
      "Hydromorphone\n",
      "[nan 'Y']\n",
      "Morphine (Not Heroin)\n",
      "[nan 'Y' 'PCP NEG' 'NO RX BUT STRAWS' 'STOLE MEDS']\n",
      "Xylazine\n",
      "[nan 'Y']\n",
      "Gabapentin\n",
      "[nan 'Y' 'y']\n",
      "Opiate NOS\n",
      "[nan 'Y']\n",
      "Heroin/Morph/Codeine\n",
      "[nan 'y' 'Y']\n"
     ]
    }
   ],
   "source": [
    "#Xem các giá trị có trong các cột\n",
    "drugs = ['Heroin', 'Cocaine',\n",
    "       'Fentanyl', 'Fentanyl Analogue', 'Oxycodone', 'Oxymorphone', 'Ethanol',\n",
    "       'Hydrocodone', 'Benzodiazepine', 'Methadone', 'Meth/Amphetamine',\n",
    "       'Amphet', 'Tramad', 'Hydromorphone', 'Morphine (Not Heroin)',\n",
    "       'Xylazine', 'Gabapentin', 'Opiate NOS', 'Heroin/Morph/Codeine']\n",
    "\n",
    "for col in drugs: \n",
    "    print(col)\n",
    "    print(DrugDeath_df[col].unique())"
   ]
  },
  {
   "cell_type": "markdown",
   "id": "7f88675e",
   "metadata": {},
   "source": [
    "In this problem, `NaN` and `N` can be considered equivalent as there is no evidence that the victim's body contains the tested substance.\n",
    "\n",
    "We can observe that most columns are normal, except for a few specific ones:\n",
    "\n",
    "- **Other Opioid:** Includes values [nan 'Buprenorphine' 'MDMA, Buprenorphine' 'Mitragynine' 'ketamine' 'PCP' 'Difluro' 'pcp' 'Y']. Since this column represents the presence of other addictive substances, we can treat answers like 'Buprenorphine' 'MDMA, Buprenorphine', ... as 'Y'.\n",
    "\n",
    "- **Morphine (Not Heroin):** [nan 'Y' 'PCP NEG' 'NO RX BUT STRAWS' 'STOLE MEDS']. Firstly, let's examine the meaning of special values:\n",
    "    - `PCP NEG`: Indicates a negative result for PCP, unrelated to Heroin. Treat as 'Y'.\n",
    "    - `NO RX BUT STRAWS`: Indicates the absence of a prescription but presence of straws, likely unrelated to Heroin. Treat as 'Y'.\n",
    "    - `STOLE MEDS`: Indicates stolen medication, unrelated to Heroin. Treat as 'Y'. \n",
    "    --> Therefore, this column can be considered 'Y' for these special cases.\n",
    "\n",
    "- **Fentanyl:** [nan 'Y' 'Y (PTCH)' 'Y POPS']\n",
    "    - `Y PTCH`: Fentanyl detected in patch form.\n",
    "    - `Y POPS`: Fentanyl detected in candy form.\n",
    "    Treat these values as 'Y'.\n",
    "\n",
    "In conclusion, a common approach for all columns can be formulated as follows:"
   ]
  },
  {
   "cell_type": "code",
   "execution_count": 10,
   "id": "22602d14",
   "metadata": {},
   "outputs": [
    {
     "name": "stderr",
     "output_type": "stream",
     "text": [
      "C:\\Users\\Dell\\AppData\\Local\\Temp\\ipykernel_10444\\1931194616.py:3: SettingWithCopyWarning: \n",
      "A value is trying to be set on a copy of a slice from a DataFrame.\n",
      "Try using .loc[row_indexer,col_indexer] = value instead\n",
      "\n",
      "See the caveats in the documentation: https://pandas.pydata.org/pandas-docs/stable/user_guide/indexing.html#returning-a-view-versus-a-copy\n",
      "  DrugDeath_df[col] = DrugDeath_df[col].notnull() & (DrugDeath_df[col] != 'N')\n"
     ]
    }
   ],
   "source": [
    "#chuyển thành kiểu boolean (null hoặc 'N' là False, còn lại là True)\n",
    "for col in drugs: \n",
    "    DrugDeath_df[col] = DrugDeath_df[col].notnull() & (DrugDeath_df[col] != 'N')"
   ]
  },
  {
   "cell_type": "markdown",
   "id": "6348f83d",
   "metadata": {},
   "source": [
    "\"With each categorical column, how are values distributed?\n",
    "- What is the percentage of missing values?\n",
    "- How many different values? Are they abnormal?\""
   ]
  },
  {
   "cell_type": "code",
   "execution_count": 11,
   "id": "5ab9c04e",
   "metadata": {
    "scrolled": false
   },
   "outputs": [
    {
     "ename": "ModuleNotFoundError",
     "evalue": "No module named 'plotly'",
     "output_type": "error",
     "traceback": [
      "\u001b[1;31m---------------------------------------------------------------------------\u001b[0m",
      "\u001b[1;31mModuleNotFoundError\u001b[0m                       Traceback (most recent call last)",
      "Cell \u001b[1;32mIn[11], line 2\u001b[0m\n\u001b[0;32m      1\u001b[0m \u001b[38;5;28;01mimport\u001b[39;00m \u001b[38;5;21;01mpandas\u001b[39;00m \u001b[38;5;28;01mas\u001b[39;00m \u001b[38;5;21;01mpd\u001b[39;00m\n\u001b[1;32m----> 2\u001b[0m \u001b[38;5;28;01mimport\u001b[39;00m \u001b[38;5;21;01mplotly\u001b[39;00m\u001b[38;5;21;01m.\u001b[39;00m\u001b[38;5;21;01mgraph_objects\u001b[39;00m \u001b[38;5;28;01mas\u001b[39;00m \u001b[38;5;21;01mgo\u001b[39;00m\n\u001b[0;32m      4\u001b[0m missing_values \u001b[38;5;241m=\u001b[39m DrugDeath_df\u001b[38;5;241m.\u001b[39misnull()\u001b[38;5;241m.\u001b[39msum()\u001b[38;5;241m.\u001b[39msort_values(ascending\u001b[38;5;241m=\u001b[39m\u001b[38;5;28;01mTrue\u001b[39;00m)\n\u001b[0;32m      6\u001b[0m fig \u001b[38;5;241m=\u001b[39m go\u001b[38;5;241m.\u001b[39mFigure(data\u001b[38;5;241m=\u001b[39m[go\u001b[38;5;241m.\u001b[39mBar(\n\u001b[0;32m      7\u001b[0m     y\u001b[38;5;241m=\u001b[39mmissing_values\u001b[38;5;241m.\u001b[39mindex,\n\u001b[0;32m      8\u001b[0m     x\u001b[38;5;241m=\u001b[39mmissing_values\u001b[38;5;241m.\u001b[39mvalues,\n\u001b[0;32m      9\u001b[0m     orientation\u001b[38;5;241m=\u001b[39m\u001b[38;5;124m'\u001b[39m\u001b[38;5;124mh\u001b[39m\u001b[38;5;124m'\u001b[39m,\n\u001b[0;32m     10\u001b[0m     marker_color\u001b[38;5;241m=\u001b[39m\u001b[38;5;124m'\u001b[39m\u001b[38;5;124m#1f77b4\u001b[39m\u001b[38;5;124m'\u001b[39m\n\u001b[0;32m     11\u001b[0m )])\n",
      "\u001b[1;31mModuleNotFoundError\u001b[0m: No module named 'plotly'"
     ]
    }
   ],
   "source": [
    "import pandas as pd\n",
    "import plotly.graph_objects as go\n",
    "\n",
    "missing_values = DrugDeath_df.isnull().sum().sort_values(ascending=True)\n",
    "\n",
    "fig = go.Figure(data=[go.Bar(\n",
    "    y=missing_values.index,\n",
    "    x=missing_values.values,\n",
    "    orientation='h',\n",
    "    marker_color='#1f77b4'\n",
    ")])\n",
    "\n",
    "fig.update_layout(\n",
    "    title_text='Số lượng giá trị bị thiếu của mỗi cột',\n",
    "    xaxis_title='Số lượng giá trị bị thiếu',\n",
    "    yaxis_title='Tên cột',\n",
    "    yaxis={'autorange': 'reversed'},\n",
    "    height=800\n",
    ")\n",
    "\n",
    "fig.show()\n"
   ]
  },
  {
   "cell_type": "code",
   "execution_count": null,
   "id": "f2d55766",
   "metadata": {},
   "outputs": [],
   "source": [
    "#Xử lí Age, Sex, Location, Race bằng cách điền mean và mode\n"
   ]
  },
  {
   "cell_type": "code",
   "execution_count": null,
   "id": "42ed0646",
   "metadata": {},
   "outputs": [],
   "source": [
    "#Xử lí Residence County:\n"
   ]
  },
  {
   "cell_type": "code",
   "execution_count": null,
   "id": "8166b191",
   "metadata": {},
   "outputs": [],
   "source": [
    "DrugDeath_df = DrugDeath_df.rename(columns={'Cause of Death': 'COD'})"
   ]
  },
  {
   "cell_type": "code",
   "execution_count": 29,
   "id": "a3f7f1da",
   "metadata": {},
   "outputs": [],
   "source": [
    "#xử lí COD\n",
    "#Tạo cột mới chứa ds các thuốc là nguyên nhân trục tiếp gây tử vong\n",
    "# Đổi tên cột 'Cause of Death' thành 'COD'\n",
    "DrugDeath_df['COD'] = DrugDeath_df['COD'].str.lower()\n",
    "\n",
    "# Loại bỏ các từ không mong muốn\n",
    "unwanted_words = ['from the', 'complications', ' of ', 'toxicity associated with', 'intoxiation', 'multidrug', 'toxicity' ,'including', 'chronic substance abuse'\n",
    "    'acute intoxication by the combined effects of', 'toxicities','combined','intoxication', 'acute', 'due to' ,'the', 'combined effects of', 'combined drug toxicity', 'multi-drug', 'following']\n",
    "for word in unwanted_words:\n",
    "    DrugDeath_df['COD'] = DrugDeath_df['COD'].str.replace(word, '')\n",
    "\n",
    "# Thay thế 'and' bằng ','\n",
    "DrugDeath_df['COD'] = DrugDeath_df['COD'].str.replace('and', ',')\n",
    "DrugDeath_df['COD'] = DrugDeath_df['COD'].str.replace('  ', ',')\n"
   ]
  },
  {
   "cell_type": "code",
   "execution_count": 30,
   "id": "7ae6a4e5",
   "metadata": {},
   "outputs": [],
   "source": [
    "# Lấy các giá trị duy nhất từ cột 'COD'\n",
    "unique_values = DrugDeath_df['COD'].unique()\n",
    "\n",
    "##kiểm tra\n",
    "# Ghi các giá trị duy nhất vào file txt\n",
    "with open('unique_cod_values.txt', 'w') as f:\n",
    "    for item in unique_values:\n",
    "        f.write(\"%s\\n\" % item)\n"
   ]
  },
  {
   "cell_type": "markdown",
   "id": "780509f6",
   "metadata": {},
   "source": [
    "# Quick view of Data"
   ]
  },
  {
   "cell_type": "markdown",
   "id": "0f2b2efe",
   "metadata": {},
   "source": [
    "# Questions"
   ]
  },
  {
   "cell_type": "markdown",
   "id": "02483f21",
   "metadata": {},
   "source": [
    "# Reflection"
   ]
  },
  {
   "cell_type": "markdown",
   "id": "faf2fb89",
   "metadata": {},
   "source": [
    "# References"
   ]
  }
 ],
 "metadata": {
  "kernelspec": {
   "display_name": "Python 3 (ipykernel)",
   "language": "python",
   "name": "python3"
  },
  "language_info": {
   "codemirror_mode": {
    "name": "ipython",
    "version": 3
   },
   "file_extension": ".py",
   "mimetype": "text/x-python",
   "name": "python",
   "nbconvert_exporter": "python",
   "pygments_lexer": "ipython3",
   "version": "3.10.11"
  }
 },
 "nbformat": 4,
 "nbformat_minor": 5
}
