{
 "cells": [
  {
   "cell_type": "markdown",
   "id": "f310ab9f",
   "metadata": {},
   "source": [
    "<div style=\"text-align: center; background-color: #559cff; font-family: 'Trebuchet MS', Arial, sans-serif; color: white; padding: 20px; font-size: 40px; font-weight: bold; border-radius: 0 0 0 0; box-shadow: 0px 6px 8px rgba(0, 0, 0, 0.2);\">\n",
    "  📌 Lập trình cho Khoa học Dữ liệu - 21_21 📌\n",
    "  \n",
    "  Đồ án Cuối Kì\n",
    "  \n",
    "  Topic: Phân tích dữ liệu \"Tử vong do sốc thuốc ở bang Connecticut của Hoa Kỳ\"\n",
    "</div>\n",
    "\n",
    "## Thông tin nhóm \n",
    "| MSSV     | Họ tên                |\n",
    "| -------- | --------------------- |\n",
    "| 21120570 | Đặng Nguyễn Thanh Tín |\n",
    "| 21120574 | Nguyễn Minh Trí       |\n",
    "| 21120580 | Trần Thị Kim Trinh    |\n",
    "\n",
    "## Mục lục\n",
    "0. [Tổng quan đồ án](#0-tổng-quan)\n",
    "1. [Thu nhập dữ liệu](#1-thu-nhập-dữ-liệu)\n",
    "2. [Tiền xử lý dữ liệu](#2-tiền-xử-lý-dữ-liệu)\n",
    "3. [Khám phá dữ liệu](#3-khám-phá-dữ-liệu)\n",
    "4. [Câu hỏi ý nghĩa trong bối cảnh Khoa học Dữ liệu](#4-câu-hỏi-ý-nghĩa-trong-bối-cảnh-khoa-học-dữ-liệu)\n",
    "5. [Khó khăn và kinh nghiệm](#5-khó-khăn-và-kinh-nghiệm)\n",
    "6. [Tài liệu tham khảo](#6-tài-liệu-tham-khảo)"
   ]
  },
  {
   "cell_type": "markdown",
   "id": "dbd080c4",
   "metadata": {},
   "source": [
    "\n",
    "# 0. Tổng quan \n",
    "\n",
    "Bộ dữ liệu về các vụ tử vong liên quan đến thuốc từ năm 2012-2022 trên `Ct Data` cung cấp thông tin toàn diện về sức khỏe, bao gồm nhiều yếu tố như các loại thuốc, đặc điểm dân số bao gồm giới tính và độ tuổi, cũng như bối cảnh địa lý của các trường hợp tử vong. Các dữ liệu này đóng vai trò quan trọng như một nguồn thông tin quan trọng để hiểu vấn đề về thuốc và đề xuất các biện pháp ngăn chặn. Phân tích bộ dữ liệu có thể xác định xu hướng và các yếu tố gây ra tử vong, hỗ trợ công tác ngăn chặn và điều trị. Điều này tạo ra cơ hội để đối mặt với thách thức về sức khỏe cộng đồng và xây dựng các chiến lược chống thuốc hiệu quả."
   ]
  },
  {
   "cell_type": "markdown",
   "id": "82db38a2",
   "metadata": {},
   "source": [
    "Thư viện sử dụng"
   ]
  },
  {
   "cell_type": "code",
   "execution_count": null,
   "id": "fd1cd4bd",
   "metadata": {},
   "outputs": [],
   "source": [
    "#import những gì bạn cần ở đây\n",
    "import numpy as np\n",
    "import pandas as pd\n",
    "import matplotlib.pyplot as plt\n",
    "import pandas as pd\n",
    "import plotly.graph_objects as go\n",
    "import plotly.express as px\n",
    "import seaborn as sns\n",
    "import geopandas as gpd\n",
    "import folium\n",
    "from folium.plugins import MarkerCluster"
   ]
  },
  {
   "cell_type": "markdown",
   "id": "a584bf68",
   "metadata": {},
   "source": [
    "# 1. Thu nhập dữ liệu"
   ]
  },
  {
   "cell_type": "markdown",
   "id": "575bcb5d",
   "metadata": {},
   "source": [
    "- **Về dữ liệu:** **The Connecticut Deaths due to Drugs Dataset** chứa thông tin về `10654` người đã tử vong do chất quá liều thuốc trong khoảng thời gian từ `2012 đến 2022` tại bang `Connecticut, Hoa Kỳ`.\n",
    "\n",
    "    Bộ dữ liệu bao gồm thông tin về tuổi tác, sắc tộc, giới tính, địa chỉ cư trú của những nạn nhân cũng như các loại thuốc gây quá liều. Thông tin này có thể được sử dụng để hiểu xem việc sử dụng thuốc là phổ biến ở một khu vực hay thành phố cụ thể, sử dụng thuốc trong các nhóm tuổi và sắc tộc khác nhau, cũng như độ phổ biến của các loại thuốc khác nhau.\n",
    "    \n",
    " Bộ dữ liệu này có 48 cột và 10654 dòng. Tệp tin có các cột sau:\n",
    "1. `ID`: ID của Bệnh nhân\n",
    "2. `Date`: Thời gian Bệnh nhân qua đời\n",
    "3. `DateType`: Loại Ngày trong Cột 2 [Ngày Báo cáo hoặc Ngày Qua đời]\n",
    "4. `Age`: Tuổi của Bệnh nhân\n",
    "5. `Sex`: Giới tính của Bệnh nhân\n",
    "6. `Race`: Chủng tộc của Bệnh nhân\n",
    "7. `ResidenceCity`: Thành phố Cư trú\n",
    "8. `ResidenceCounty`: Quận Cư trú\n",
    "9. `ResidenceState`: Bang Cư trú\n",
    "10. `DeathCity`: Thành phố Qua đời\n",
    "11. `DeathCounty`: Quận Qua đời\n",
    "12. `Location`: Địa điểm Qua đời [Bệnh viện hoặc Nhà]\n",
    "13. `LocationifOther`: Địa điểm Qua đời nếu không phải là Bệnh viện hoặc Nhà\n",
    "14. `DescriptionofInjury`: Nguyên nhân gây tử vong\n",
    "15. `InjuryPlace`: Nơi xảy ra Sự kiện gây tử vong\n",
    "16. `InjuryCity`: Thành phố Sự kiện gây tử vong\n",
    "17. `InjuryCounty`: Quận Sự kiện gây tử vong\n",
    "18. `InjuryState`: Bang Sự kiện gây tử vong\n",
    "19. `COD`: Nguyên nhân chi tiết gây tử vong\n",
    "20. `OtherSignifican`: Các thương tích quan trọng khác có thể đã dẫn đến tử vong\n",
    "21. `Heroin`: Thuốc Nằm trong Cơ thể\n",
    "22. `Cocaine`: Thuốc Nằm trong Cơ thể\n",
    "23. `Fentanyl`: Thuốc Nằm trong Cơ thể\n",
    "24. `FentanylAnalogue`: Thuốc Nằm trong Cơ thể\n",
    "25. `Oxycodone`: Thuốc Nằm trong Cơ thể\n",
    "26. `Oxymorphone`: Thuốc Nằm trong Cơ thể\n",
    "27. `Ethanol`: Thuốc Nằm trong Cơ thể\n",
    "28. `Hydrocodone`: Thuốc Nằm trong Cơ thể \n",
    "29. `Benzodiazepine`: Thuốc Nằm trong Cơ thể \n",
    "30. `Methadone`: Thuốc Nằm trong Cơ thể \n",
    "31. `Amphet`: Thuốc Nằm trong Cơ thể\n",
    "32. `Tramad`: Thuốc Nằm trong Cơ thể \n",
    "33. `Morphine_NotHeroin`: Thuốc Nằm trong Cơ thể \n",
    "34. `Hydromorphone`: Thuốc Nằm trong Cơ thể\n",
    "35. `Other`: Thuốc Nằm trong Cơ thể \n",
    "36. `OpiateNOS`: Thuốc Nằm trong Cơ thể \n",
    "37. `AnyOpioid`: Thuốc Nằm trong Cơ thể \n",
    "--------------------------------------\n",
    "44. `MannerofDeath`: Phương thức tử vong\n",
    "45. `DeathCityGeo`: Thành phố Qua đời\n",
    "46. `ResidenceCityGeo`: Thành phố Cư trú\n",
    "47. `InjuryCityGeo`: Thành phố Sự kiện gây tử vong\n",
    "\n",
    "\n",
    "- **Giấy phép:** Bộ dữ liệu này được thu thập từ `the US Government's \n",
    "Open Data Initiative Accidental Drug Related Deaths Dataset`.\n",
    "Trang Dự Án Dữ liệu Mở đề cập đến nguồn gốc của bộ dữ liệu như sau:\n",
    "Local Government, Connecticut"
   ]
  },
  {
   "cell_type": "markdown",
   "id": "2a2ba84f",
   "metadata": {},
   "source": [
    "# 2. Tiền xử lý dữ liệu"
   ]
  },
  {
   "cell_type": "markdown",
   "id": "b085c5b0",
   "metadata": {},
   "source": [
    "## 2.0 Tổng quát"
   ]
  },
  {
   "cell_type": "markdown",
   "id": "6b8729f8",
   "metadata": {},
   "source": [
    " **Đọc dữ liệu từ file .csv**"
   ]
  },
  {
   "cell_type": "code",
   "execution_count": null,
   "id": "cf80e76e",
   "metadata": {},
   "outputs": [],
   "source": [
    "# Đọc dữ liệu từ ./Accidental Drug Related Deaths in Connecticut-2012-2018 và lưu vào DrugDeath_df\n",
    "DrugDeath_df = pd.read_csv('./Data/Accidental_Drug_Related_Deaths_2012-2022.csv')\n",
    "\n",
    "DrugDeath_df.head(5)"
   ]
  },
  {
   "cell_type": "markdown",
   "id": "f258bfc6",
   "metadata": {},
   "source": [
    "**Có bao nhiêu hàng và bao nhiêu cột?**"
   ]
  },
  {
   "cell_type": "code",
   "execution_count": null,
   "id": "2db2528e",
   "metadata": {},
   "outputs": [],
   "source": [
    "# Lưu số dòng của DrugDeath_df vào n_rows và số cột của DrugDeath_df vào n_cols\n",
    "n_rows, n_cols = DrugDeath_df.shape\n",
    "\n",
    "# In ra màn hình số dòng và số cột của DrugDeath_df\n",
    "print(f'({n_rows}, {n_cols})')"
   ]
  },
  {
   "cell_type": "markdown",
   "id": "33d4ecca",
   "metadata": {},
   "source": [
    "**Ý nghĩa của một hàng là gì?**\n",
    "\n",
    "\n",
    "Mỗi dòng trong bộ dữ liệu này chứa thông tin về một cá nhân đã qua đời do chất gây nghiện. Cụ thể:\n",
    "\n",
    "- `Thông tin Dân số`: Bao gồm các chi tiết về người đó như tuổi, giới tính, chủng tộc và địa chỉ cư trú.\n",
    "\n",
    "- `Thông tin về cái chết`: Bao gồm ngày, địa điểm, nguyên nhân cụ thể và cách thức tử vong (ví dụ, có chủ ý hay ngẫu nhiên).\n",
    "\n",
    "- `Thông tin về chất gây nghiện`: Cung cấp chi tiết về các loại thuốc cụ thể được phát hiện trong cơ thể của cá nhân tại thời điểm tử vong.\n",
    "\n",
    "Mỗi dòng trong dữ liệu này không chỉ là một bộ số liệu; nó đại diện cho câu chuyện về sự mất mát không cần thiết của một cá nhân. Nó kết hợp thông tin cá nhân, ngữ cảnh về cái chết và tác động của chất gây nghiện lên sự rời bỏ đau lòng này. Hiểu sâu hơn về những yếu tố này có thể giúp ngăn chặn và giảm thiểu các trường hợp tương tự trong tương lai."
   ]
  },
  {
   "cell_type": "markdown",
   "id": "2462003c",
   "metadata": {},
   "source": [
    "Chọn ra các cột sẽ dùng + giải thích lí do"
   ]
  },
  {
   "cell_type": "code",
   "execution_count": null,
   "id": "440c2430",
   "metadata": {},
   "outputs": [],
   "source": [
    "DrugDeath_df.columns"
   ]
  },
  {
   "cell_type": "code",
   "execution_count": null,
   "id": "784bce55",
   "metadata": {},
   "outputs": [],
   "source": [
    "DrugDeath_df = DrugDeath_df[['Date', 'Age', 'Sex', 'Race',\n",
    "        'Location', 'Cause of Death', 'Heroin', 'Cocaine',\n",
    "       'Fentanyl', 'Fentanyl Analogue', 'Oxycodone', 'Oxymorphone', 'Ethanol',\n",
    "       'Hydrocodone', 'Benzodiazepine', 'Methadone', 'Meth/Amphetamine',\n",
    "       'Amphet', 'Tramad', 'Hydromorphone', 'Morphine (Not Heroin)',\n",
    "       'Xylazine', 'Gabapentin', 'Opiate NOS', 'Heroin/Morph/Codeine', 'ResidenceCityGeo',\n",
    "       'DeathCityGeo']]"
   ]
  },
  {
   "cell_type": "markdown",
   "id": "fb7acd43",
   "metadata": {},
   "source": [
    "## 2.1 Có các dòng trùng lặp không??"
   ]
  },
  {
   "cell_type": "code",
   "execution_count": null,
   "id": "29dc7343",
   "metadata": {},
   "outputs": [],
   "source": [
    "# Kiểm tra các dòng bị trùng lặp\n",
    "duplicate_rows = DrugDeath_df[DrugDeath_df.duplicated()]\n",
    "\n",
    "# Hiển thị nếu có dòng bị trùng lặp\n",
    "if duplicate_rows.shape[0] > 0:\n",
    "    print(\"Có các dòng bị trùng lặp\")\n",
    "    # Xóa các dòng trùng lặp\n",
    "    DrugDeath_df.drop_duplicates(inplace=True)\n",
    "    print(\"Đã xóa các dòng bị lặp.\")\n",
    "else:\n",
    "    print(\"Không có các dòng bị trùng lặp\")"
   ]
  },
  {
   "cell_type": "markdown",
   "id": "ee8fd9bf",
   "metadata": {},
   "source": [
    "**Kết luận**: Chúng ta có thể thấy rằng bộ dữ liệu không chứa các dòng trùng lặp"
   ]
  },
  {
   "cell_type": "markdown",
   "id": "46ff7b33",
   "metadata": {},
   "source": [
    "## 2.2 Kiểu dữ liệu của mỗi cột và các giá trị bị thiếu"
   ]
  },
  {
   "cell_type": "markdown",
   "id": "848f9c4e",
   "metadata": {},
   "source": [
    "### 2.2.1 Kiểu dữ liệu của mỗi cột"
   ]
  },
  {
   "cell_type": "code",
   "execution_count": null,
   "id": "39c17284",
   "metadata": {},
   "outputs": [],
   "source": [
    "# Kiểm tra kiểu dữ liệu hiện tại của các cột\n",
    "print(DrugDeath_df.info())"
   ]
  },
  {
   "cell_type": "markdown",
   "id": "587b0d2c",
   "metadata": {},
   "source": [
    "Hầu hết các cột có kiểu dữ liệu đúng, tuy nhiên có một số ngoại lệ:\n",
    "\n",
    "- Cột `Date` nên có kiểu dữ liệu là Datetime.\n",
    "- `Age` nên có kiểu dữ liệu là int thay vì float.\n",
    "- Các cột như `Heroin, Cocaine, Fentanyl, v.v.,` xác nhận sự hiện diện hoặc vắng mặt của mỗi chất độc hại, nên có kiểu dữ liệu là bool thay vì object."
   ]
  },
  {
   "cell_type": "code",
   "execution_count": null,
   "id": "47e31ca6",
   "metadata": {},
   "outputs": [],
   "source": [
    "#Chuyển cột Date thành datetime\n",
    "DrugDeath_df['Date'] = pd.to_datetime(DrugDeath_df['Date'], format='%m/%d/%Y')"
   ]
  },
  {
   "cell_type": "markdown",
   "id": "fd685045",
   "metadata": {},
   "source": [
    "Ta sẽ xem xét các cột nên có kiểu dữ liệu boolean"
   ]
  },
  {
   "cell_type": "code",
   "execution_count": null,
   "id": "0cc7dde8",
   "metadata": {
    "scrolled": true
   },
   "outputs": [],
   "source": [
    "#Xem các giá trị có trong các cột\n",
    "drugs = ['Heroin', 'Cocaine',\n",
    "       'Fentanyl', 'Fentanyl Analogue', 'Oxycodone', 'Oxymorphone', 'Ethanol',\n",
    "       'Hydrocodone', 'Benzodiazepine', 'Methadone', 'Meth/Amphetamine',\n",
    "       'Amphet', 'Tramad', 'Hydromorphone', 'Morphine (Not Heroin)',\n",
    "       'Xylazine', 'Gabapentin', 'Opiate NOS', 'Heroin/Morph/Codeine']\n",
    "\n",
    "for col in drugs: \n",
    "    print(col)\n",
    "    print(DrugDeath_df[col].unique())"
   ]
  },
  {
   "cell_type": "markdown",
   "id": "f053626d",
   "metadata": {},
   "source": [
    "Trong ngữ cảnh này, việc xem xét `NaN` và `N` như nhau là hợp lý vì không có bằng chứng nào chỉ ra sự hiện diện của chất được kiểm tra trong cơ thể nạn nhân. Do đó, chúng ta có thể thay thế các trường hợp `NaN` bằng `N` trong những cột này.\n",
    "\n",
    "Trước khi chuyển đổi các cột này sang kiểu boolean, cần xử lý các giá trị đặc biệt. Cụ thể, chúng ta cần xử lý các giá trị khác True (Y) và False (N hoặc NaN) trong những cột này. Hầu hết các cột thể hiện một mẫu chuẩn chỉ có 'Y', 'N' và 'NaN', nhưng có một số ngoại lệ:\n",
    "\n",
    "    - `Other Opioid`: Bao gồm các giá trị [nan 'Buprenorphine' 'MDMA, Buprenorphine' 'Mitragynine' 'ketamine' 'PCP' 'Difluro' 'pcp' 'Y']. Vì cột này đại diện cho sự hiện diện của các chất gây nghiện khác, chúng ta có thể xem xét các câu trả lời như 'Buprenorphine' 'MDMA, Buprenorphine', ... như 'Y'.\n",
    "\n",
    "    - `Morphine (Not Heroin)`: [nan 'Y' 'PCP NEG' 'NO RX BUT STRAWS' 'STOLE MEDS']. Đầu tiên, hãy xem xét ý nghĩa của các giá trị đặc biệt:\n",
    "\n",
    "        - PCP NEG: Cho biết kết quả âm tính cho PCP, không liên quan đến Heroin. Xem xét như 'Y'.\n",
    "        - NO RX BUT STRAWS: Cho biết không có đơn thuốc nhưng có ống hút, có thể không liên quan đến Heroin. Xem xét như 'Y'.\n",
    "        - STOLE MEDS: Cho biết thuốc bị đánh cắp, không liên quan đến Heroin. Xem xét như 'Y'.\n",
    "--> Do đó, cột này có thể xem xét như 'Y' cho những trường hợp đặc biệt này.\n",
    "\n",
    "Fentanyl: [nan 'Y' 'Y (PTCH)' 'Y POPS']\n",
    "\n",
    "    - `Y PTCH`: Fentanyl được phát hiện dưới dạng miếng dính.\n",
    "    - `Y POPS`: Fentanyl được phát hiện dưới dạng kẹo.\n",
    "    Xem xét những giá trị này như 'Y'.\n",
    "Tóm lại, một cách tiếp cận chung cho tất cả các cột có thể được sáng tạo như sau:"
   ]
  },
  {
   "cell_type": "code",
   "execution_count": null,
   "id": "22602d14",
   "metadata": {},
   "outputs": [],
   "source": [
    "#chuyển thành kiểu boolean (null hoặc 'N' là False, còn lại là True)\n",
    "for col in drugs: \n",
    "    DrugDeath_df[col] = DrugDeath_df[col].notnull() & (DrugDeath_df[col] != 'N')"
   ]
  },
  {
   "cell_type": "markdown",
   "id": "6ad78c6d",
   "metadata": {},
   "source": [
    "### 2.2.3 Xử lí các giá trị bị thiếu"
   ]
  },
  {
   "cell_type": "markdown",
   "id": "199efe4d",
   "metadata": {},
   "source": [
    "- Với mỗi cột, giá trị thiếu được phân phối như thế nào?\n",
    "- Tỉ lệ phần trăm của giá trị thiếu là bao nhiêu?\n",
    "- Có bao nhiêu giá trị khác nhau? Chúng có lạ lùng không?"
   ]
  },
  {
   "cell_type": "markdown",
   "id": "aafb143c",
   "metadata": {},
   "source": [
    "#### Trước hết, hãy xem xét số lượng giá trị thiếu trong mỗi cột."
   ]
  },
  {
   "cell_type": "code",
   "execution_count": null,
   "id": "5ab9c04e",
   "metadata": {
    "scrolled": false
   },
   "outputs": [],
   "source": [
    "missing_values = DrugDeath_df.isnull().sum().sort_values(ascending=True)\n",
    "\n",
    "fig = go.Figure(data=[go.Bar(\n",
    "    y=missing_values.index,\n",
    "    x=missing_values.values,\n",
    "    orientation='h',\n",
    "    marker_color='#1f77b4'\n",
    ")])\n",
    "\n",
    "fig.update_layout(\n",
    "    title_text='Số lượng giá trị bị thiếu của mỗi cột',\n",
    "    xaxis_title='Số lượng giá trị bị thiếu',\n",
    "    yaxis_title='Tên cột',\n",
    "    yaxis={'autorange': 'reversed'},\n",
    "    height=800\n",
    ")\n",
    "\n",
    "fig.show()\n"
   ]
  },
  {
   "cell_type": "markdown",
   "id": "734ea1d1",
   "metadata": {},
   "source": [
    "#### Tiếp theo, ta sẽ xử lý chúng"
   ]
  },
  {
   "cell_type": "markdown",
   "id": "c1cfec19",
   "metadata": {},
   "source": [
    "- Trong quá trình này, tôi sẽ sử dụng **Imputation**.\n",
    "    - Đối với dữ liệu phân loại, thường sử dụng giá trị mode (giá trị xuất hiện nhiều nhất).\n",
    "    - Đối với dữ liệu số, có thể sử dụng giá trị trung bình hoặc trung vị tùy thuộc vào phân phối của dữ liệu."
   ]
  },
  {
   "cell_type": "code",
   "execution_count": null,
   "id": "7f8303d7",
   "metadata": {},
   "outputs": [],
   "source": [
    "categorical_cols = DrugDeath_df.select_dtypes(include=['object', 'category']).columns\n",
    "numerical_cols = DrugDeath_df.select_dtypes(include=['int64', 'float64']).columns\n",
    "\n",
    "missing_categorical_cols = [col for col in categorical_cols if DrugDeath_df[col].isnull().any()]\n",
    "missing_numerical_cols = [col for col in numerical_cols if DrugDeath_df[col].isnull().any()]\n",
    "\n",
    "print(\"Các cột phân loại có giá trị bị thiếu:\")\n",
    "print(missing_categorical_cols)\n",
    "\n",
    "print(\"\\nCác cột số có giá trị bị thiếu:\")\n",
    "print(missing_numerical_cols)"
   ]
  },
  {
   "cell_type": "code",
   "execution_count": null,
   "id": "f2d55766",
   "metadata": {},
   "outputs": [],
   "source": [
    "#Xử lí Age, Sex, Location, Race bằng cách điền median và mode\n",
    "# For numerical columns\n",
    "DrugDeath_df['Age'] = DrugDeath_df['Age'].fillna(DrugDeath_df['Age'].median())\n",
    "DrugDeath_df['Age'] = DrugDeath_df['Age'].astype(int)\n",
    "\n",
    "# For categorical columns\n",
    "for col in missing_categorical_cols:\n",
    "    DrugDeath_df[col] = DrugDeath_df[col].fillna(DrugDeath_df[col].mode()[0])"
   ]
  },
  {
   "cell_type": "markdown",
   "id": "821f2623",
   "metadata": {},
   "source": [
    "\n",
    "Kiểm tra lại xem có bất kỳ cột nào khác còn giá trị thiếu không?"
   ]
  },
  {
   "cell_type": "code",
   "execution_count": null,
   "id": "42ed0646",
   "metadata": {},
   "outputs": [],
   "source": [
    "missing_cols = DrugDeath_df.columns[DrugDeath_df.isnull().any()].tolist()\n",
    "\n",
    "print(\"Cột có giá trị bị thiếu:\")\n",
    "print(missing_cols)"
   ]
  },
  {
   "cell_type": "markdown",
   "id": "41549a24",
   "metadata": {},
   "source": [
    "### 2.2.4 2.2.4 Xử lý giá trị lạ lùng\n",
    "- Trong cột `Cause of Death`, có những giá trị như:\n",
    "    - **Acetyl Fentanyl**, những giá trị này thuộc về cột `Fentanyl Analogue`.\n",
    "    - **Tramadol** thuộc cột `Tramad`, và có một số trường hợp lạ lùng như vậy.\n",
    "Ví dụ: với giá trị `\"Acute Intoxication due to the Combined Effects of Fentanyl, Xylazine, Cocaine and Tramadol\"`, ta sẽ chuyển nó thành\n",
    "`\"Fentanyl, Xylazine, Cocaine, Tramadol\"`.\n",
    "\n",
    "- Các bước xử lí vấn đề?\n",
    "    - Bước 1: Loại bỏ những từ không mong muốn, như: \"Acute Intoxication due to the Combined Effects of\" , \"and\", v.v.\n",
    "    - Bước 2: Tạo một cột mới `Details Cause` từ tên các loại thuốc trong cột `Cause of Death` để giúp công việc sau này dễ dàng hơn.\n",
    "Ví dụ: với giá trị \"`Acute Intoxication due to the Combined Effects of Fentanyl, Xylazine, Cocaine and Tramadol\"`, tôi sẽ chuyển nó thành `\"Fentanyl, Xylazine, Cocaine, Tramadol\"`."
   ]
  },
  {
   "cell_type": "markdown",
   "id": "5f82a7ab",
   "metadata": {},
   "source": [
    "#### Bước 1: Loại bỏ từ không cần thiết."
   ]
  },
  {
   "cell_type": "code",
   "execution_count": null,
   "id": "a3f7f1da",
   "metadata": {},
   "outputs": [],
   "source": [
    "# rename 'Cause of Death' into COD for more convienient\n",
    "\n",
    "DrugDeath_df = DrugDeath_df.rename(columns={'Cause of Death': 'COD'})\n",
    "\n",
    "#Tạo cột mới chứa ds các thuốc là nguyên nhân trục tiếp gây tử vong\n",
    "# Đổi tên cột 'Cause of Death' thành 'COD'\n",
    "DrugDeath_df['COD'] = DrugDeath_df['COD'].str.lower()\n",
    "\n",
    "# Loại bỏ các từ không mong muốn\n",
    "unwanted_words = ['from the','ination', 'combination', 'pharmaceutical','with','use','by','complications','toxic', 'abuse' ,' of ', 'toxicity associated with', 'intoxiation', 'multidrug', 'toxicity' ,'including', 'chronic substance abuse'\n",
    "    'acute intoxication by the combined effects of','while using' 'recent','effects','ity' ,'toxicities','combined','intoxication', 'acute', 'due to' ,'the', 'combined effects of', 'combined drug toxicity', 'multi-drug', 'following','chronic substance use','(',')']\n",
    "for word in unwanted_words:\n",
    "    DrugDeath_df['COD'] = DrugDeath_df['COD'].str.replace(word, '')\n",
    "\n",
    "# Thay thế 'and' bằng ','\n",
    "DrugDeath_df['COD'] = DrugDeath_df['COD'].str.replace('and', ',')\n",
    "DrugDeath_df['COD'] = DrugDeath_df['COD'].str.replace('  ', ',')\n",
    "DrugDeath_df['COD'] = DrugDeath_df['COD'].str.replace('/', ',')"
   ]
  },
  {
   "cell_type": "markdown",
   "id": "09df91f1",
   "metadata": {},
   "source": [
    "#### Step 2: Tạo cột `Details Cause` "
   ]
  },
  {
   "cell_type": "code",
   "execution_count": null,
   "id": "d9c0a79d",
   "metadata": {},
   "outputs": [],
   "source": [
    "#Hợp cột Fetanyl và Fentanyl Analogue thành cột Fentanyl & Analogue có giá trị True nếu có ít nhất 1 trong 2 cột trên có giá trị True\n",
    "DrugDeath_df['Fentanyl & Analogue'] = DrugDeath_df['Fentanyl'] | DrugDeath_df['Fentanyl Analogue']\n",
    "#Bỏ cột Fentanyl và Fentanyl Analogue\n",
    "DrugDeath_df.drop(columns=['Fentanyl', 'Fentanyl Analogue'], inplace=True)"
   ]
  },
  {
   "cell_type": "markdown",
   "id": "6fa12882",
   "metadata": {},
   "source": [
    "Tạo một cột mới từ COD để phân loại giá trị trong COD sao cho phù hợp với các cột thuốc."
   ]
  },
  {
   "cell_type": "code",
   "execution_count": null,
   "id": "57dfe77c",
   "metadata": {},
   "outputs": [],
   "source": [
    "# List of drugs\n",
    "drugs = ['Heroin', 'Cocaine',\n",
    "       'Fentanyl & Analogue', 'Oxycodone', 'Oxymorphone', 'Ethanol',\n",
    "       'Hydrocodone', 'Benzodiazepine', 'Methadone','Amphetamine',\n",
    "       'Tramadol', 'Hydromorphone', 'Morphine',\n",
    "       'Xylazine', 'Gabapentin', 'Opiate NOS', 'Heroin','Codeine']\n",
    "\n",
    "def remove_dup(df, column):\n",
    "    df[column] = df[column].apply(lambda x: ', '.join(sorted(set(str(x).strip() for x in str(x).split(', ')))))\n",
    "    return df\n",
    "\n",
    "#Function to find drugs in 'COD' and add them to 'Details Cause'\n",
    "def find_drugs(row):\n",
    "    global all_stripped_words\n",
    "    a = []\n",
    "    details_cause = []\n",
    "    for drug in drugs:\n",
    "        if drug.lower() in row['COD'].lower() or (drug.lower() + 's') in row['COD'].lower():\n",
    "            details_cause.append(drug)\n",
    "    if 'alcohol' in row['COD'].lower():\n",
    "        details_cause.append('Ethanol')\n",
    "\n",
    "    if 'fentanyl' in row['COD'].lower():\n",
    "        details_cause.append('Fentanyl & Analogue')\n",
    "\n",
    "    if 'opiates' in row['COD'].lower() or 'opiate' in row['COD'].lower() :\n",
    "        details_cause.append('Opiate NOS')\n",
    "\n",
    "    if not details_cause:\n",
    "        details_cause.append('Other')\n",
    "        return ''.join(details_cause)\n",
    "    return ', '.join(details_cause)\n",
    "\n",
    "# Apply the function to the 'COD' column\n",
    "DrugDeath_df['Details Cause'] = DrugDeath_df.apply(find_drugs, axis=1)\n",
    "DrugDeath_df = remove_dup(DrugDeath_df, 'Details Cause')"
   ]
  },
  {
   "cell_type": "code",
   "execution_count": null,
   "id": "86b4e8ec",
   "metadata": {},
   "outputs": [],
   "source": [
    "DrugDeath_df['Details Cause'].str.get_dummies(sep=', ').columns"
   ]
  },
  {
   "cell_type": "markdown",
   "id": "780509f6",
   "metadata": {},
   "source": [
    "# 3. Khám phá dữ liệu"
   ]
  },
  {
   "cell_type": "markdown",
   "id": "76141036",
   "metadata": {},
   "source": [
    "## 3.1 Giá trị được phân phối như thế nào?"
   ]
  },
  {
   "cell_type": "markdown",
   "id": "d73a2c26",
   "metadata": {},
   "source": [
    "### 3.1.1 Với các cột số, giá trị được phân phối như thế nào?"
   ]
  },
  {
   "cell_type": "code",
   "execution_count": null,
   "id": "f89ba0e9",
   "metadata": {},
   "outputs": [],
   "source": [
    "DrugDeath_df['Age'].describe()"
   ]
  },
  {
   "cell_type": "code",
   "execution_count": null,
   "id": "24e90c0f",
   "metadata": {},
   "outputs": [],
   "source": [
    "num_bins = int(np.sqrt((DrugDeath_df['Age'].nunique())))\n",
    "\n",
    "plt.figure(figsize=(10,6))\n",
    "plt.hist(DrugDeath_df['Age'],bins=range(0, 101, 10), edgecolor='black')\n",
    "plt.title('Distribution of Age')\n",
    "plt.xlabel('Age')\n",
    "plt.xticks(range(0, 101, 10))\n",
    "plt.ylabel('Frequency')\n",
    "plt.show()\n"
   ]
  },
  {
   "cell_type": "markdown",
   "id": "a5dbe283",
   "metadata": {},
   "source": [
    "### 3.1.2 Với các cột phân loại, giá trị được phân phối như thế nào?"
   ]
  },
  {
   "cell_type": "markdown",
   "id": "f4d84f74",
   "metadata": {},
   "source": [
    "Đối với cột `Sex`, hãy tạo biểu đồ tròn để minh họa phân phối các giá trị."
   ]
  },
  {
   "cell_type": "code",
   "execution_count": null,
   "id": "4be55c57",
   "metadata": {},
   "outputs": [],
   "source": [
    "# Đếm số lượng nam và nữ\n",
    "sex_counts = DrugDeath_df['Sex'].value_counts()\n",
    "\n",
    "# Vẽ biểu đồ tròn\n",
    "plt.figure(figsize=(6, 6))\n",
    "plt.pie(sex_counts, labels=sex_counts.index, autopct='%1.1f%%', colors=['blue', 'pink'])\n",
    "plt.title('Tỉ lệ tử vong nam và nữ')\n",
    "plt.show()"
   ]
  },
  {
   "cell_type": "markdown",
   "id": "12657dce",
   "metadata": {},
   "source": [
    "\n",
    "Chúng ta sẽ tính tỷ lệ **nam/nữ** trong dữ liệu để có cái nhìn khách quan hơn."
   ]
  },
  {
   "cell_type": "code",
   "execution_count": null,
   "id": "7c1c6d79",
   "metadata": {},
   "outputs": [],
   "source": [
    "# Tính tỷ lệ tử vong giữa nam và nữ\n",
    "male_deaths = sex_counts['Male']\n",
    "female_deaths = sex_counts['Female']\n",
    "death_ratio = male_deaths / female_deaths\n",
    "print(f\"Tỉ lệ tử vong nam/nữ': {death_ratio:.2f}\")"
   ]
  },
  {
   "cell_type": "markdown",
   "id": "59a4a396",
   "metadata": {},
   "source": [
    "Chúng ta sẽ tạo một biểu đồ cột để hình dung tần suất của mỗi loại thuốc được phát hiện trong cơ thể của nạn nhân."
   ]
  },
  {
   "cell_type": "code",
   "execution_count": null,
   "id": "63d0be0b",
   "metadata": {},
   "outputs": [],
   "source": [
    "drug_column = ['Heroin', 'Cocaine',\n",
    "       'Oxycodone', 'Oxymorphone', 'Ethanol', 'Hydrocodone', 'Benzodiazepine',\n",
    "       'Methadone', 'Meth/Amphetamine', 'Amphet', 'Tramad', 'Hydromorphone',\n",
    "       'Morphine (Not Heroin)', 'Xylazine', 'Gabapentin', 'Opiate NOS',\n",
    "       'Heroin/Morph/Codeine', 'Fentanyl & Analogue']\n",
    "\n",
    "#Lặp qua tất cả các cột thuốc, vì đây là boolean nên chỉ cần dùng .sum() để đếm số lượng True\n",
    "drugs_found = DrugDeath_df.copy()\n",
    "drugs_found = drugs_found[drug_column].sum().sort_values(ascending=False)\n",
    "drugs_found \n",
    "\n",
    "# Chuyển đổi Series thành DataFrame để vẽ biểu đồ\n",
    "drugs_found_df = drugs_found.reset_index()\n",
    "drugs_found_df.columns = ['Drug', 'Count']\n",
    "\n",
    "# Vẽ biểu đồ cột\n",
    "fig = px.bar(drugs_found_df, x='Drug', y='Count', title='Số lượng bệnh nhân', color_discrete_sequence=['steelblue'])\n",
    "fig.show()"
   ]
  },
  {
   "cell_type": "markdown",
   "id": "53965ae5",
   "metadata": {},
   "source": [
    "Đối với cột chỉ ra nguyên nhân của cái chết, chúng ta sẽ xem xét có bao nhiêu nạn nhân có liên quan trực tiếp đến từng loại thuốc."
   ]
  },
  {
   "cell_type": "code",
   "execution_count": null,
   "id": "fec59cff",
   "metadata": {},
   "outputs": [],
   "source": [
    "def count_drug_frequency(df, column):\n",
    "    # Tách cột thành các tên thuốc riêng biệt\n",
    "    df[column] = df[column].str.split(',')\n",
    "\n",
    "    # Mở rộng các danh sách thành các dòng riêng biệt\n",
    "    df = df.explode(column)\n",
    "\n",
    "    # Loại bỏ khoảng trắng ở đầu/cuối\n",
    "    df[column] = df[column].str.strip()\n",
    "\n",
    "    # Đếm tần suất xuất hiện của mỗi tên thuốc\n",
    "    drug_counts = df[column].value_counts()\n",
    "\n",
    "    return drug_counts\n",
    "\n",
    "drug_counts = count_drug_frequency(DrugDeath_df.copy(), 'Details Cause')\n",
    "\n",
    "# Chuyển đổi Series thành DataFrame để vẽ biểu đồ\n",
    "drug_counts_df = drug_counts.reset_index()\n",
    "drug_counts_df.columns = ['Drug', 'Count']\n",
    "\n",
    "# Vẽ biểu đồ cột\n",
    "fig = px.bar(drug_counts_df, x='Drug', y='Count', title='Tần suất xuất hiện của từng loại thuốc', color_discrete_sequence=['steelblue'])\n",
    "fig.show()"
   ]
  },
  {
   "cell_type": "markdown",
   "id": "66f4313a",
   "metadata": {},
   "source": [
    "Với cột DeathCityGeo, ResidenceCityGeo ta sẽ tạo biểu đồ cột để trực quan hóa tần suất xuất hiện của mỗi thành phố. Nhưng trước hết, ta sẽ kiểm tra có gì bất thường trong dữ liệu hay không?"
   ]
  },
  {
   "cell_type": "code",
   "execution_count": null,
   "id": "979a2792",
   "metadata": {},
   "outputs": [],
   "source": [
    "#Quan sát dữ liệu của 2 cột này\n",
    "print(DrugDeath_df['DeathCityGeo'].unique())\n",
    "print(DrugDeath_df['ResidenceCityGeo'].unique())"
   ]
  },
  {
   "cell_type": "markdown",
   "id": "f25d3dac",
   "metadata": {},
   "source": [
    "Ta thấy có một số giá trị không chứa tên thành phố, chỉ có tên bang Connecticut. Ta sẽ xem xét các giá trị này."
   ]
  },
  {
   "cell_type": "code",
   "execution_count": null,
   "id": "beece3fe",
   "metadata": {},
   "outputs": [],
   "source": [
    "#in ra unique value các hàng không có giá trị gì trước \", CT\"\n",
    "print(DrugDeath_df[DrugDeath_df['DeathCityGeo'].str.contains(', CT') == False]['DeathCityGeo'].unique())\n",
    "print(DrugDeath_df[DrugDeath_df['ResidenceCityGeo'].str.contains(', CT') == False]['ResidenceCityGeo'].unique())\n"
   ]
  },
  {
   "cell_type": "markdown",
   "id": "a80ff6d3",
   "metadata": {},
   "source": [
    "Sau khi kiểm tra trên google map, các toạ độ trên thuộc về thành phố Middletown, Connecticut. Do đó, ta sẽ bôt sung vào các giá trị này bằng tên thành phố Middletown.  "
   ]
  },
  {
   "cell_type": "code",
   "execution_count": null,
   "id": "f27f7736",
   "metadata": {},
   "outputs": [],
   "source": [
    "#Thêm \"Middletown\", vào các hàng không có giá trị gì trước \", CT\"\n",
    "def add_middletown(value):\n",
    "    #Nếu dữ liệu bắt đầu bằng CT\n",
    "    if value.startswith('CT'):\n",
    "        return 'Middletown, ' + value\n",
    "    else:\n",
    "        return value\n",
    "\n",
    "DrugDeath_df['DeathCityGeo'] = DrugDeath_df['DeathCityGeo'].apply(add_middletown)\n",
    "DrugDeath_df['ResidenceCityGeo'] = DrugDeath_df['ResidenceCityGeo'].apply(add_middletown)"
   ]
  },
  {
   "cell_type": "markdown",
   "id": "3dbc351c",
   "metadata": {},
   "source": [
    "Để tiện cho làm việc sau này, ta sẽ tạo thêm cột `DeathCity` và `ResidenceCity` để lưu tên thành phố."
   ]
  },
  {
   "cell_type": "code",
   "execution_count": null,
   "id": "b9fc7fbd",
   "metadata": {},
   "outputs": [],
   "source": [
    "#Từ cột DeathCityGeo và ResidenceCityGeo, tạo 2 cột mới là DeathCity và ResidenceCity\n",
    "# Tạo cột mới 'DeathCity' từ cột 'DeathCityGeo'\n",
    "DrugDeath_df['DeathCity'] = DrugDeath_df['DeathCityGeo'].str.split(',').str[0]\n",
    "# Tạo cột mới 'ResidenceCity' từ cột 'ResidenceCityGeo'\n",
    "DrugDeath_df['ResidenceCity'] = DrugDeath_df['ResidenceCityGeo'].str.split(',').str[0]"
   ]
  },
  {
   "cell_type": "markdown",
   "id": "098583b6",
   "metadata": {},
   "source": [
    "Vẽ biểu đồ cột để trực quan hóa tần suất xuất hiện của mỗi thành phố."
   ]
  },
  {
   "cell_type": "code",
   "execution_count": null,
   "id": "a6799f2d",
   "metadata": {},
   "outputs": [],
   "source": [
    "#Với cột DeathCityGeo, ResidenceCityGeo ta sẽ tạo biểu đồ cột để trực quan hóa tần suất của mỗi thành phố.\n",
    "# Đếm số lượng bệnh nhân theo thành phố\n",
    "city_counts = DrugDeath_df['DeathCity'].value_counts().head(10)\n",
    "#Visualize the counts\n",
    "plt.figure(figsize=(10, 6))\n",
    "plt.bar(city_counts.index, city_counts.values, color='steelblue')\n",
    "plt.title('Tần suất xuất hiện của từng thành phố')\n",
    "plt.xlabel('Thành phố')\n",
    "plt.ylabel('Số lượng')\n",
    "plt.xticks(rotation=90)\n",
    "plt.show()"
   ]
  },
  {
   "cell_type": "code",
   "execution_count": null,
   "id": "1bf6202b",
   "metadata": {},
   "outputs": [],
   "source": [
    "#Với cột DeathCityGeo, ResidenceCityGeo ta sẽ tạo biểu đồ cột để trực quan hóa tần suất của mỗi thành phố.\n",
    "# Đếm số lượng bệnh nhân theo thành phố\n",
    "city_counts = DrugDeath_df['ResidenceCity'].value_counts().head(10)\n",
    "#Visualize the counts\n",
    "plt.figure(figsize=(10, 6))\n",
    "plt.bar(city_counts.index, city_counts.values, color='steelblue')\n",
    "plt.title('Tần suất xuất hiện của từng thành phố')\n",
    "plt.xlabel('Thành phố')\n",
    "plt.ylabel('Số lượng')\n",
    "plt.xticks(rotation=90)\n",
    "plt.show()"
   ]
  },
  {
   "cell_type": "markdown",
   "id": "33984bb8",
   "metadata": {},
   "source": [
    "## 3.2 Sự tương quan giữa **Tuổi** và **Các loại chất gây nghiện**"
   ]
  },
  {
   "cell_type": "markdown",
   "id": "06051794",
   "metadata": {},
   "source": [
    "### Bước 1: Tính toán các hệ số tương quan"
   ]
  },
  {
   "cell_type": "code",
   "execution_count": null,
   "id": "b18daf7f",
   "metadata": {},
   "outputs": [],
   "source": [
    "# Sao lưu một bản sao của DataFrame gốc\n",
    "df_copy = DrugDeath_df.copy()\n",
    "\n",
    "# Tạo một dictionary để lưu trữ hệ số tương quan giữa 'Age' và các thuốc\n",
    "correlations = {}\n",
    "\n",
    "# Lặp qua từng cột thuốc và tính toán tương quan\n",
    "for column in df_copy.columns:\n",
    "    if df_copy[column].dtype == bool:  # Chỉ xem xét các cột dạng boolean\n",
    "        correlation = df_copy['Age'].corr(df_copy[column].astype(int), method='pearson')\n",
    "        correlations[column] = correlation"
   ]
  },
  {
   "cell_type": "markdown",
   "id": "c389c566",
   "metadata": {},
   "source": [
    "### Bước 2: Minh họa bằng heatmap"
   ]
  },
  {
   "cell_type": "code",
   "execution_count": null,
   "id": "b685c97a",
   "metadata": {},
   "outputs": [],
   "source": [
    "# Chuyển đổi dictionary thành DataFrame để vẽ biểu đồ\n",
    "correlation_df = pd.DataFrame(list(correlations.items()), columns=['Drug', 'Correlation'])\n",
    "\n",
    "# Sắp xếp DataFrame theo giá trị tăng dần của hệ số tương quan\n",
    "correlation_df = correlation_df.sort_values(by='Correlation')\n",
    "\n",
    "# Tạo DataFrame có chỉ số là tên thuốc và cột là 'Age' và giá trị là hệ số tương quan\n",
    "heatmap_data = correlation_df.set_index('Drug').T\n",
    "plt.figure(figsize=(10, 6))\n",
    "sns.heatmap(heatmap_data, annot=False, cmap='coolwarm')\n",
    "plt.title('Sự tương quan giữa tuổi và các chất gây nghiện')\n",
    "plt.xlabel('Loại chất gây nghiện')\n",
    "plt.ylabel('Tuổi')\n",
    "plt.show()"
   ]
  },
  {
   "cell_type": "markdown",
   "id": "1a8a101e",
   "metadata": {},
   "source": [
    "**Nhận xét:**\n",
    "- Các chất gây nghiện có tương quan rất yếu với tuổi, có thể nói gần như không có mối quan hệ tuyến tính nào giữa các chất này và tuổi.\n",
    "- Heroin có mức tương quan tiêu cực nhẹ hơn (màu xanh nhạt) bao gồm: Amphet và Meth/Amphetamine.\n",
    "- Gabapentin có mức tương quan tích cực mạnh nhất với tuổi tác (màu đỏ sẫm), có nghĩa là loại chất gây nghiện này có thể được sử dụng nhiều hơn bởi những người lớn tuổi.\n",
    "- Các loại chất gây nghiện khác như Cocaine, Methadone, và Hydrocodone cũng cho thấy một mức độ tương quan tích cực nhẹ hơn (màu đỏ nhạt)."
   ]
  },
  {
   "cell_type": "markdown",
   "id": "60f2620e",
   "metadata": {},
   "source": [
    "## 3.3 Minh hoạ số lượng người tử vong của mỗi thành phố"
   ]
  },
  {
   "cell_type": "markdown",
   "id": "bd65fce4",
   "metadata": {},
   "source": [
    "### Bước 1: Thống kê số lượng người tử vong theo từng thành phố"
   ]
  },
  {
   "cell_type": "code",
   "execution_count": null,
   "id": "01a2c7b3",
   "metadata": {},
   "outputs": [],
   "source": [
    "# Tạo bản sao dataframe\n",
    "DrugDeath_df_copy = DrugDeath_df.copy()\n",
    "\n",
    "top_cities = DrugDeath_df_copy['DeathCityGeo'].value_counts()"
   ]
  },
  {
   "cell_type": "markdown",
   "id": "1ed3cd94",
   "metadata": {},
   "source": [
    "### Bước 2: Minh họa bằng bản đồ"
   ]
  },
  {
   "cell_type": "code",
   "execution_count": null,
   "id": "162469ba",
   "metadata": {},
   "outputs": [],
   "source": [
    "# Lọc dữ liệu cho 5 thành phố có số lượng tử vong cao nhất\n",
    "top_cities_data = DrugDeath_df_copy[DrugDeath_df_copy['DeathCityGeo'].isin(top_cities.index)]\n",
    "\n",
    "# Tách dữ liệu về vĩ độ (latitude) và kinh độ (longitude) từ cột 'DeathCityGeo'\n",
    "lat_lon = top_cities_data['DeathCityGeo'].str.extract(r'\\(([-+]?\\d+\\.\\d+), ([-+]?\\d+\\.\\d+)\\)')\n",
    "\n",
    "# Xử lý ngoại lệ: Nếu không tìm thấy tên thành phố, đặt là 'Noname'\n",
    "top_cities_data['City'] = top_cities_data['DeathCityGeo'].str.extract(r'\\s(.*),').fillna('Noname')\n",
    "\n",
    "top_cities_data['Latitude'] = lat_lon[0].astype(float)\n",
    "top_cities_data['Longitude'] = lat_lon[1].astype(float)\n",
    "\n",
    "# Tạo một bản đồ được căn chỉnh vào tọa độ trung bình (median coordinates)\n",
    "map_center = list(top_cities_data[['Latitude', 'Longitude']].median())\n",
    "m = folium.Map(location=map_center, zoom_start=5)\n",
    "\n",
    "# Thêm các đánh dấu cho các thành phố hàng đầu\n",
    "mc = MarkerCluster()\n",
    "for idx, row in top_cities_data.iterrows():\n",
    "    if row['City'] == 'Noname':\n",
    "        popup_text = 'Noname'\n",
    "    else:\n",
    "        popup_text = f\"{row['City']}\"\n",
    "    mc.add_child(folium.Marker([row['Latitude'], row['Longitude']], popup=popup_text))\n",
    "\n",
    "m.add_child(mc)\n",
    "\n",
    "m\n"
   ]
  },
  {
   "cell_type": "markdown",
   "id": "0f638657",
   "metadata": {},
   "source": [
    "**Nhận xét:**\n",
    "- Thành phố không rõ tên (có tọa độ 41.573507300003, -72.738509097997) dẫn đầu với số lượng tử vong vượt quá 1400.\n",
    "- Hartford, CT (với tọa độ 41.765775, -72.673356) tiếp theo với số lượng tử vong hơn 800.\n",
    "- New Haven, CT (tọa độ 41.308252, -72.924161) với số lượng tử vong hơn 600.\n",
    "- Waterbury, CT (tọa độ 41.554261, -73.043069) có số lượng tử vong hơn 400.\n",
    "- Bridgeport, CT (tọa độ 41.179195, -73.189476) với số lượng tử vong gần 400."
   ]
  },
  {
   "cell_type": "markdown",
   "id": "28f5a43b",
   "metadata": {},
   "source": [
    "## 3.4 Top 5 chi tiết nguyên nhân chết phổ biến nhất là gì?"
   ]
  },
  {
   "cell_type": "markdown",
   "id": "4f2969ee",
   "metadata": {},
   "source": [
    "### Bước 1: Đếm số lần xuất hiện của từng chi tiết nguyên nhân chết. Sau đó, chọn ra top 5."
   ]
  },
  {
   "cell_type": "code",
   "execution_count": null,
   "id": "f18810a2",
   "metadata": {},
   "outputs": [],
   "source": [
    "# Sao lưu một bản sao của DataFrame gốc\n",
    "df_copy = DrugDeath_df.copy()\n",
    "\n",
    "# Đếm số lần xuất hiện của từng chi tiết nguyên nhân chết và chọn ra top 5\n",
    "top_5_death_causes = df_copy['Details Cause'].value_counts().head(5)\n",
    "\n",
    "# Hiển thị top 5 chi tiết nguyên nhân chết phổ biến nhất\n",
    "print(\"Top 5 Chi Tiết Nguyên Nhân Chết Phổ Biến Nhất:\")\n",
    "print(top_5_death_causes)"
   ]
  },
  {
   "cell_type": "markdown",
   "id": "974890a6",
   "metadata": {},
   "source": [
    "### Bước 2: Minh họa bằng biểu đồ cột"
   ]
  },
  {
   "cell_type": "code",
   "execution_count": null,
   "id": "0ee40050",
   "metadata": {},
   "outputs": [],
   "source": [
    "# Vẽ biểu đồ cho 5 nguyên nhân gây tử vong phổ biến nhất\n",
    "plt.figure(figsize=(10, 6))\n",
    "top_5_death_causes.plot(kind='barh', color='steelblue')\n",
    "plt.title('Top 5 Chi Tiết Nguyên Nhân Chết Phổ Biến Nhất:')\n",
    "plt.xlabel('Số lần xảy ra')\n",
    "plt.ylabel('Chi Tiết Nguyên Nhân Chết')\n",
    "plt.show()"
   ]
  },
  {
   "cell_type": "markdown",
   "id": "e4f4579d",
   "metadata": {},
   "source": [
    "**Nhận xét:**\n",
    "- Các nguyên nhân từ cao xuống thấp là:\n",
    "    - Fentanyl, Fentanyl Analog, Heroin\n",
    "    - Ethanol, Fentanyl, Fentanyl Analog\n",
    "    - Heroin\n",
    "    - Cocaine, Fentanyl, Fentanyl Analog\n",
    "    - Fentanyl, Fentanyl Analog\n",
    "- Nguyên nhân hàng đầu gây tử vong là sự kết hợp của Fentanyl, Fentanyl Analog và Heroin với số lần xuất hiện gần 1400 lần. Các nguyên nhân khác cũng chứa Fentanyl và các chất analog của nó, cho thấy rằng Fentanyl là một vấn đề lớn trong các trường hợp tử vong liên quan đến ma túy.\n",
    "- Heroin và Ethanol cũng được nhắc đến như là các nguyên nhân chính"
   ]
  },
  {
   "cell_type": "markdown",
   "id": "0f2b2efe",
   "metadata": {},
   "source": [
    "# 4. Câu hỏi ý nghĩa trong bối cảnh Khoa học Dữ liệu"
   ]
  },
  {
   "cell_type": "markdown",
   "id": "986ef56a",
   "metadata": {},
   "source": [
    "## 4.1 Câu hỏi 1: Tìm các thuốc (Cause) có tỉ lệ tử vong cao nhất , với các thuốc đó thì xu hướng sử dụng, xu hướng tử vong qua mỗi năm thay đổi như thế nào?\n",
    "\n",
    "- Lợi ích:\n",
    "    - Giúp chính phủ có biện pháp hạn chế phù hợp đối với việc sử dụng các chất trên.\n",
    "    - Đưa ra cảnh báo cho người dân."
   ]
  },
  {
   "cell_type": "code",
   "execution_count": null,
   "id": "e8127779",
   "metadata": {},
   "outputs": [],
   "source": [
    "cause_info = cause_count = DrugDeath_df.copy()\n",
    "cause_count['Details Cause'] = cause_info['Details Cause'].str.split(', ').copy()\n",
    "# Sử dụng .stack() để chuyển đổi dữ liệu thành dạng stack\n",
    "stacked_values = cause_count['Details Cause'].apply(pd.Series).stack()\n",
    "\n",
    "# Đếm số lần xuất hiện của mỗi giá trị\n",
    "top_5_values = stacked_values.value_counts().nlargest(5)\n",
    "\n",
    "print(top_5_values)"
   ]
  },
  {
   "cell_type": "code",
   "execution_count": null,
   "id": "e2755f1e",
   "metadata": {},
   "outputs": [],
   "source": [
    "# Tạo một cột mới 'Year' bằng cách trích xuất năm từ cột 'Date'\n",
    "cause_info['Year'] = cause_info['Date'].dt.year\n",
    "\n",
    "# Tạo DataFrame mới để lưu trữ số lần xuất hiện của từng giá trị theo năm\n",
    "yearly_counts = pd.DataFrame()\n",
    "\n",
    "# Vòng lặp qua top 5 giá trị\n",
    "for value in top_5_values.index:\n",
    "    # Tạo một mask boolean cho từng giá trị\n",
    "    mask = cause_info['Details Cause'].apply(lambda x: value in x)\n",
    "    # Đếm số lần xuất hiện của giá trị trong mỗi năm\n",
    "    yearly_count = cause_info[mask].groupby('Year').size()\n",
    "    # Thêm số lần xuất hiện vào DataFrame\n",
    "    yearly_counts[value] = yearly_count\n",
    "\n",
    "# Vẽ biểu đồ đường\n",
    "%matplotlib inline \n",
    "plt.figure(figsize=(6, 6))\n",
    "yearly_counts.plot(kind='line')\n",
    "plt.title('Số lần xuất hiện của từng giá trị hàng đầu theo năm')\n",
    "plt.xlabel('Năm')\n",
    "# plt.xticks(range(2012, 2023))\n",
    "plt.ylabel('Số ca tử vong liên quan')\n",
    "plt.show()\n"
   ]
  },
  {
   "cell_type": "markdown",
   "id": "47fa1112",
   "metadata": {},
   "source": [
    "Nhận xét:\n",
    "- Chúng ta có thể thấy với hai chất `Fentanyl` và `Fentanyl Analogue`, Số ca tử vong có liên quan tới hai chất này tăng mạnh qua hàng năm và đạt đỉnh ở năm 2021 (hơn 1200 ca). Tuy nhiên  2021 trở đi, có sự giảm thiểu về số ca mà hai chất này có liên quan. \n",
    "- Với hai chất `Cocaine và Ethanol`, số ca có tử vong liên quan tới hai chất này nhìn chung luôn tăng đều. Tuy nhiên vào năm 2021, có sự suy giảm ở số lượng ca có liên quan tới `Ethanol`.\n",
    "- Với `Heroin`, Số ca tử vong liên quan tới chất này đạt đỉnh ở năm 2016 với khoảng 500 ca và giảm dần cho tới năm 2022. Có thể thấy chất này được quản lí tốt.\n"
   ]
  },
  {
   "cell_type": "markdown",
   "id": "aeab4a12",
   "metadata": {},
   "source": [
    "## 4.4 Question 2: Liệu độ tuổi sử dụng các chất kích thích có bị trẻ hóa?\n",
    "Như trong phần EDA, ta có thể thấy số lượng ca tử vong liên quan tới các chất tăng dần qua hàng năm. Liệu xu hướng đó có trẻ hóa?\n",
    "- Lợi ích: \n",
    "    - Giúp chính quyền đưa ra các chính sách quản lý và răn đe phù hợp.\n",
    "    - Giúp người dân nâng cao ý thức cảnh giác.\n",
    "    - Hạn chế tệ nạn xã hội, giúp nâng cao chất lượng con  người."
   ]
  },
  {
   "cell_type": "code",
   "execution_count": null,
   "id": "a4225b8a",
   "metadata": {},
   "outputs": [],
   "source": [
    "df = DrugDeath_df.copy()\n",
    "df['Date'] = pd.to_datetime(df['Date'])\n",
    "# Tạo cột 'Year' từ 'Date'\n",
    "df['Year'] = df['Date'].dt.year\n",
    "\n",
    "df[[\"Age\",\"Year\"]]\n",
    "\n",
    "# Tạo 3 nhóm tuổi\n",
    "df['Age_Group'] = pd.cut(df['Age'], bins=[0, 25, 50, np.inf], labels=['<=25', '25-50', '>50'])\n",
    "\n",
    "# Tính số lượng người trong mỗi nhóm tuổi qua từng năm\n",
    "age_group_counts = df.groupby(['Year', 'Age_Group']).size().unstack()\n",
    "\n",
    "# Vẽ line chart\n",
    "plt.figure(figsize=(10, 6))\n",
    "for column in age_group_counts.columns:\n",
    "    plt.plot(age_group_counts.index, age_group_counts[column], marker='', linewidth=2, label=column)\n",
    "\n",
    "plt.title('Số ca tử vong theo nhóm tuổi qua hằng năm')\n",
    "plt.xlabel('Year')\n",
    "plt.ylabel('Số ca')\n",
    "plt.legend()\n",
    "plt.show()\n",
    "\n"
   ]
  },
  {
   "cell_type": "markdown",
   "id": "4b9beed5",
   "metadata": {},
   "source": [
    "## 4.2 Câu hỏi 3: Các thuốc gây nguyên nhân tử vong cao nhất cho từng nhóm tuổi và sự chuyển biến của nó theo độ tuổi?"
   ]
  },
  {
   "cell_type": "code",
   "execution_count": null,
   "id": "6be72749",
   "metadata": {},
   "outputs": [],
   "source": [
    "DrugDeath_df_copy = DrugDeath_df.copy()\n",
    "DrugDeath_df_copy = DrugDeath_df_copy.explode('Details Cause')"
   ]
  },
  {
   "cell_type": "markdown",
   "id": "4b9322e7",
   "metadata": {},
   "source": [
    "### Bước 1: Phân loại cột \"Age\" thành các nhóm độ tuổi theo quy định quốc tế"
   ]
  },
  {
   "cell_type": "code",
   "execution_count": null,
   "id": "9e22d6a0",
   "metadata": {},
   "outputs": [],
   "source": [
    "# Phân loại độ tuổi thành 3 nhóm\n",
    "def classify_age_group(age):\n",
    "    if age > 55:\n",
    "        return 'Người già'\n",
    "    elif 35 <= age <= 55:\n",
    "        return 'Người trung niên'\n",
    "    elif 18 <= age <= 34:\n",
    "        return 'Người thanh niên'\n",
    "    elif 14 <= age <= 17:\n",
    "        return 'Người vị thành niên'\n",
    "    else:\n",
    "        return 'Người thiếu nhi'\n",
    "\n",
    "DrugDeath_df_copy['Age Group'] = DrugDeath_df_copy['Age'].apply(classify_age_group)"
   ]
  },
  {
   "cell_type": "markdown",
   "id": "8572fc12",
   "metadata": {},
   "source": [
    "### Bước 2: Tìm mỗi loại thuốc gây tử vong cao nhất ở mỗi độ tuổi"
   ]
  },
  {
   "cell_type": "code",
   "execution_count": null,
   "id": "106acefa",
   "metadata": {},
   "outputs": [],
   "source": [
    "# Nhóm theo Age Group và Details Death, đếm số lần xuất hiện của mỗi loại thuốc\n",
    "top_drugs_by_age = DrugDeath_df_copy.groupby(['Age Group', 'Details Cause']).size().reset_index(name='count')\n",
    "\n",
    "# Tìm loại thuốc gây tử vong nhiều nhất trong mỗi nhóm tuổi\n",
    "top_drugs_by_age = top_drugs_by_age.loc[top_drugs_by_age.groupby('Age Group')['count'].idxmax()]\n",
    "\n",
    "# Đổi tên cột 'Details Cause' thành 'Name of Drug'\n",
    "top_drugs_by_age = top_drugs_by_age.rename(columns={'Details Cause': 'Name of Drug'})\n",
    "\n",
    "print(top_drugs_by_age)"
   ]
  },
  {
   "cell_type": "markdown",
   "id": "ce818b5d",
   "metadata": {},
   "source": [
    "- Ta thấy, ở tất cả 5 nhóm độ tuổi, loại thuốc gây tử vong cao nhất đều là `Fentanyl Analogue`. Do đó ta không cần phải vẽ mỗi loại thuốc gây tử vong cao nhất cho từng độ tuổi để minh họa sự chuyển biến của loại thuốc đó lên các độ tuổi còn lại. Mà ta chỉ cần vẽ một đồ thị để minh họa tác động của loại thuốc `Fentanyl Analogue` lên 5 nhóm tuổi mà ta đã phân loại trước đó."
   ]
  },
  {
   "cell_type": "markdown",
   "id": "05e026da",
   "metadata": {},
   "source": [
    "### Bước 3: Minh họa bằng biểu đồ đường"
   ]
  },
  {
   "cell_type": "code",
   "execution_count": null,
   "id": "0f44ab15",
   "metadata": {},
   "outputs": [],
   "source": [
    "age_groups = ['Người thiếu nhi', 'Người vị thành niên', 'Người thanh niên', 'Người trung niên', 'Người già']\n",
    "\n",
    "# Lấy dữ liệu cho biểu đồ\n",
    "deaths_by_age_group = [top_drugs_by_age[top_drugs_by_age['Age Group'] == age]['count'].values[0] for age in age_groups]\n",
    "# Vẽ biểu đồ đường\n",
    "plt.figure(figsize=(8, 6))\n",
    "plt.plot(age_groups, deaths_by_age_group, marker='o', linestyle='-', color='red')\n",
    "plt.xlabel('Nhóm tuổi')\n",
    "plt.ylabel('Số lượng ca tử vong')\n",
    "plt.title('Số lượng Tử vong do Fentanyl Analogue trong Các Nhóm Tuổi Khác nhau')\n",
    "plt.xticks(rotation=45)\n",
    "\n",
    "# Thêm chú thích số lên mỗi điểm\n",
    "for i, txt in enumerate(deaths_by_age_group):\n",
    "    plt.text(age_groups[i], txt, str(txt), ha='center', va='bottom')\n",
    "\n",
    "plt.tight_layout()\n",
    "plt.show()"
   ]
  },
  {
   "cell_type": "markdown",
   "id": "4fdc9213",
   "metadata": {},
   "source": [
    "- Nhận xét:\n",
    "    - Ta thấy mặc dù ở mỗi nhóm tuổi khác nhau, thì loại thuốc `Fentanyl Analogue` đều gây tử vong nhiều nhất.\n",
    "    - Tuy nhiên, ta cũng có thể nhìn thấy được, ở nhóm tuổi `Người Trung Niên` có mức độ tử vong cao nhất gây ra bởi loại thuốc `Fentanyl Analogue` so với các nhóm tuổi khác.\n",
    "    - Ở các nhóm tuổi có sức lao động cao lại có xu hướng dễ bị tử vong vì sốc thuốc.\n",
    "    - Ở đây, ta thêm vào nhóm tuổi là thiếu nhi chỉ mang tính chất tượng trưng, tuy nhiên, ở trong dữ liệu này cũng đã xuất hiện có một ca tử vong. Và có thể xu hướng này có thể tăng thêm nữa.  "
   ]
  },
  {
   "cell_type": "markdown",
   "id": "cf86c728",
   "metadata": {},
   "source": [
    "## Question 4: Liệu có sự khác biệt về loại ma tuý được sử dụng ở các chủng tộc/ nhóm tuổi hay không?\n",
    "\n",
    "Lợi ích: giúp chúng ta hiểu rõ hơn về mô hình sử dụng ma tuý trong cộng đồng, xác định được những nhóm có nguy cơ cao nhất. Từ đó chúng ta có thể phát triển các chiến lược can thiệp và phòng ngừa ma tuý hiệu quả hơn, dựa trên nhu cầu cụ thể của từng nhóm"
   ]
  },
  {
   "cell_type": "code",
   "execution_count": null,
   "id": "71003bb7",
   "metadata": {
    "scrolled": false
   },
   "outputs": [],
   "source": [
    "df = DrugDeath_df.copy()\n",
    "\n",
    "drugs = ['Heroin', 'Cocaine', 'Fentanyl & Analogue', 'Oxycodone', 'Oxymorphone', 'Ethanol',\n",
    "         'Hydrocodone', 'Benzodiazepine', 'Methadone', 'Meth/Amphetamine', 'Amphet', 'Tramad', \n",
    "         'Hydromorphone', 'Morphine (Not Heroin)', 'Xylazine', 'Gabapentin', 'Opiate NOS', \n",
    "         'Heroin/Morph/Codeine']\n",
    "\n",
    "race_groups = {\n",
    "    \"White Group\": [\"White\"],\n",
    "    \"Black Group\": [\"Black\", \"Black or African American\"],\n",
    "    \"Asian Group\": [\"Asian, Other\", \"Asian Indian\", \"Other Asian\", \"Chinese\", \"Korean\"],\n",
    "    \"Unknown/Other Group\": [\"Unknown\", \"Other\", \"American Indian or Alaska Native\", \"Hawaiian\", \"Native American, Other\"]\n",
    "}\n",
    "\n",
    "bins = [0, 25, 60, 100]\n",
    "labels = [\"Young\", \"Middle\", \"Old\"]\n",
    "df['AgeGroup'] = pd.cut(df['Age'], bins=bins, labels=labels)\n",
    "df['RaceGroup'] = df['Race'].apply(lambda race: next((group for group, races in race_groups.items() if race in races), \"Unknown/Other Group\"))\n",
    "\n",
    "# Heatmap 1\n",
    "df_drug_usage = df.groupby(['AgeGroup', 'RaceGroup'], observed = False)[drugs].sum().reset_index().melt(id_vars=['AgeGroup', 'RaceGroup'], value_vars=drugs, var_name='Drug', value_name='Count')\n",
    "\n",
    "plt.figure(figsize=(10, 8))\n",
    "sns.heatmap(df_drug_usage.pivot_table(index='Drug', columns=['AgeGroup', 'RaceGroup'], values='Count'), cmap='YlGnBu')\n",
    "plt.title('Drug Usage by Age Group and Race Group')\n",
    "plt.show()\n",
    "\n",
    "# Heatmap 2\n",
    "drugs = ['Amphetamine', 'Benzodiazepine', 'Cocaine', 'Codeine', 'Ethanol',\n",
    "       'Fentanyl & Analogue', 'Gabapentin', 'Heroin', 'Hydrocodone',\n",
    "       'Hydromorphone', 'Methadone', 'Morphine', 'Opiate NOS',\n",
    "       'Oxycodone', 'Oxymorphone', 'Tramadol', 'Xylazine']\n",
    "\n",
    "df = df[['AgeGroup', 'RaceGroup', 'Details Cause']].join(df['Details Cause'].str.get_dummies(sep=', '))\n",
    "df_drug_usage = df.groupby(['AgeGroup', 'RaceGroup'],  observed = False)[drugs].sum().reset_index().melt(id_vars=['AgeGroup', 'RaceGroup'], var_name='Drug', value_name='Count')\n",
    "\n",
    "plt.figure(figsize=(10, 8))\n",
    "sns.heatmap(df_drug_usage.pivot_table(index='Drug', columns=['AgeGroup', 'RaceGroup'], values='Count'), cmap='YlGnBu')\n",
    "plt.title('Số lượng Tử vong Liên quan đến Chất Ma túy theo Nhóm Tuổi và Nhóm Chủng Tộc')\n",
    "plt.show()\n"
   ]
  },
  {
   "cell_type": "markdown",
   "id": "a06fd170",
   "metadata": {},
   "source": [
    "Nhận xét: \n",
    "- 3 nhóm người sử dụng nhiều ma tuý nhất là Middle-White, Middle-Black và Young-White.\n",
    "- Độ tuổi dùng thuốc tập trung chủ yếu ở Young và Middle\n",
    "- Nhóm dân Châu Á ít sử dụng thuốc nhất, nhóm White dùng nhiều nhất.\n",
    "- Ở các nhóm dùng ma tuý nhiều, có xu hướng chung: sử dụng nhiều nhất là Fetanyl, Cocain, Heroin, Ethanol\n",
    "- Với biểu đồ về loại thuốc liên quan trục tiếp đến cái chết của nạn nhân, có thể thấy rằng Fentanyl, Cocaine, Heroin, Ethanol là những loại thuốc gây ra nhiều cái chết nhất, tương tự như biểu đồ về loại thuốc sử dụng\n",
    "- Có sự tương đồng giữa số nạn nhân sử dụng một loại thuốc và số nạn nhân có nguyên nhân tử vong do loại thuốc đó gây ra, 2 thông số này gàn như suýt soát nhau, điều này có thể chứng minh rắng các loại thuốc này rất độc, tỉ lệ tử vong khá cao"
   ]
  },
  {
   "cell_type": "markdown",
   "id": "cf86c728",
   "metadata": {},
   "source": [
    "## 4.5 Câu hỏi 5: Liệu có sự khác biệt về tình hình sử dụng ma tuý giữa 3 thành phố có nhiều nạn nhân nhất hay không?\n",
    "\n",
    "Nếu tồn tại sự khác biệt đáng kể về tình hình sử dụng ma tuý giữa các thành phố, điều này sẽ yêu cầu chính phủ phải thực hiện các chính sách và biện pháp can thiệp riêng biệt, phù hợp với từng địa phương để kiểm soát tình hình. \n",
    "\n",
    "Do đó, em muốn tiến hành phân tích để xác định xem có sự khác biệt nào giữa các thành phố hay không, nhằm cung cấp một cái nhìn chi tiết và rõ ràng về tình hình sử dụng ma tuý tại các thành phố khác nhau"
   ]
  },
  {
   "cell_type": "code",
   "execution_count": null,
   "id": "415807e6",
   "metadata": {},
   "outputs": [],
   "source": [
    "df['DeathCity'].unique()"
   ]
  },
  {
   "cell_type": "code",
   "execution_count": null,
   "id": "a6195588",
   "metadata": {},
   "outputs": [],
   "source": [
    "df = DrugDeath_df.copy()\n",
    "df['Age Group'] = pd.cut(df['Age'], bins=[0, 25, 60, 100], labels=['Young', 'Middle', 'Old'])\n",
    "df['Year'] = pd.DatetimeIndex(df['Date']).year\n",
    "\n",
    "#chọn ra 3 thành phố có nhiều nạn nhân nhất\n",
    "top_cities = df['DeathCity'].value_counts().head(3)\n",
    "# Bỏ giá trị đầu\n",
    "\n",
    "city_stats = df[DrugDeath_df['DeathCity'].isin(top_cities.index)].groupby('DeathCity').apply(lambda city_data: pd.Series({\n",
    "    'Death Count': len(city_data),\n",
    "    'Average Age': city_data['Age'].mean(),\n",
    "    'Growth Rate': city_data['Year'].value_counts().sort_index().pct_change().mean(),\n",
    "    'Old Percentage': (city_data['Age Group'] == 'Old').mean() * 100,\n",
    "    'Middle Percentage': (city_data['Age Group'] == 'Middle').mean() * 100,\n",
    "    'Young Percentage': (city_data['Age Group'] == 'Young').mean() * 100\n",
    "})).reset_index()\n",
    "\n",
    "city_stats"
   ]
  },
  {
   "cell_type": "code",
   "execution_count": null,
   "id": "0fa188fe",
   "metadata": {},
   "outputs": [],
   "source": [
    "df = city_stats.set_index('DeathCity')\n",
    "\n",
    "# Scale dữ liệu theo từng cột bằng cách lấy giá trị trong từng cột chia cho max\n",
    "for col in df.columns:\n",
    "    df[col] = df[col] / df[col].max()\n",
    "\n",
    "df_scaled = df\n",
    "\n",
    "fig = go.Figure()\n",
    "\n",
    "for i in range(len(df_scaled)):\n",
    "    fig.add_trace(go.Scatterpolar(\n",
    "        r=df_scaled.loc[df_scaled.index[i], :].tolist(),\n",
    "        theta=df_scaled.columns.tolist(),\n",
    "        fill='toself',\n",
    "        name=df_scaled.index[i]\n",
    "    ))\n",
    "\n",
    "# Cập nhật layout\n",
    "fig.update_layout(\n",
    "    polar=dict(\n",
    "        radialaxis=dict(\n",
    "            visible=True,\n",
    "            range=[0, 1]\n",
    "        )),\n",
    "    showlegend=True\n",
    ")\n",
    "\n",
    "fig.show()"
   ]
  },
  {
   "cell_type": "markdown",
   "id": "5331df35",
   "metadata": {},
   "source": [
    "Nhận xét:\n",
    "- Tuổi thọ trung bình của nạn nhân ở các thành phố là như nhau, khoảng 44 tuổi\n",
    "- Tỉ lệ nạn nhân tử vong ở độ tuổi trung niên của các thành phố cũng tương đương nhau, khoảng 80%\n",
    "- Ở thành phố Hartford, đây là thành phố đứng đầu về số nạn nhân tử vong. Tỉ lệ tăng trưởng trung bình ở đây cũng là cao nhất trong các thành phố. Tỉ lệ lớp trẻ dùng ma tuý ở đây cũng cao hơn so với các thành phố khác.\n",
    "- Ở thành phố New Heaven, tỉ lệ tăng trưởng trung bình ở đây cao hơn so với thành phố Waterbury, và thấp hơn Hartford. Tỉ lệ lớp trẻ dùng ma tuý ở đây cũng gần như tương tự Hartford. Bên cạnh đó, tỉ lệ lớp lớn tuổi tử vong vì ma tuý ở đây cao nhất trong 3 thành phố.\n",
    "- Đứng thứ 3 trong danh sách là thành phố Waterbury, tỉ lệ tăng trưởng trung bình ở đây thấp nhất trong 3 thành phố. Tỉ lệ lớp trẻ dùng ma tuý ở đây cũng thấp hơn hẳn so với Hartford và New Heaven, chỉ bằng khoảng 1 nửa các thành phố này.\n",
    "\n",
    "Từ đó, ta thấy được rằng, tình hình sử dụng ma tuý ở thành phố Hartford và New Heaven là tồi tệ nhất, có xu hướng trẻ hoá. Ở thành phố Waterbury, tình hình sử dụng ma tuý tương đối khả quan hơn nhiều, chứng tỏ các biện pháp kiểm soát tại đây đã có hiệu quả hơn so với các thành phố khác."
   ]
  },
  {
   "cell_type": "markdown",
   "id": "02483f21",
   "metadata": {},
   "source": [
    "# 5. Khó khăn và kinh nghiệm "
   ]
  },
  {
   "cell_type": "markdown",
   "id": "1a7d8439",
   "metadata": {},
   "source": [
    "## 5.1 Những khó khăn gặp phải\n"
   ]
  },
  {
   "cell_type": "markdown",
   "id": "15b61d49",
   "metadata": {},
   "source": [
    "### Khó khăn khi tìm bộ dữ liệu"
   ]
  },
  {
   "cell_type": "markdown",
   "id": "0a95e91e",
   "metadata": {},
   "source": [
    "Giữa muôn vàng dataset để lựa chọn, chúng em phân vân không biết nên chọn dataset nào cho đồ án lần này."
   ]
  },
  {
   "cell_type": "markdown",
   "id": "345174d4",
   "metadata": {},
   "source": [
    "### Khó khăn khi xử lí các giá trị tên thuốc."
   ]
  },
  {
   "cell_type": "markdown",
   "id": "2425e1d5",
   "metadata": {},
   "source": [
    "- Ở bước xử lí cho cột `Details Cause`, chúng em gặp phải một vấn đề rất lớn đó là đưa các tên thuốc vào cột này.\n",
    "Trong khi các giá trị trong cột `Cause of Death` (Nguyên nhân chính gây tử vong) sẽ có các giá trị như `Tramadol` hay `Amphetamine`. Thì các cột tên thuốc lại là giá trị viết tắt\n",
    "như `Tramad`, `Amphet`. Có rất nhiều các giá trị như vậy nên chúng em khó có thể tìm kiếm và xử lí chúng.\n",
    "- Hơn nữa, các giá trị tên thuốc trong cột `Cause of Death` thường đi với những từ ngữ khác, ví dụ như `due to the combined of`, `and`,... Nên để loại bỏ những từ rác và lấy những tên thuốc quan trọng cũng là một điều khó khăn."
   ]
  },
  {
   "cell_type": "markdown",
   "id": "25e60c9d",
   "metadata": {},
   "source": [
    "### Khó khăn khi suy nghĩ câu hỏi hữu ích."
   ]
  },
  {
   "cell_type": "markdown",
   "id": "3a80d915",
   "metadata": {},
   "source": [
    "- Do đặc thù của dataset này có rất nhiều cột tên thuốc có kiểu boolean, có nhiều cột có tỉ lệ missing value cao và bắt buộc phải loại bỏ. Nên số lượng các cột hữu ích còn lại là khá khiêm tốn, khiến việc đặt câu hỏi hữu ích khá khó khăn."
   ]
  },
  {
   "cell_type": "markdown",
   "id": "654f46d6",
   "metadata": {},
   "source": [
    "## 5.2 Chúng em sẽ làm gì nếu có nhiều thời gian hơn?"
   ]
  },
  {
   "cell_type": "markdown",
   "id": "de0de6d9",
   "metadata": {},
   "source": [
    "### Xử lí hoàn hảo hơn cho các cột tên thuốc"
   ]
  },
  {
   "cell_type": "markdown",
   "id": "48e728a8",
   "metadata": {},
   "source": [
    "Chúng em sẽ tiến hành tìm tất cả các tên thuốc trong cột `Cause of Death`, sau đó đổi những tên cột được viết tắt(hay đặt tên khác) thành những tên cột tương ứng với Cause of Death để tận dụng được các cột này."
   ]
  },
  {
   "cell_type": "markdown",
   "id": "3f57318e",
   "metadata": {},
   "source": [
    "### Sử dụng mô hình học máy để trả lời những câu hỏi hữu ích."
   ]
  },
  {
   "cell_type": "markdown",
   "id": "113b034a",
   "metadata": {},
   "source": [
    "Do đặc thù của bộ dữ liệu, chúng em không biết để áp dụng học máy vào bộ dữ liệu này như thế nào. Hồi quy cái gì? Phân loại những gì? Khi mà câu hỏi đặt ra sẽ có những điểm không hợp lí. Ví dụ như:\n",
    "- Phân loại nhóm người nào sử dụng những chất nào: Bài toán này khá nhạy cảm, khi nó có thể liên quan đến phân biệt chủng tộc.\n"
   ]
  },
  {
   "cell_type": "markdown",
   "id": "faf2fb89",
   "metadata": {},
   "source": [
    "# 6. Tài liệu tham khảo"
   ]
  },
  {
   "cell_type": "markdown",
   "id": "09c1c323",
   "metadata": {},
   "source": [
    "Online:\n",
    "1. Link: [Accidental Drug - Analysis + Visualization](https://www.kaggle.com/code/fabriciositto/accidental-drug-analysis-visualization?fbclid=IwAR3r4unuG5Hp7arsvd6tUlaj5TW-3EXl8objVaR4XotuKsPMUbTcV0Afuy8)\n",
    "2. Link: [Github_P4DS-FinalProject_huyban2003](https://github.com/huyban2003/P4DS-FinalProject/blob/main/Notebook.ipynb?fbclid=IwAR1roSyqhOHEDbvlT8M7RGPZGtzJ4jFOeecj8q_4l8tCvSnLnos9deKotC0)"
   ]
  }
 ],
 "metadata": {
  "kernelspec": {
   "display_name": "Python 3 (ipykernel)",
   "language": "python",
   "name": "python3"
  },
  "language_info": {
   "codemirror_mode": {
    "name": "ipython",
    "version": 3
   },
   "file_extension": ".py",
   "mimetype": "text/x-python",
   "name": "python",
   "nbconvert_exporter": "python",
   "pygments_lexer": "ipython3",
   "version": "3.10.11"
  }
 },
 "nbformat": 4,
 "nbformat_minor": 5
}
