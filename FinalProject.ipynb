{
 "cells": [
  {
   "cell_type": "markdown",
   "id": "f310ab9f",
   "metadata": {},
   "source": [
    "# Programming for Data Science - 21KHDL1\n",
    "# Final Project\n",
    "# Topic:\n",
    "\n",
    "## Student Information \n",
    "| MSSV     | Họ tên          |\n",
    "| -------- | --------------- |\n",
    "| 21120570 | Đặng Nguyễn Thanh Tín |\n",
    "| 21120574 | Nguyễn Minh Trí |\n",
    "| 21120580 | Trần Thị Kim Trinh |\n",
    "\n",
    "## Table of contents\n",
    "- [Overview](#overview)\n",
    "- [Data Collection](#data-collection)\n",
    "- [Data Pre-processing and Exploration](#data-pre-processing-and-exploration)\n",
    "- [Quick view of Data](#quick-view-of-data)\n",
    "- [Questions](#questions)\n",
    "- [Reflection](#reflection)\n",
    "- [References](#references)\n",
    "\n",
    "\n",
    "# Overview\n",
    "\n",
    "The Kaggle dataset on drug-related deaths from 2012-2018 provides comprehensive health-related information, encompassing various factors such as drug categories, demographics including gender and age, and the geographical context of fatalities. Despite its age, this data serves as a crucial resource for comprehending the drug issue and proposing preventative measures. Analyzing the dataset can pinpoint trends and factors contributing to fatalities, supporting prevention and treatment efforts. This presents an opportunity to address the public health challenge and formulate effective anti-drug strategies."
   ]
  },
  {
   "cell_type": "markdown",
   "id": "82db38a2",
   "metadata": {},
   "source": [
    "Libraries used"
   ]
  },
  {
   "cell_type": "code",
   "execution_count": 82,
   "id": "fd1cd4bd",
   "metadata": {},
   "outputs": [],
   "source": [
    "#import những gì bạn cần ở đây\n",
    "import numpy as np\n",
    "import pandas as pd\n",
    "import matplotlib.pyplot as plt\n",
    "import pandas as pd\n",
    "import plotly.graph_objects as go\n",
    "import plotly.express as px\n",
    "import seaborn as sns"
   ]
  },
  {
   "cell_type": "markdown",
   "id": "a584bf68",
   "metadata": {},
   "source": [
    "# Data Collection"
   ]
  },
  {
   "cell_type": "markdown",
   "id": "575bcb5d",
   "metadata": {},
   "source": [
    "**The Connecticut Deaths due to Drugs Dataset** contains information about **5105** people who died due to drug overdose between **2012 and 2018** in Connecticut, US.\n",
    "\n",
    "The dataset includes data related to the age, race, gender, place of residence of the victims as well as the drugs they overdosed on. This information can be used to understand if drug use is prevalent in a specific area or city, drug use by individuals of different age groups and races as well as the popularity of different types of drugs.\n",
    "\n",
    "The dataset has **41 columns** and **5105 rows**. The file have the following columns:\n",
    "1. `ID`: ID of Patient\n",
    "2. `Date`: The time which Patient died \n",
    "3. `DateType`: Type of Date in Column 2 [Date of Reporting or Date of Death]\n",
    "4. `Age`: Age of Patient\n",
    "5. `Sex`: Sex of Patient\n",
    "6. `Race`: Race of Patient\n",
    "7. `ResidenceCity`: City of Residence\n",
    "8. `ResidenceCounty`: County of Residence\n",
    "9. `ResidenceState`: State of Residence\n",
    "10. `DeathCity`: City of Death\n",
    "11. `DeathCounty`: County of Death\n",
    "12. `Location`: Location of Death [Hospital or Residence]\n",
    "13. `LocationifOther`: Location of Death if Not Hospital or Residence\n",
    "14. `DescriptionofInjury`: Cause of Death\n",
    "15. `InjuryPlace`: Place of Event that caused Death\n",
    "16. `InjuryCity`: City of Event that caused Death\n",
    "17. `InjuryCounty`: County of Event that caused Death\n",
    "18. `InjuryState`: State of Event that caused Death\n",
    "19. `COD`: Detailed Cause of Death\n",
    "20. `OtherSignifican`: Other Significant Injuries that may have lead to Death\n",
    "21. `Heroin`: Drug Found in Body [Y/N] liệu heroin đã được phát hiện trong mẫu từ những trường hợp tử vong hay không?\n",
    "22. `Cocaine`: Drug Found in Body [Y/N]\n",
    "23. `Fentanyl`: Drug Found in Body [Y/N]\n",
    "24. `FentanylAnalogue`: Drug Found in Body [Y/N]\n",
    "25. `Oxycodone`: Drug Found in Body [Y/N]\n",
    "26. `Oxymorphone`: Drug Found in Body [Y/N]\n",
    "27. `Ethanol`: Drug Found in Body [Y/N]\n",
    "28. `Hydrocodone`: Drug Found in Body [Y/N]\n",
    "29. `Benzodiazepine`: Drug Found in Body [Y/N]\n",
    "30. `Methadone`: Drug Found in Body [Y/N]\n",
    "31. `Amphet`: Drug Found in Body [Y/N]\n",
    "32. `Tramad`: Drug Found in Body [Y/N]\n",
    "33. `Morphine_NotHeroin`: Drug Found in Body [Y/N]\n",
    "34. `Hydromorphone`: Drug Found in Body [Y/N]\n",
    "35. `Other`: Drug Found in Body [Y/N]\n",
    "36. `OpiateNOS`: Drug Found in Body [Y/N]\n",
    "37. `AnyOpioid`: Drug Found in Body [Y/N]\n",
    "38. `MannerofDeath`: Manner of Death\n",
    "39. `DeathCityGeo`: City of Death\n",
    "40. `ResidenceCityGeo`: City of Residence\n",
    "41. `InjuryCityGeo`: City of Injury"
   ]
  },
  {
   "cell_type": "markdown",
   "id": "2a2ba84f",
   "metadata": {},
   "source": [
    "# Data Pre-processing and Exploration"
   ]
  },
  {
   "cell_type": "markdown",
   "id": "6b8729f8",
   "metadata": {},
   "source": [
    "**Read Data**"
   ]
  },
  {
   "cell_type": "code",
   "execution_count": 83,
   "id": "cf80e76e",
   "metadata": {},
   "outputs": [
    {
     "data": {
      "text/html": [
       "<div>\n",
       "<style scoped>\n",
       "    .dataframe tbody tr th:only-of-type {\n",
       "        vertical-align: middle;\n",
       "    }\n",
       "\n",
       "    .dataframe tbody tr th {\n",
       "        vertical-align: top;\n",
       "    }\n",
       "\n",
       "    .dataframe thead th {\n",
       "        text-align: right;\n",
       "    }\n",
       "</style>\n",
       "<table border=\"1\" class=\"dataframe\">\n",
       "  <thead>\n",
       "    <tr style=\"text-align: right;\">\n",
       "      <th></th>\n",
       "      <th>Date</th>\n",
       "      <th>Date Type</th>\n",
       "      <th>Age</th>\n",
       "      <th>Sex</th>\n",
       "      <th>Race</th>\n",
       "      <th>Ethnicity</th>\n",
       "      <th>Residence City</th>\n",
       "      <th>Residence County</th>\n",
       "      <th>Residence State</th>\n",
       "      <th>Injury City</th>\n",
       "      <th>...</th>\n",
       "      <th>Xylazine</th>\n",
       "      <th>Gabapentin</th>\n",
       "      <th>Opiate NOS</th>\n",
       "      <th>Heroin/Morph/Codeine</th>\n",
       "      <th>Other Opioid</th>\n",
       "      <th>Any Opioid</th>\n",
       "      <th>Other</th>\n",
       "      <th>ResidenceCityGeo</th>\n",
       "      <th>InjuryCityGeo</th>\n",
       "      <th>DeathCityGeo</th>\n",
       "    </tr>\n",
       "  </thead>\n",
       "  <tbody>\n",
       "    <tr>\n",
       "      <th>0</th>\n",
       "      <td>12/31/2022</td>\n",
       "      <td>Date of death</td>\n",
       "      <td>54.0</td>\n",
       "      <td>Male</td>\n",
       "      <td>White</td>\n",
       "      <td>NaN</td>\n",
       "      <td>OAKVILLE</td>\n",
       "      <td>LITCHFIELD</td>\n",
       "      <td>CT</td>\n",
       "      <td>WATERBURY</td>\n",
       "      <td>...</td>\n",
       "      <td>NaN</td>\n",
       "      <td>NaN</td>\n",
       "      <td>NaN</td>\n",
       "      <td>NaN</td>\n",
       "      <td>NaN</td>\n",
       "      <td>NaN</td>\n",
       "      <td>NaN</td>\n",
       "      <td>OAKVILLE, CT\\r\\n(41.58854000000008, -73.086909...</td>\n",
       "      <td>WATERBURY, CT\\r\\n(41.55490000000003, -73.04646...</td>\n",
       "      <td>CT\\r\\n(41.57350273000003, -72.73830590799997)</td>\n",
       "    </tr>\n",
       "    <tr>\n",
       "      <th>1</th>\n",
       "      <td>12/31/2022</td>\n",
       "      <td>Date of death</td>\n",
       "      <td>61.0</td>\n",
       "      <td>Female</td>\n",
       "      <td>White</td>\n",
       "      <td>NaN</td>\n",
       "      <td>LEBANON</td>\n",
       "      <td>NEW LONDON</td>\n",
       "      <td>CT</td>\n",
       "      <td>WILLIMANTIC</td>\n",
       "      <td>...</td>\n",
       "      <td>Y</td>\n",
       "      <td>NaN</td>\n",
       "      <td>NaN</td>\n",
       "      <td>NaN</td>\n",
       "      <td>NaN</td>\n",
       "      <td>Y</td>\n",
       "      <td>NaN</td>\n",
       "      <td>LEBANON, CT\\r\\n(41.64541000000003, -72.2009799...</td>\n",
       "      <td>WILLIMANTIC, CT\\r\\n(41.71096000000006, -72.205...</td>\n",
       "      <td>CT\\r\\n(41.57350273000003, -72.73830590799997)</td>\n",
       "    </tr>\n",
       "    <tr>\n",
       "      <th>2</th>\n",
       "      <td>12/31/2022</td>\n",
       "      <td>Date of death</td>\n",
       "      <td>54.0</td>\n",
       "      <td>Male</td>\n",
       "      <td>White</td>\n",
       "      <td>NaN</td>\n",
       "      <td>WEST HAVEN</td>\n",
       "      <td>NEW HAVEN</td>\n",
       "      <td>CT</td>\n",
       "      <td>WEST HAVEN</td>\n",
       "      <td>...</td>\n",
       "      <td>NaN</td>\n",
       "      <td>NaN</td>\n",
       "      <td>NaN</td>\n",
       "      <td>y</td>\n",
       "      <td>NaN</td>\n",
       "      <td>Y</td>\n",
       "      <td>NaN</td>\n",
       "      <td>WEST HAVEN, CT\\r\\n(41.27228000000008, -72.9499...</td>\n",
       "      <td>WEST HAVEN, CT\\r\\n(41.27228000000008, -72.9499...</td>\n",
       "      <td>CT\\r\\n(41.57350273000003, -72.73830590799997)</td>\n",
       "    </tr>\n",
       "    <tr>\n",
       "      <th>3</th>\n",
       "      <td>12/30/2022</td>\n",
       "      <td>Date of death</td>\n",
       "      <td>48.0</td>\n",
       "      <td>Male</td>\n",
       "      <td>White</td>\n",
       "      <td>NaN</td>\n",
       "      <td>SOMERS</td>\n",
       "      <td>TOLLAND</td>\n",
       "      <td>CT</td>\n",
       "      <td>SOMERS</td>\n",
       "      <td>...</td>\n",
       "      <td>NaN</td>\n",
       "      <td>NaN</td>\n",
       "      <td>NaN</td>\n",
       "      <td>NaN</td>\n",
       "      <td>Buprenorphine</td>\n",
       "      <td>Y</td>\n",
       "      <td>Buprenorphine</td>\n",
       "      <td>SOMERS, CT\\r\\n(41.98825000000005, -72.44012999...</td>\n",
       "      <td>SOMERS, CT\\r\\n(41.98825000000005, -72.44012999...</td>\n",
       "      <td>CT\\r\\n(41.57350273000003, -72.73830590799997)</td>\n",
       "    </tr>\n",
       "    <tr>\n",
       "      <th>4</th>\n",
       "      <td>12/29/2022</td>\n",
       "      <td>Date of death</td>\n",
       "      <td>41.0</td>\n",
       "      <td>Female</td>\n",
       "      <td>Black or African American</td>\n",
       "      <td>NaN</td>\n",
       "      <td>BRIDGEPORT</td>\n",
       "      <td>FAIRFIELD</td>\n",
       "      <td>CT</td>\n",
       "      <td>BRIDGEPORT</td>\n",
       "      <td>...</td>\n",
       "      <td>NaN</td>\n",
       "      <td>Y</td>\n",
       "      <td>NaN</td>\n",
       "      <td>NaN</td>\n",
       "      <td>NaN</td>\n",
       "      <td>Y</td>\n",
       "      <td>NaN</td>\n",
       "      <td>BRIDGEPORT, CT\\r\\n(41.18213000000003, -73.1906...</td>\n",
       "      <td>BRIDGEPORT, CT\\r\\n(41.18213000000003, -73.1906...</td>\n",
       "      <td>CT\\r\\n(41.57350273000003, -72.73830590799997)</td>\n",
       "    </tr>\n",
       "    <tr>\n",
       "      <th>...</th>\n",
       "      <td>...</td>\n",
       "      <td>...</td>\n",
       "      <td>...</td>\n",
       "      <td>...</td>\n",
       "      <td>...</td>\n",
       "      <td>...</td>\n",
       "      <td>...</td>\n",
       "      <td>...</td>\n",
       "      <td>...</td>\n",
       "      <td>...</td>\n",
       "      <td>...</td>\n",
       "      <td>...</td>\n",
       "      <td>...</td>\n",
       "      <td>...</td>\n",
       "      <td>...</td>\n",
       "      <td>...</td>\n",
       "      <td>...</td>\n",
       "      <td>...</td>\n",
       "      <td>...</td>\n",
       "      <td>...</td>\n",
       "      <td>...</td>\n",
       "    </tr>\n",
       "    <tr>\n",
       "      <th>10649</th>\n",
       "      <td>01/07/2012</td>\n",
       "      <td>Date of death</td>\n",
       "      <td>45.0</td>\n",
       "      <td>Male</td>\n",
       "      <td>White</td>\n",
       "      <td>NaN</td>\n",
       "      <td>HARTFORD</td>\n",
       "      <td>HARTFORD</td>\n",
       "      <td>NaN</td>\n",
       "      <td>HARTFORD</td>\n",
       "      <td>...</td>\n",
       "      <td>NaN</td>\n",
       "      <td>NaN</td>\n",
       "      <td>NaN</td>\n",
       "      <td>NaN</td>\n",
       "      <td>NaN</td>\n",
       "      <td>NaN</td>\n",
       "      <td>NaN</td>\n",
       "      <td>HARTFORD, CT\\r\\n(41.765775, -72.673356)</td>\n",
       "      <td>HARTFORD, CT\\r\\n(41.765775, -72.673356)</td>\n",
       "      <td>Hartford, CT\\r\\n(41.765775, -72.673356)</td>\n",
       "    </tr>\n",
       "    <tr>\n",
       "      <th>10650</th>\n",
       "      <td>01/05/2012</td>\n",
       "      <td>Date of death</td>\n",
       "      <td>51.0</td>\n",
       "      <td>Male</td>\n",
       "      <td>White</td>\n",
       "      <td>NaN</td>\n",
       "      <td>STRATFORD</td>\n",
       "      <td>FAIRFIELD</td>\n",
       "      <td>NaN</td>\n",
       "      <td>STRATFORD</td>\n",
       "      <td>...</td>\n",
       "      <td>NaN</td>\n",
       "      <td>NaN</td>\n",
       "      <td>NaN</td>\n",
       "      <td>NaN</td>\n",
       "      <td>NaN</td>\n",
       "      <td>NaN</td>\n",
       "      <td>NaN</td>\n",
       "      <td>STRATFORD, CT\\r\\n(41.200888, -73.131323)</td>\n",
       "      <td>STRATFORD, CT\\r\\n(41.200888, -73.131323)</td>\n",
       "      <td>Bridgeport, CT\\r\\n(41.179195, -73.189476)</td>\n",
       "    </tr>\n",
       "    <tr>\n",
       "      <th>10651</th>\n",
       "      <td>01/04/2012</td>\n",
       "      <td>Date of death</td>\n",
       "      <td>61.0</td>\n",
       "      <td>Male</td>\n",
       "      <td>Black</td>\n",
       "      <td>NaN</td>\n",
       "      <td>DANBURY</td>\n",
       "      <td>FAIRFIELD</td>\n",
       "      <td>NaN</td>\n",
       "      <td>DANBURY</td>\n",
       "      <td>...</td>\n",
       "      <td>NaN</td>\n",
       "      <td>NaN</td>\n",
       "      <td>NaN</td>\n",
       "      <td>NaN</td>\n",
       "      <td>NaN</td>\n",
       "      <td>NaN</td>\n",
       "      <td>NaN</td>\n",
       "      <td>DANBURY, CT\\r\\n(41.393666, -73.451539)</td>\n",
       "      <td>DANBURY, CT\\r\\n(41.393666, -73.451539)</td>\n",
       "      <td>Danbury, CT\\r\\n(41.393666, -73.451539)</td>\n",
       "    </tr>\n",
       "    <tr>\n",
       "      <th>10652</th>\n",
       "      <td>01/03/2012</td>\n",
       "      <td>Date of death</td>\n",
       "      <td>41.0</td>\n",
       "      <td>Male</td>\n",
       "      <td>White</td>\n",
       "      <td>NaN</td>\n",
       "      <td>BRISTOL</td>\n",
       "      <td>HARTFORD</td>\n",
       "      <td>NaN</td>\n",
       "      <td>BRISTOL</td>\n",
       "      <td>...</td>\n",
       "      <td>NaN</td>\n",
       "      <td>NaN</td>\n",
       "      <td>NaN</td>\n",
       "      <td>NaN</td>\n",
       "      <td>NaN</td>\n",
       "      <td>NaN</td>\n",
       "      <td>NaN</td>\n",
       "      <td>BRISTOL, CT\\r\\n(41.673037, -72.945791)</td>\n",
       "      <td>BRISTOL, CT\\r\\n(41.673037, -72.945791)</td>\n",
       "      <td>Bristol, CT\\r\\n(41.673037, -72.945791)</td>\n",
       "    </tr>\n",
       "    <tr>\n",
       "      <th>10653</th>\n",
       "      <td>01/01/2012</td>\n",
       "      <td>Date of death</td>\n",
       "      <td>35.0</td>\n",
       "      <td>Male</td>\n",
       "      <td>White</td>\n",
       "      <td>NaN</td>\n",
       "      <td>HEBRON</td>\n",
       "      <td>TOLLAND</td>\n",
       "      <td>NaN</td>\n",
       "      <td>HEBRON</td>\n",
       "      <td>...</td>\n",
       "      <td>NaN</td>\n",
       "      <td>NaN</td>\n",
       "      <td>NaN</td>\n",
       "      <td>NaN</td>\n",
       "      <td>NaN</td>\n",
       "      <td>NaN</td>\n",
       "      <td>NaN</td>\n",
       "      <td>HEBRON, CT\\r\\n(41.658069, -72.366324)</td>\n",
       "      <td>HEBRON, CT\\r\\n(41.658069, -72.366324)</td>\n",
       "      <td>Hebron, CT\\r\\n(41.658069, -72.366324)</td>\n",
       "    </tr>\n",
       "  </tbody>\n",
       "</table>\n",
       "<p>10654 rows × 48 columns</p>\n",
       "</div>"
      ],
      "text/plain": [
       "             Date      Date Type   Age     Sex                       Race  \\\n",
       "0      12/31/2022  Date of death  54.0    Male                      White   \n",
       "1      12/31/2022  Date of death  61.0  Female                      White   \n",
       "2      12/31/2022  Date of death  54.0    Male                      White   \n",
       "3      12/30/2022  Date of death  48.0    Male                      White   \n",
       "4      12/29/2022  Date of death  41.0  Female  Black or African American   \n",
       "...           ...            ...   ...     ...                        ...   \n",
       "10649  01/07/2012  Date of death  45.0    Male                      White   \n",
       "10650  01/05/2012  Date of death  51.0    Male                      White   \n",
       "10651  01/04/2012  Date of death  61.0    Male                      Black   \n",
       "10652  01/03/2012  Date of death  41.0    Male                      White   \n",
       "10653  01/01/2012  Date of death  35.0    Male                      White   \n",
       "\n",
       "      Ethnicity Residence City Residence County Residence State  Injury City  \\\n",
       "0           NaN       OAKVILLE       LITCHFIELD              CT    WATERBURY   \n",
       "1           NaN        LEBANON       NEW LONDON              CT  WILLIMANTIC   \n",
       "2           NaN     WEST HAVEN        NEW HAVEN              CT   WEST HAVEN   \n",
       "3           NaN         SOMERS          TOLLAND              CT       SOMERS   \n",
       "4           NaN     BRIDGEPORT        FAIRFIELD              CT   BRIDGEPORT   \n",
       "...         ...            ...              ...             ...          ...   \n",
       "10649       NaN       HARTFORD         HARTFORD             NaN     HARTFORD   \n",
       "10650       NaN      STRATFORD        FAIRFIELD             NaN    STRATFORD   \n",
       "10651       NaN        DANBURY        FAIRFIELD             NaN      DANBURY   \n",
       "10652       NaN        BRISTOL         HARTFORD             NaN      BRISTOL   \n",
       "10653       NaN         HEBRON          TOLLAND             NaN       HEBRON   \n",
       "\n",
       "       ... Xylazine Gabapentin Opiate NOS Heroin/Morph/Codeine   Other Opioid  \\\n",
       "0      ...      NaN        NaN        NaN                  NaN            NaN   \n",
       "1      ...        Y        NaN        NaN                  NaN            NaN   \n",
       "2      ...      NaN        NaN        NaN                    y            NaN   \n",
       "3      ...      NaN        NaN        NaN                  NaN  Buprenorphine   \n",
       "4      ...      NaN          Y        NaN                  NaN            NaN   \n",
       "...    ...      ...        ...        ...                  ...            ...   \n",
       "10649  ...      NaN        NaN        NaN                  NaN            NaN   \n",
       "10650  ...      NaN        NaN        NaN                  NaN            NaN   \n",
       "10651  ...      NaN        NaN        NaN                  NaN            NaN   \n",
       "10652  ...      NaN        NaN        NaN                  NaN            NaN   \n",
       "10653  ...      NaN        NaN        NaN                  NaN            NaN   \n",
       "\n",
       "      Any Opioid          Other  \\\n",
       "0            NaN            NaN   \n",
       "1              Y            NaN   \n",
       "2              Y            NaN   \n",
       "3              Y  Buprenorphine   \n",
       "4              Y            NaN   \n",
       "...          ...            ...   \n",
       "10649        NaN            NaN   \n",
       "10650        NaN            NaN   \n",
       "10651        NaN            NaN   \n",
       "10652        NaN            NaN   \n",
       "10653        NaN            NaN   \n",
       "\n",
       "                                        ResidenceCityGeo  \\\n",
       "0      OAKVILLE, CT\\r\\n(41.58854000000008, -73.086909...   \n",
       "1      LEBANON, CT\\r\\n(41.64541000000003, -72.2009799...   \n",
       "2      WEST HAVEN, CT\\r\\n(41.27228000000008, -72.9499...   \n",
       "3      SOMERS, CT\\r\\n(41.98825000000005, -72.44012999...   \n",
       "4      BRIDGEPORT, CT\\r\\n(41.18213000000003, -73.1906...   \n",
       "...                                                  ...   \n",
       "10649            HARTFORD, CT\\r\\n(41.765775, -72.673356)   \n",
       "10650           STRATFORD, CT\\r\\n(41.200888, -73.131323)   \n",
       "10651             DANBURY, CT\\r\\n(41.393666, -73.451539)   \n",
       "10652             BRISTOL, CT\\r\\n(41.673037, -72.945791)   \n",
       "10653              HEBRON, CT\\r\\n(41.658069, -72.366324)   \n",
       "\n",
       "                                           InjuryCityGeo  \\\n",
       "0      WATERBURY, CT\\r\\n(41.55490000000003, -73.04646...   \n",
       "1      WILLIMANTIC, CT\\r\\n(41.71096000000006, -72.205...   \n",
       "2      WEST HAVEN, CT\\r\\n(41.27228000000008, -72.9499...   \n",
       "3      SOMERS, CT\\r\\n(41.98825000000005, -72.44012999...   \n",
       "4      BRIDGEPORT, CT\\r\\n(41.18213000000003, -73.1906...   \n",
       "...                                                  ...   \n",
       "10649            HARTFORD, CT\\r\\n(41.765775, -72.673356)   \n",
       "10650           STRATFORD, CT\\r\\n(41.200888, -73.131323)   \n",
       "10651             DANBURY, CT\\r\\n(41.393666, -73.451539)   \n",
       "10652             BRISTOL, CT\\r\\n(41.673037, -72.945791)   \n",
       "10653              HEBRON, CT\\r\\n(41.658069, -72.366324)   \n",
       "\n",
       "                                        DeathCityGeo  \n",
       "0      CT\\r\\n(41.57350273000003, -72.73830590799997)  \n",
       "1      CT\\r\\n(41.57350273000003, -72.73830590799997)  \n",
       "2      CT\\r\\n(41.57350273000003, -72.73830590799997)  \n",
       "3      CT\\r\\n(41.57350273000003, -72.73830590799997)  \n",
       "4      CT\\r\\n(41.57350273000003, -72.73830590799997)  \n",
       "...                                              ...  \n",
       "10649        Hartford, CT\\r\\n(41.765775, -72.673356)  \n",
       "10650      Bridgeport, CT\\r\\n(41.179195, -73.189476)  \n",
       "10651         Danbury, CT\\r\\n(41.393666, -73.451539)  \n",
       "10652         Bristol, CT\\r\\n(41.673037, -72.945791)  \n",
       "10653          Hebron, CT\\r\\n(41.658069, -72.366324)  \n",
       "\n",
       "[10654 rows x 48 columns]"
      ]
     },
     "execution_count": 83,
     "metadata": {},
     "output_type": "execute_result"
    }
   ],
   "source": [
    "# Đọc dữ liệu từ ./Accidental Drug Related Deaths in Connecticut-2012-2018 và lưu vào DrugDeath_df\n",
    "DrugDeath_df = pd.read_csv('./Data/Accidental_Drug_Related_Deaths_2012-2022.csv')\n",
    "\n",
    "DrugDeath_df"
   ]
  },
  {
   "cell_type": "markdown",
   "id": "f258bfc6",
   "metadata": {},
   "source": [
    "**How many rows and how many columns?**"
   ]
  },
  {
   "cell_type": "code",
   "execution_count": 84,
   "id": "2db2528e",
   "metadata": {},
   "outputs": [
    {
     "name": "stdout",
     "output_type": "stream",
     "text": [
      "(10654, 48)\n"
     ]
    }
   ],
   "source": [
    "# Lưu số dòng của DrugDeath_df vào n_rows và số cột của DrugDeath_df vào n_cols\n",
    "n_rows, n_cols = DrugDeath_df.shape\n",
    "\n",
    "# In ra màn hình số dòng và số cột của DrugDeath_df\n",
    "print(f'({n_rows}, {n_cols})')"
   ]
  },
  {
   "cell_type": "markdown",
   "id": "33d4ecca",
   "metadata": {},
   "source": [
    "**What is the meaning of each row?**\n",
    "\n",
    "Each row in this dataset represents information about an individual who passed away due to a drug overdose. Specifically:\n",
    "\n",
    "<li><b>Demographic Information</b>: Age, gender, race, residential address.</li>\n",
    "<li><b>Death Information</b>: Date of death, location of death, cause of death, manner of death.</li>\n",
    "<li><b>Drug-related Information</b>: Presence of specific drugs in the body.</li>"
   ]
  },
  {
   "cell_type": "markdown",
   "id": "2462003c",
   "metadata": {},
   "source": [
    "Chọn ra các cột sẽ dùng + giải thích lí do"
   ]
  },
  {
   "cell_type": "code",
   "execution_count": 85,
   "id": "440c2430",
   "metadata": {},
   "outputs": [
    {
     "data": {
      "text/plain": [
       "Index(['Date', 'Date Type', 'Age', 'Sex', 'Race', 'Ethnicity',\n",
       "       'Residence City', 'Residence County', 'Residence State', 'Injury City',\n",
       "       'Injury County', 'Injury State', 'Injury Place',\n",
       "       'Description of Injury', 'Death City', 'Death County', 'Death State',\n",
       "       'Location', 'Location if Other', 'Cause of Death', 'Manner of Death',\n",
       "       'Other Significant Conditions ', 'Heroin',\n",
       "       'Heroin death certificate (DC)', 'Cocaine', 'Fentanyl',\n",
       "       'Fentanyl Analogue', 'Oxycodone', 'Oxymorphone', 'Ethanol',\n",
       "       'Hydrocodone', 'Benzodiazepine', 'Methadone', 'Meth/Amphetamine',\n",
       "       'Amphet', 'Tramad', 'Hydromorphone', 'Morphine (Not Heroin)',\n",
       "       'Xylazine', 'Gabapentin', 'Opiate NOS', 'Heroin/Morph/Codeine',\n",
       "       'Other Opioid', 'Any Opioid', 'Other', 'ResidenceCityGeo',\n",
       "       'InjuryCityGeo', 'DeathCityGeo'],\n",
       "      dtype='object')"
      ]
     },
     "execution_count": 85,
     "metadata": {},
     "output_type": "execute_result"
    }
   ],
   "source": [
    "DrugDeath_df.columns"
   ]
  },
  {
   "cell_type": "code",
   "execution_count": 86,
   "id": "784bce55",
   "metadata": {},
   "outputs": [],
   "source": [
    "DrugDeath_df = DrugDeath_df[['Date', 'Age', 'Sex', 'Race',\n",
    "        'Location', 'Cause of Death', 'Heroin', 'Cocaine',\n",
    "       'Fentanyl', 'Fentanyl Analogue', 'Oxycodone', 'Oxymorphone', 'Ethanol',\n",
    "       'Hydrocodone', 'Benzodiazepine', 'Methadone', 'Meth/Amphetamine',\n",
    "       'Amphet', 'Tramad', 'Hydromorphone', 'Morphine (Not Heroin)',\n",
    "       'Xylazine', 'Gabapentin', 'Opiate NOS', 'Heroin/Morph/Codeine', 'ResidenceCityGeo',\n",
    "       'DeathCityGeo']]"
   ]
  },
  {
   "cell_type": "markdown",
   "id": "fb7acd43",
   "metadata": {},
   "source": [
    "**Are there duplicated rows? + Remove duplicate**"
   ]
  },
  {
   "cell_type": "code",
   "execution_count": 87,
   "id": "29dc7343",
   "metadata": {},
   "outputs": [
    {
     "name": "stdout",
     "output_type": "stream",
     "text": [
      "There are no duplicated rows.\n"
     ]
    }
   ],
   "source": [
    "# Kiểm tra các dòng bị trùng lặp\n",
    "duplicate_rows = DrugDeath_df[DrugDeath_df.duplicated()]\n",
    "\n",
    "# Hiển thị nếu có dòng bị trùng lặp\n",
    "if duplicate_rows.shape[0] > 0:\n",
    "    print(\"There are duplicated rows.\")\n",
    "    # Xóa các dòng trùng lặp\n",
    "    DrugDeath_df.drop_duplicates(inplace=True)\n",
    "    print(\"Duplicates removed.\")\n",
    "else:\n",
    "    print(\"There are no duplicated rows.\")"
   ]
  },
  {
   "cell_type": "markdown",
   "id": "ee8fd9bf",
   "metadata": {},
   "source": [
    "**Conclusion:** We can see that the dataset doesn't have duplicated rows."
   ]
  },
  {
   "cell_type": "markdown",
   "id": "59c327a6",
   "metadata": {},
   "source": [
    "**What is the meaning of each column?**\n",
    "\n",
    "- The data columns is crucial for effective analysis. By carefully examining the column titles and their respective data entries, we can decipher the information they encapsulate. Given the extensive length of the column titles, renaming them for easier handling and analysis becomes essential.\n",
    "\n",
    "- Through a thorough review of the column titles and their contents, aligned with the context of the survey questionnaire, we can gain a comprehensive understanding of the dataset. This process will enable us to effectively rename the columns, simplifying them for easier manipulation and analysis in subsequent steps.\n",
    "\n",
    "- The columns in this dataset provide information about emergency cases due to drug overdoses."
   ]
  },
  {
   "cell_type": "markdown",
   "id": "46ff7b33",
   "metadata": {},
   "source": [
    "## Data type & missing values"
   ]
  },
  {
   "cell_type": "code",
   "execution_count": 88,
   "id": "39c17284",
   "metadata": {},
   "outputs": [
    {
     "name": "stdout",
     "output_type": "stream",
     "text": [
      "<class 'pandas.core.frame.DataFrame'>\n",
      "RangeIndex: 10654 entries, 0 to 10653\n",
      "Data columns (total 27 columns):\n",
      " #   Column                 Non-Null Count  Dtype  \n",
      "---  ------                 --------------  -----  \n",
      " 0   Date                   10654 non-null  object \n",
      " 1   Age                    10652 non-null  float64\n",
      " 2   Sex                    10645 non-null  object \n",
      " 3   Race                   10625 non-null  object \n",
      " 4   Location               10632 non-null  object \n",
      " 5   Cause of Death         10654 non-null  object \n",
      " 6   Heroin                 3472 non-null   object \n",
      " 7   Cocaine                3855 non-null   object \n",
      " 8   Fentanyl               6925 non-null   object \n",
      " 9   Fentanyl Analogue      804 non-null    object \n",
      " 10  Oxycodone              950 non-null    object \n",
      " 11  Oxymorphone            157 non-null    object \n",
      " 12  Ethanol                2878 non-null   object \n",
      " 13  Hydrocodone            163 non-null    object \n",
      " 14  Benzodiazepine         2499 non-null   object \n",
      " 15  Methadone              938 non-null    object \n",
      " 16  Meth/Amphetamine       127 non-null    object \n",
      " 17  Amphet                 359 non-null    object \n",
      " 18  Tramad                 284 non-null    object \n",
      " 19  Hydromorphone          67 non-null     object \n",
      " 20  Morphine (Not Heroin)  55 non-null     object \n",
      " 21  Xylazine               792 non-null    object \n",
      " 22  Gabapentin             348 non-null    object \n",
      " 23  Opiate NOS             126 non-null    object \n",
      " 24  Heroin/Morph/Codeine   2090 non-null   object \n",
      " 25  ResidenceCityGeo       10488 non-null  object \n",
      " 26  DeathCityGeo           10653 non-null  object \n",
      "dtypes: float64(1), object(26)\n",
      "memory usage: 2.2+ MB\n",
      "None\n"
     ]
    }
   ],
   "source": [
    "# Kiểm tra kiểu dữ liệu hiện tại của các cột\n",
    "print(DrugDeath_df.info())"
   ]
  },
  {
   "cell_type": "markdown",
   "id": "587b0d2c",
   "metadata": {},
   "source": [
    "Most columns have the correct data types, with a few exceptions:\n",
    "\n",
    "- The **Date** column should have the data type of Datetime.\n",
    "- **Age** should have the data type of int instead of float.\n",
    "- Columns such as **Heroin, Cocaine, Fentanyl, etc.,** which confirm the presence or absence of each toxic substance, should have a data type of bool instead of object."
   ]
  },
  {
   "cell_type": "code",
   "execution_count": 89,
   "id": "47e31ca6",
   "metadata": {},
   "outputs": [
    {
     "name": "stderr",
     "output_type": "stream",
     "text": [
      "C:\\Users\\dntti\\AppData\\Local\\Temp\\ipykernel_25060\\3276310042.py:2: SettingWithCopyWarning:\n",
      "\n",
      "\n",
      "A value is trying to be set on a copy of a slice from a DataFrame.\n",
      "Try using .loc[row_indexer,col_indexer] = value instead\n",
      "\n",
      "See the caveats in the documentation: https://pandas.pydata.org/pandas-docs/stable/user_guide/indexing.html#returning-a-view-versus-a-copy\n",
      "\n"
     ]
    }
   ],
   "source": [
    "#Chuyển cột Date thành datetime\n",
    "DrugDeath_df['Date'] = pd.to_datetime(DrugDeath_df['Date'], format='%m/%d/%Y')"
   ]
  },
  {
   "cell_type": "markdown",
   "id": "fd685045",
   "metadata": {},
   "source": [
    "Ta sẽ xem xét các cột nên có kiểu dữ liệu boolean"
   ]
  },
  {
   "cell_type": "code",
   "execution_count": 90,
   "id": "0cc7dde8",
   "metadata": {
    "scrolled": true
   },
   "outputs": [
    {
     "name": "stdout",
     "output_type": "stream",
     "text": [
      "Heroin\n",
      "[nan 'Y']\n",
      "Cocaine\n",
      "['Y' nan]\n",
      "Fentanyl\n",
      "[nan 'Y' 'Y (PTCH)' 'Y POPS']\n",
      "Fentanyl Analogue\n",
      "[nan 'Y']\n",
      "Oxycodone\n",
      "[nan 'Y']\n",
      "Oxymorphone\n",
      "[nan 'Y']\n",
      "Ethanol\n",
      "[nan 'Y' 'P']\n",
      "Hydrocodone\n",
      "[nan 'Y']\n",
      "Benzodiazepine\n",
      "[nan 'Y']\n",
      "Methadone\n",
      "[nan 'Y']\n",
      "Meth/Amphetamine\n",
      "[nan 'Y']\n",
      "Amphet\n",
      "[nan 'Y']\n",
      "Tramad\n",
      "[nan 'Y']\n",
      "Hydromorphone\n",
      "[nan 'Y']\n",
      "Morphine (Not Heroin)\n",
      "[nan 'Y' 'PCP NEG' 'NO RX BUT STRAWS' 'STOLE MEDS']\n",
      "Xylazine\n",
      "[nan 'Y']\n",
      "Gabapentin\n",
      "[nan 'Y' 'y']\n",
      "Opiate NOS\n",
      "[nan 'Y']\n",
      "Heroin/Morph/Codeine\n",
      "[nan 'y' 'Y']\n"
     ]
    }
   ],
   "source": [
    "#Xem các giá trị có trong các cột\n",
    "drugs = ['Heroin', 'Cocaine',\n",
    "       'Fentanyl', 'Fentanyl Analogue', 'Oxycodone', 'Oxymorphone', 'Ethanol',\n",
    "       'Hydrocodone', 'Benzodiazepine', 'Methadone', 'Meth/Amphetamine',\n",
    "       'Amphet', 'Tramad', 'Hydromorphone', 'Morphine (Not Heroin)',\n",
    "       'Xylazine', 'Gabapentin', 'Opiate NOS', 'Heroin/Morph/Codeine']\n",
    "\n",
    "for col in drugs: \n",
    "    print(col)\n",
    "    print(DrugDeath_df[col].unique())"
   ]
  },
  {
   "cell_type": "markdown",
   "id": "7f88675e",
   "metadata": {},
   "source": [
    "In this context, treating `NaN` and `N` as equivalent is justified since there is no evidence indicating the presence of the tested substance in the victim's body. Consequently, we can replace occurrences of `NaN` with `N` in these columns.\n",
    "\n",
    "Before converting these columns to a boolean type, special values need to be addressed. Specifically, we need to handle values other than True (Y) and False (N or NaN) in these columns. The majority of columns exhibit a standard pattern with only 'Y', 'N', and 'NaN', but there are a few exceptions.\n",
    "\n",
    "- **Other Opioid:** Includes values [nan 'Buprenorphine' 'MDMA, Buprenorphine' 'Mitragynine' 'ketamine' 'PCP' 'Difluro' 'pcp' 'Y']. Since this column represents the presence of other addictive substances, we can treat answers like 'Buprenorphine' 'MDMA, Buprenorphine', ... as 'Y'.\n",
    "\n",
    "- **Morphine (Not Heroin):** [nan 'Y' 'PCP NEG' 'NO RX BUT STRAWS' 'STOLE MEDS']. Firstly, let's examine the meaning of special values:\n",
    "    - `PCP NEG`: Indicates a negative result for PCP, unrelated to Heroin. Treat as 'Y'.\n",
    "    - `NO RX BUT STRAWS`: Indicates the absence of a prescription but presence of straws, likely unrelated to Heroin. Treat as 'Y'.\n",
    "    - `STOLE MEDS`: Indicates stolen medication, unrelated to Heroin. Treat as 'Y'. \n",
    "    --> Therefore, this column can be considered 'Y' for these special cases.\n",
    "\n",
    "- **Fentanyl:** [nan 'Y' 'Y (PTCH)' 'Y POPS']\n",
    "    - `Y PTCH`: Fentanyl detected in patch form.\n",
    "    - `Y POPS`: Fentanyl detected in candy form.\n",
    "    Treat these values as 'Y'.\n",
    "\n",
    "In conclusion, a common approach for all columns can be formulated as follows:"
   ]
  },
  {
   "cell_type": "code",
   "execution_count": 91,
   "id": "22602d14",
   "metadata": {},
   "outputs": [
    {
     "name": "stderr",
     "output_type": "stream",
     "text": [
      "C:\\Users\\dntti\\AppData\\Local\\Temp\\ipykernel_25060\\1931194616.py:3: SettingWithCopyWarning:\n",
      "\n",
      "\n",
      "A value is trying to be set on a copy of a slice from a DataFrame.\n",
      "Try using .loc[row_indexer,col_indexer] = value instead\n",
      "\n",
      "See the caveats in the documentation: https://pandas.pydata.org/pandas-docs/stable/user_guide/indexing.html#returning-a-view-versus-a-copy\n",
      "\n"
     ]
    }
   ],
   "source": [
    "#chuyển thành kiểu boolean (null hoặc 'N' là False, còn lại là True)\n",
    "for col in drugs: \n",
    "    DrugDeath_df[col] = DrugDeath_df[col].notnull() & (DrugDeath_df[col] != 'N')"
   ]
  },
  {
   "cell_type": "markdown",
   "id": "6348f83d",
   "metadata": {},
   "source": [
    "\"With each categorical column, how are values distributed?\n",
    "- What is the percentage of missing values?\n",
    "- How many different values? Are they abnormal?\""
   ]
  },
  {
   "cell_type": "markdown",
   "id": "6ad78c6d",
   "metadata": {},
   "source": [
    "<h2> Handle missing value </h2>"
   ]
  },
  {
   "cell_type": "markdown",
   "id": "aafb143c",
   "metadata": {},
   "source": [
    "Firstly, let's examine the number of missing values in each column."
   ]
  },
  {
   "cell_type": "code",
   "execution_count": 92,
   "id": "5ab9c04e",
   "metadata": {
    "scrolled": false
   },
   "outputs": [
    {
     "data": {
      "application/vnd.plotly.v1+json": {
       "config": {
        "plotlyServerURL": "https://plot.ly"
       },
       "data": [
        {
         "marker": {
          "color": "#1f77b4"
         },
         "orientation": "h",
         "type": "bar",
         "x": [
          0,
          0,
          0,
          0,
          0,
          0,
          0,
          0,
          0,
          0,
          0,
          0,
          0,
          0,
          0,
          0,
          0,
          0,
          0,
          0,
          0,
          1,
          2,
          9,
          22,
          29,
          166
         ],
         "y": [
          "Date",
          "Heroin/Morph/Codeine",
          "Opiate NOS",
          "Gabapentin",
          "Xylazine",
          "Morphine (Not Heroin)",
          "Hydromorphone",
          "Tramad",
          "Amphet",
          "Meth/Amphetamine",
          "Methadone",
          "Benzodiazepine",
          "Hydrocodone",
          "Oxymorphone",
          "Oxycodone",
          "Fentanyl Analogue",
          "Fentanyl",
          "Cocaine",
          "Heroin",
          "Cause of Death",
          "Ethanol",
          "DeathCityGeo",
          "Age",
          "Sex",
          "Location",
          "Race",
          "ResidenceCityGeo"
         ]
        }
       ],
       "layout": {
        "height": 800,
        "template": {
         "data": {
          "bar": [
           {
            "error_x": {
             "color": "#2a3f5f"
            },
            "error_y": {
             "color": "#2a3f5f"
            },
            "marker": {
             "line": {
              "color": "#E5ECF6",
              "width": 0.5
             },
             "pattern": {
              "fillmode": "overlay",
              "size": 10,
              "solidity": 0.2
             }
            },
            "type": "bar"
           }
          ],
          "barpolar": [
           {
            "marker": {
             "line": {
              "color": "#E5ECF6",
              "width": 0.5
             },
             "pattern": {
              "fillmode": "overlay",
              "size": 10,
              "solidity": 0.2
             }
            },
            "type": "barpolar"
           }
          ],
          "carpet": [
           {
            "aaxis": {
             "endlinecolor": "#2a3f5f",
             "gridcolor": "white",
             "linecolor": "white",
             "minorgridcolor": "white",
             "startlinecolor": "#2a3f5f"
            },
            "baxis": {
             "endlinecolor": "#2a3f5f",
             "gridcolor": "white",
             "linecolor": "white",
             "minorgridcolor": "white",
             "startlinecolor": "#2a3f5f"
            },
            "type": "carpet"
           }
          ],
          "choropleth": [
           {
            "colorbar": {
             "outlinewidth": 0,
             "ticks": ""
            },
            "type": "choropleth"
           }
          ],
          "contour": [
           {
            "colorbar": {
             "outlinewidth": 0,
             "ticks": ""
            },
            "colorscale": [
             [
              0,
              "#0d0887"
             ],
             [
              0.1111111111111111,
              "#46039f"
             ],
             [
              0.2222222222222222,
              "#7201a8"
             ],
             [
              0.3333333333333333,
              "#9c179e"
             ],
             [
              0.4444444444444444,
              "#bd3786"
             ],
             [
              0.5555555555555556,
              "#d8576b"
             ],
             [
              0.6666666666666666,
              "#ed7953"
             ],
             [
              0.7777777777777778,
              "#fb9f3a"
             ],
             [
              0.8888888888888888,
              "#fdca26"
             ],
             [
              1,
              "#f0f921"
             ]
            ],
            "type": "contour"
           }
          ],
          "contourcarpet": [
           {
            "colorbar": {
             "outlinewidth": 0,
             "ticks": ""
            },
            "type": "contourcarpet"
           }
          ],
          "heatmap": [
           {
            "colorbar": {
             "outlinewidth": 0,
             "ticks": ""
            },
            "colorscale": [
             [
              0,
              "#0d0887"
             ],
             [
              0.1111111111111111,
              "#46039f"
             ],
             [
              0.2222222222222222,
              "#7201a8"
             ],
             [
              0.3333333333333333,
              "#9c179e"
             ],
             [
              0.4444444444444444,
              "#bd3786"
             ],
             [
              0.5555555555555556,
              "#d8576b"
             ],
             [
              0.6666666666666666,
              "#ed7953"
             ],
             [
              0.7777777777777778,
              "#fb9f3a"
             ],
             [
              0.8888888888888888,
              "#fdca26"
             ],
             [
              1,
              "#f0f921"
             ]
            ],
            "type": "heatmap"
           }
          ],
          "heatmapgl": [
           {
            "colorbar": {
             "outlinewidth": 0,
             "ticks": ""
            },
            "colorscale": [
             [
              0,
              "#0d0887"
             ],
             [
              0.1111111111111111,
              "#46039f"
             ],
             [
              0.2222222222222222,
              "#7201a8"
             ],
             [
              0.3333333333333333,
              "#9c179e"
             ],
             [
              0.4444444444444444,
              "#bd3786"
             ],
             [
              0.5555555555555556,
              "#d8576b"
             ],
             [
              0.6666666666666666,
              "#ed7953"
             ],
             [
              0.7777777777777778,
              "#fb9f3a"
             ],
             [
              0.8888888888888888,
              "#fdca26"
             ],
             [
              1,
              "#f0f921"
             ]
            ],
            "type": "heatmapgl"
           }
          ],
          "histogram": [
           {
            "marker": {
             "pattern": {
              "fillmode": "overlay",
              "size": 10,
              "solidity": 0.2
             }
            },
            "type": "histogram"
           }
          ],
          "histogram2d": [
           {
            "colorbar": {
             "outlinewidth": 0,
             "ticks": ""
            },
            "colorscale": [
             [
              0,
              "#0d0887"
             ],
             [
              0.1111111111111111,
              "#46039f"
             ],
             [
              0.2222222222222222,
              "#7201a8"
             ],
             [
              0.3333333333333333,
              "#9c179e"
             ],
             [
              0.4444444444444444,
              "#bd3786"
             ],
             [
              0.5555555555555556,
              "#d8576b"
             ],
             [
              0.6666666666666666,
              "#ed7953"
             ],
             [
              0.7777777777777778,
              "#fb9f3a"
             ],
             [
              0.8888888888888888,
              "#fdca26"
             ],
             [
              1,
              "#f0f921"
             ]
            ],
            "type": "histogram2d"
           }
          ],
          "histogram2dcontour": [
           {
            "colorbar": {
             "outlinewidth": 0,
             "ticks": ""
            },
            "colorscale": [
             [
              0,
              "#0d0887"
             ],
             [
              0.1111111111111111,
              "#46039f"
             ],
             [
              0.2222222222222222,
              "#7201a8"
             ],
             [
              0.3333333333333333,
              "#9c179e"
             ],
             [
              0.4444444444444444,
              "#bd3786"
             ],
             [
              0.5555555555555556,
              "#d8576b"
             ],
             [
              0.6666666666666666,
              "#ed7953"
             ],
             [
              0.7777777777777778,
              "#fb9f3a"
             ],
             [
              0.8888888888888888,
              "#fdca26"
             ],
             [
              1,
              "#f0f921"
             ]
            ],
            "type": "histogram2dcontour"
           }
          ],
          "mesh3d": [
           {
            "colorbar": {
             "outlinewidth": 0,
             "ticks": ""
            },
            "type": "mesh3d"
           }
          ],
          "parcoords": [
           {
            "line": {
             "colorbar": {
              "outlinewidth": 0,
              "ticks": ""
             }
            },
            "type": "parcoords"
           }
          ],
          "pie": [
           {
            "automargin": true,
            "type": "pie"
           }
          ],
          "scatter": [
           {
            "fillpattern": {
             "fillmode": "overlay",
             "size": 10,
             "solidity": 0.2
            },
            "type": "scatter"
           }
          ],
          "scatter3d": [
           {
            "line": {
             "colorbar": {
              "outlinewidth": 0,
              "ticks": ""
             }
            },
            "marker": {
             "colorbar": {
              "outlinewidth": 0,
              "ticks": ""
             }
            },
            "type": "scatter3d"
           }
          ],
          "scattercarpet": [
           {
            "marker": {
             "colorbar": {
              "outlinewidth": 0,
              "ticks": ""
             }
            },
            "type": "scattercarpet"
           }
          ],
          "scattergeo": [
           {
            "marker": {
             "colorbar": {
              "outlinewidth": 0,
              "ticks": ""
             }
            },
            "type": "scattergeo"
           }
          ],
          "scattergl": [
           {
            "marker": {
             "colorbar": {
              "outlinewidth": 0,
              "ticks": ""
             }
            },
            "type": "scattergl"
           }
          ],
          "scattermapbox": [
           {
            "marker": {
             "colorbar": {
              "outlinewidth": 0,
              "ticks": ""
             }
            },
            "type": "scattermapbox"
           }
          ],
          "scatterpolar": [
           {
            "marker": {
             "colorbar": {
              "outlinewidth": 0,
              "ticks": ""
             }
            },
            "type": "scatterpolar"
           }
          ],
          "scatterpolargl": [
           {
            "marker": {
             "colorbar": {
              "outlinewidth": 0,
              "ticks": ""
             }
            },
            "type": "scatterpolargl"
           }
          ],
          "scatterternary": [
           {
            "marker": {
             "colorbar": {
              "outlinewidth": 0,
              "ticks": ""
             }
            },
            "type": "scatterternary"
           }
          ],
          "surface": [
           {
            "colorbar": {
             "outlinewidth": 0,
             "ticks": ""
            },
            "colorscale": [
             [
              0,
              "#0d0887"
             ],
             [
              0.1111111111111111,
              "#46039f"
             ],
             [
              0.2222222222222222,
              "#7201a8"
             ],
             [
              0.3333333333333333,
              "#9c179e"
             ],
             [
              0.4444444444444444,
              "#bd3786"
             ],
             [
              0.5555555555555556,
              "#d8576b"
             ],
             [
              0.6666666666666666,
              "#ed7953"
             ],
             [
              0.7777777777777778,
              "#fb9f3a"
             ],
             [
              0.8888888888888888,
              "#fdca26"
             ],
             [
              1,
              "#f0f921"
             ]
            ],
            "type": "surface"
           }
          ],
          "table": [
           {
            "cells": {
             "fill": {
              "color": "#EBF0F8"
             },
             "line": {
              "color": "white"
             }
            },
            "header": {
             "fill": {
              "color": "#C8D4E3"
             },
             "line": {
              "color": "white"
             }
            },
            "type": "table"
           }
          ]
         },
         "layout": {
          "annotationdefaults": {
           "arrowcolor": "#2a3f5f",
           "arrowhead": 0,
           "arrowwidth": 1
          },
          "autotypenumbers": "strict",
          "coloraxis": {
           "colorbar": {
            "outlinewidth": 0,
            "ticks": ""
           }
          },
          "colorscale": {
           "diverging": [
            [
             0,
             "#8e0152"
            ],
            [
             0.1,
             "#c51b7d"
            ],
            [
             0.2,
             "#de77ae"
            ],
            [
             0.3,
             "#f1b6da"
            ],
            [
             0.4,
             "#fde0ef"
            ],
            [
             0.5,
             "#f7f7f7"
            ],
            [
             0.6,
             "#e6f5d0"
            ],
            [
             0.7,
             "#b8e186"
            ],
            [
             0.8,
             "#7fbc41"
            ],
            [
             0.9,
             "#4d9221"
            ],
            [
             1,
             "#276419"
            ]
           ],
           "sequential": [
            [
             0,
             "#0d0887"
            ],
            [
             0.1111111111111111,
             "#46039f"
            ],
            [
             0.2222222222222222,
             "#7201a8"
            ],
            [
             0.3333333333333333,
             "#9c179e"
            ],
            [
             0.4444444444444444,
             "#bd3786"
            ],
            [
             0.5555555555555556,
             "#d8576b"
            ],
            [
             0.6666666666666666,
             "#ed7953"
            ],
            [
             0.7777777777777778,
             "#fb9f3a"
            ],
            [
             0.8888888888888888,
             "#fdca26"
            ],
            [
             1,
             "#f0f921"
            ]
           ],
           "sequentialminus": [
            [
             0,
             "#0d0887"
            ],
            [
             0.1111111111111111,
             "#46039f"
            ],
            [
             0.2222222222222222,
             "#7201a8"
            ],
            [
             0.3333333333333333,
             "#9c179e"
            ],
            [
             0.4444444444444444,
             "#bd3786"
            ],
            [
             0.5555555555555556,
             "#d8576b"
            ],
            [
             0.6666666666666666,
             "#ed7953"
            ],
            [
             0.7777777777777778,
             "#fb9f3a"
            ],
            [
             0.8888888888888888,
             "#fdca26"
            ],
            [
             1,
             "#f0f921"
            ]
           ]
          },
          "colorway": [
           "#636efa",
           "#EF553B",
           "#00cc96",
           "#ab63fa",
           "#FFA15A",
           "#19d3f3",
           "#FF6692",
           "#B6E880",
           "#FF97FF",
           "#FECB52"
          ],
          "font": {
           "color": "#2a3f5f"
          },
          "geo": {
           "bgcolor": "white",
           "lakecolor": "white",
           "landcolor": "#E5ECF6",
           "showlakes": true,
           "showland": true,
           "subunitcolor": "white"
          },
          "hoverlabel": {
           "align": "left"
          },
          "hovermode": "closest",
          "mapbox": {
           "style": "light"
          },
          "paper_bgcolor": "white",
          "plot_bgcolor": "#E5ECF6",
          "polar": {
           "angularaxis": {
            "gridcolor": "white",
            "linecolor": "white",
            "ticks": ""
           },
           "bgcolor": "#E5ECF6",
           "radialaxis": {
            "gridcolor": "white",
            "linecolor": "white",
            "ticks": ""
           }
          },
          "scene": {
           "xaxis": {
            "backgroundcolor": "#E5ECF6",
            "gridcolor": "white",
            "gridwidth": 2,
            "linecolor": "white",
            "showbackground": true,
            "ticks": "",
            "zerolinecolor": "white"
           },
           "yaxis": {
            "backgroundcolor": "#E5ECF6",
            "gridcolor": "white",
            "gridwidth": 2,
            "linecolor": "white",
            "showbackground": true,
            "ticks": "",
            "zerolinecolor": "white"
           },
           "zaxis": {
            "backgroundcolor": "#E5ECF6",
            "gridcolor": "white",
            "gridwidth": 2,
            "linecolor": "white",
            "showbackground": true,
            "ticks": "",
            "zerolinecolor": "white"
           }
          },
          "shapedefaults": {
           "line": {
            "color": "#2a3f5f"
           }
          },
          "ternary": {
           "aaxis": {
            "gridcolor": "white",
            "linecolor": "white",
            "ticks": ""
           },
           "baxis": {
            "gridcolor": "white",
            "linecolor": "white",
            "ticks": ""
           },
           "bgcolor": "#E5ECF6",
           "caxis": {
            "gridcolor": "white",
            "linecolor": "white",
            "ticks": ""
           }
          },
          "title": {
           "x": 0.05
          },
          "xaxis": {
           "automargin": true,
           "gridcolor": "white",
           "linecolor": "white",
           "ticks": "",
           "title": {
            "standoff": 15
           },
           "zerolinecolor": "white",
           "zerolinewidth": 2
          },
          "yaxis": {
           "automargin": true,
           "gridcolor": "white",
           "linecolor": "white",
           "ticks": "",
           "title": {
            "standoff": 15
           },
           "zerolinecolor": "white",
           "zerolinewidth": 2
          }
         }
        },
        "title": {
         "text": "Số lượng giá trị bị thiếu của mỗi cột"
        },
        "xaxis": {
         "title": {
          "text": "Số lượng giá trị bị thiếu"
         }
        },
        "yaxis": {
         "autorange": "reversed",
         "title": {
          "text": "Tên cột"
         }
        }
       }
      }
     },
     "metadata": {},
     "output_type": "display_data"
    }
   ],
   "source": [
    "missing_values = DrugDeath_df.isnull().sum().sort_values(ascending=True)\n",
    "\n",
    "fig = go.Figure(data=[go.Bar(\n",
    "    y=missing_values.index,\n",
    "    x=missing_values.values,\n",
    "    orientation='h',\n",
    "    marker_color='#1f77b4'\n",
    ")])\n",
    "\n",
    "fig.update_layout(\n",
    "    title_text='Số lượng giá trị bị thiếu của mỗi cột',\n",
    "    xaxis_title='Số lượng giá trị bị thiếu',\n",
    "    yaxis_title='Tên cột',\n",
    "    yaxis={'autorange': 'reversed'},\n",
    "    height=800\n",
    ")\n",
    "\n",
    "fig.show()\n"
   ]
  },
  {
   "cell_type": "markdown",
   "id": "c1cfec19",
   "metadata": {},
   "source": [
    "- In this process, i will use **Imputation**.\n",
    "    - For categorical data, mode (the most frequent value) is often used. \n",
    "    - For numerical data, mean or median can be used depending on the data distribution."
   ]
  },
  {
   "cell_type": "code",
   "execution_count": 93,
   "id": "7f8303d7",
   "metadata": {},
   "outputs": [
    {
     "name": "stdout",
     "output_type": "stream",
     "text": [
      "Categorical columns with missing values:\n",
      "['Sex', 'Race', 'Location', 'ResidenceCityGeo', 'DeathCityGeo']\n",
      "\n",
      "Numerical columns with missing values:\n",
      "['Age']\n"
     ]
    }
   ],
   "source": [
    "categorical_cols = DrugDeath_df.select_dtypes(include=['object', 'category']).columns\n",
    "numerical_cols = DrugDeath_df.select_dtypes(include=['int64', 'float64']).columns\n",
    "\n",
    "missing_categorical_cols = [col for col in categorical_cols if DrugDeath_df[col].isnull().any()]\n",
    "missing_numerical_cols = [col for col in numerical_cols if DrugDeath_df[col].isnull().any()]\n",
    "\n",
    "print(\"Categorical columns with missing values:\")\n",
    "print(missing_categorical_cols)\n",
    "\n",
    "print(\"\\nNumerical columns with missing values:\")\n",
    "print(missing_numerical_cols)"
   ]
  },
  {
   "cell_type": "code",
   "execution_count": 94,
   "id": "f2d55766",
   "metadata": {},
   "outputs": [
    {
     "name": "stderr",
     "output_type": "stream",
     "text": [
      "C:\\Users\\dntti\\AppData\\Local\\Temp\\ipykernel_25060\\2879764894.py:3: SettingWithCopyWarning:\n",
      "\n",
      "\n",
      "A value is trying to be set on a copy of a slice from a DataFrame.\n",
      "Try using .loc[row_indexer,col_indexer] = value instead\n",
      "\n",
      "See the caveats in the documentation: https://pandas.pydata.org/pandas-docs/stable/user_guide/indexing.html#returning-a-view-versus-a-copy\n",
      "\n",
      "C:\\Users\\dntti\\AppData\\Local\\Temp\\ipykernel_25060\\2879764894.py:4: SettingWithCopyWarning:\n",
      "\n",
      "\n",
      "A value is trying to be set on a copy of a slice from a DataFrame.\n",
      "Try using .loc[row_indexer,col_indexer] = value instead\n",
      "\n",
      "See the caveats in the documentation: https://pandas.pydata.org/pandas-docs/stable/user_guide/indexing.html#returning-a-view-versus-a-copy\n",
      "\n",
      "C:\\Users\\dntti\\AppData\\Local\\Temp\\ipykernel_25060\\2879764894.py:8: SettingWithCopyWarning:\n",
      "\n",
      "\n",
      "A value is trying to be set on a copy of a slice from a DataFrame.\n",
      "Try using .loc[row_indexer,col_indexer] = value instead\n",
      "\n",
      "See the caveats in the documentation: https://pandas.pydata.org/pandas-docs/stable/user_guide/indexing.html#returning-a-view-versus-a-copy\n",
      "\n"
     ]
    }
   ],
   "source": [
    "#Xử lí Age, Sex, Location, Race bằng cách điền median và mode\n",
    "# For numerical columns\n",
    "DrugDeath_df['Age'] = DrugDeath_df['Age'].fillna(DrugDeath_df['Age'].median())\n",
    "DrugDeath_df['Age'] = DrugDeath_df['Age'].astype(int)\n",
    "\n",
    "# For categorical columns\n",
    "for col in missing_categorical_cols:\n",
    "    DrugDeath_df[col] = DrugDeath_df[col].fillna(DrugDeath_df[col].mode()[0])"
   ]
  },
  {
   "cell_type": "markdown",
   "id": "821f2623",
   "metadata": {},
   "source": [
    "Let's double-check to see if there are any remaining columns with missing values."
   ]
  },
  {
   "cell_type": "code",
   "execution_count": 95,
   "id": "42ed0646",
   "metadata": {},
   "outputs": [
    {
     "name": "stdout",
     "output_type": "stream",
     "text": [
      "Columns with missing values:\n",
      "[]\n"
     ]
    }
   ],
   "source": [
    "missing_cols = DrugDeath_df.columns[DrugDeath_df.isnull().any()].tolist()\n",
    "\n",
    "print(\"Columns with missing values:\")\n",
    "print(missing_cols)"
   ]
  },
  {
   "cell_type": "markdown",
   "id": "1e98bc7d",
   "metadata": {},
   "source": [
    "<h2> Handle abnormal value </h2>\n",
    "\n",
    "- In the column `Cause of Death`, there are values like: \n",
    "    - **Acetyl Fentanyl**, those values belong to `Fentanyl Analogue` column.\n",
    "    - **Tramadol** belongs to the `Tramad` column, and there are some abnormal cases like that.\n",
    "- For example: with the value `\"Acute Intoxication due to the Combined Effects of Fentanyl, Xylazine, Cocaine and Tramadol\"` , i will turn it into\n",
    "`\"Fentanyl, Xylazine, Cocaine, Tramadol\"`.\n",
    "\n",
    "- How i solve this issue?\n",
    "    - Step 1: remove unwanted words, like: \"Acute Intoxication due to the Combined Effects of\" , \"and\", etc.\n",
    "    - Step 2: create a new column `Details Cause` from drugs' name in the `Cause of Death` to help out later work easier.\n",
    "        - For example: with the value `\"Acute Intoxication due to the Combined Effects of Fentanyl, Xylazine, Cocaine and Tramadol\"` , i will turn it into `\"Fentanyl, Xylazine, Cocaine, Tramadol\"`.\n",
    "\n",
    "\n",
    "\n"
   ]
  },
  {
   "cell_type": "markdown",
   "id": "5f82a7ab",
   "metadata": {},
   "source": [
    "<h3> Step1 </h3>"
   ]
  },
  {
   "cell_type": "code",
   "execution_count": 96,
   "id": "a3f7f1da",
   "metadata": {},
   "outputs": [],
   "source": [
    "# rename 'Cause of Death' into COD for more convienient\n",
    "\n",
    "DrugDeath_df = DrugDeath_df.rename(columns={'Cause of Death': 'COD'})\n",
    "\n",
    "#Tạo cột mới chứa ds các thuốc là nguyên nhân trục tiếp gây tử vong\n",
    "# Đổi tên cột 'Cause of Death' thành 'COD'\n",
    "DrugDeath_df['COD'] = DrugDeath_df['COD'].str.lower()\n",
    "\n",
    "# Loại bỏ các từ không mong muốn\n",
    "unwanted_words = ['from the', 'complications', ' of ', 'toxicity associated with', 'intoxiation', 'multidrug', 'toxicity' ,'including', 'chronic substance abuse'\n",
    "    'acute intoxication by the combined effects of','effects', 'toxicities','combined','intoxication', 'acute', 'due to' ,'the', 'combined effects of', 'combined drug toxicity', 'multi-drug', 'following','chronic substance use','(',')']\n",
    "for word in unwanted_words:\n",
    "    DrugDeath_df['COD'] = DrugDeath_df['COD'].str.replace(word, '')\n",
    "\n",
    "# Thay thế 'and' bằng ','\n",
    "DrugDeath_df['COD'] = DrugDeath_df['COD'].str.replace('and', ',')\n",
    "DrugDeath_df['COD'] = DrugDeath_df['COD'].str.replace('  ', ',')\n",
    "DrugDeath_df['COD'] = DrugDeath_df['COD'].str.replace('/', ',')\n",
    "\n"
   ]
  },
  {
   "cell_type": "markdown",
   "id": "09df91f1",
   "metadata": {},
   "source": [
    "<h3> Step 2</h3>"
   ]
  },
  {
   "cell_type": "code",
   "execution_count": 97,
   "id": "7ae6a4e5",
   "metadata": {},
   "outputs": [
    {
     "data": {
      "text/plain": [
       "Index(['Fentanyl', 'Fentanyl Analogue', 'Oxycodone', 'Oxymorphone', 'Ethanol',\n",
       "       'Hydrocodone', 'Benzodiazepine', 'Methadone', 'Meth/Amphetamine',\n",
       "       'Amphet', 'Tramad', 'Hydromorphone', 'Morphine (Not Heroin)',\n",
       "       'Xylazine', 'Gabapentin', 'Opiate NOS'],\n",
       "      dtype='object')"
      ]
     },
     "execution_count": 97,
     "metadata": {},
     "output_type": "execute_result"
    }
   ],
   "source": [
    "# Lấy các giá trị duy nhất từ cột 'COD'\n",
    "drug_column = DrugDeath_df.columns[8:-3]\n",
    "drug_column"
   ]
  },
  {
   "cell_type": "markdown",
   "id": "6fa12882",
   "metadata": {},
   "source": [
    "Create a new column from COD , to categorize value in COD to match with the drug columns"
   ]
  },
  {
   "cell_type": "code",
   "execution_count": 98,
   "id": "57dfe77c",
   "metadata": {},
   "outputs": [],
   "source": [
    "import pandas as pd\n",
    "import numpy as np\n",
    "\n",
    "# List of drugs\n",
    "drugs = ['Heroin', 'Cocaine',\n",
    "       'Fentanyl', 'Fentanyl Analogue', 'Oxycodone', 'Oxymorphone', 'Ethanol',\n",
    "       'Hydrocodone', 'Benzodiazepine', 'Methadone','Amphetamine',\n",
    "       'Tramadol', 'Hydromorphone', 'Morphine',\n",
    "       'Xylazine', 'Gabapentin', 'Opiate NOS', 'Heroin','Codeine']\n",
    "\n",
    "def remove_dup(df, column):\n",
    "    df[column] = df[column].apply(lambda x: ', '.join(sorted(set(str(x).split(', ')))))\n",
    "    return df\n",
    "\n",
    "# Function to find drugs in 'COD' and add them to 'Details Cause'\n",
    "def find_drugs(row):\n",
    "    details_cause = []\n",
    "    for drug in drugs:\n",
    "        if drug.lower() in row['COD'].lower() or (drug.lower() + 's') in row['COD'].lower():\n",
    "            details_cause.append(drug)\n",
    "    if 'alcohol' in row['COD'].lower():\n",
    "        details_cause.append('Ethanol')\n",
    "    if 'fentanyl' in row['COD'].lower():\n",
    "        details_cause.append('Fentanyl')\n",
    "    if 'opiates' in row['COD'].lower() or 'opiate' in row['COD'].lower() :\n",
    "        details_cause.append('Opiate NOS')\n",
    "    if any(word.strip() in ['fentanyl', 'Fentanyl'] for word in row['COD'].split(',')):\n",
    "        details_cause.append('Fentanyl Analogue')\n",
    "    if not details_cause:\n",
    "        details_cause.append('Other')\n",
    "        return details_cause\n",
    "    return ', '.join(details_cause)\n",
    "\n",
    "# Apply the function to the 'COD' column\n",
    "DrugDeath_df['Details Cause'] = DrugDeath_df.apply(find_drugs, axis=1)\n",
    "DrugDeath_df = remove_dup(DrugDeath_df, 'Details Cause')"
   ]
  },
  {
   "cell_type": "markdown",
   "id": "6b8709fa",
   "metadata": {},
   "source": [
    "<h2> How are values distributed? </h2>"
   ]
  },
  {
   "cell_type": "markdown",
   "id": "224f6d39",
   "metadata": {},
   "source": [
    "### With number columns, how are values distributed?"
   ]
  },
  {
   "cell_type": "code",
   "execution_count": 99,
   "id": "eae1582f",
   "metadata": {},
   "outputs": [
    {
     "data": {
      "text/plain": [
       "count    10654.000000\n",
       "mean        43.515206\n",
       "std         12.600651\n",
       "min         13.000000\n",
       "25%         33.000000\n",
       "50%         43.000000\n",
       "75%         54.000000\n",
       "max         87.000000\n",
       "Name: Age, dtype: float64"
      ]
     },
     "execution_count": 99,
     "metadata": {},
     "output_type": "execute_result"
    }
   ],
   "source": [
    "# min_value = DrugDeath_df['Age'].min()\n",
    "# max_value = DrugDeath_df['Age'].max()\n",
    "# q1 = DrugDeath_df['Age'].quantile(0.25)\n",
    "# q2 = DrugDeath_df['Age'].median()\n",
    "# q3 = DrugDeath_df['Age'].quantile(0.75)\n",
    "\n",
    "# print(f\"Min: {min_value}\")\n",
    "# print(f\"Max: {max_value}\")\n",
    "# print(f\"Q1: {q1}\")\n",
    "# print(f\"Q2 (Median): {q2}\")\n",
    "# print(f\"Q3: {q3}\")\n",
    "\n",
    "DrugDeath_df['Age'].describe()"
   ]
  },
  {
   "cell_type": "code",
   "execution_count": 100,
   "id": "7b3672f7",
   "metadata": {},
   "outputs": [
    {
     "data": {
      "image/png": "[encoded data removed]",
      "text/plain": [
       "<Figure size 1000x600 with 1 Axes>"
      ]
     },
     "metadata": {},
     "output_type": "display_data"
    }
   ],
   "source": [
    "num_bins = int(np.sqrt((DrugDeath_df['Age'].nunique())))\n",
    "\n",
    "plt.figure(figsize=(10,6))\n",
    "plt.hist(DrugDeath_df['Age'],bins=range(0, 101, 10), edgecolor='black')\n",
    "plt.title('Distribution of Age')\n",
    "plt.xlabel('Age')\n",
    "plt.xticks(range(0, 101, 10))\n",
    "plt.ylabel('Frequency')\n",
    "plt.show()\n"
   ]
  },
  {
   "cell_type": "markdown",
   "id": "2df14c48",
   "metadata": {},
   "source": [
    "### With categorical columns, how are values distributed?"
   ]
  },
  {
   "cell_type": "code",
   "execution_count": 101,
   "id": "ed69f920",
   "metadata": {},
   "outputs": [
    {
     "data": {
      "text/plain": [
       "Index(['Date', 'Age', 'Sex', 'Race', 'Location', 'COD', 'Heroin', 'Cocaine',\n",
       "       'Fentanyl', 'Fentanyl Analogue', 'Oxycodone', 'Oxymorphone', 'Ethanol',\n",
       "       'Hydrocodone', 'Benzodiazepine', 'Methadone', 'Meth/Amphetamine',\n",
       "       'Amphet', 'Tramad', 'Hydromorphone', 'Morphine (Not Heroin)',\n",
       "       'Xylazine', 'Gabapentin', 'Opiate NOS', 'Heroin/Morph/Codeine',\n",
       "       'ResidenceCityGeo', 'DeathCityGeo', 'Details Cause'],\n",
       "      dtype='object')"
      ]
     },
     "execution_count": 101,
     "metadata": {},
     "output_type": "execute_result"
    }
   ],
   "source": [
    "DrugDeath_df.columns"
   ]
  },
  {
   "cell_type": "markdown",
   "id": "86410aa3",
   "metadata": {},
   "source": [
    "For the columns Sex, and Race, let's create pie charts to visualize the distribution of values."
   ]
  },
  {
   "cell_type": "code",
   "execution_count": null,
   "id": "eb74a0d3",
   "metadata": {},
   "outputs": [],
   "source": []
  },
  {
   "cell_type": "markdown",
   "id": "25ee5e8c",
   "metadata": {},
   "source": [
    "We will create a bar chart to visualize the frequency of each drug found in the bodies of the victims."
   ]
  },
  {
   "cell_type": "code",
   "execution_count": 102,
   "id": "2b9c8a6b",
   "metadata": {},
   "outputs": [
    {
     "data": {
      "application/vnd.plotly.v1+json": {
       "config": {
        "plotlyServerURL": "https://plot.ly"
       },
       "data": [
        {
         "alignmentgroup": "True",
         "hovertemplate": "Drug=%{x}<br>Count=%{y}<extra></extra>",
         "legendgroup": "",
         "marker": {
          "color": "steelblue",
          "pattern": {
           "shape": ""
          }
         },
         "name": "",
         "offsetgroup": "",
         "orientation": "v",
         "showlegend": false,
         "textposition": "auto",
         "type": "bar",
         "x": [
          "Fentanyl",
          "Ethanol",
          "Benzodiazepine",
          "Oxycodone",
          "Methadone",
          "Fentanyl Analogue",
          "Xylazine",
          "Amphet",
          "Gabapentin",
          "Tramad",
          "Hydrocodone",
          "Oxymorphone",
          "Meth/Amphetamine",
          "Opiate NOS",
          "Hydromorphone",
          "Morphine (Not Heroin)"
         ],
         "xaxis": "x",
         "y": [
          6925,
          2878,
          2499,
          950,
          938,
          804,
          792,
          359,
          348,
          284,
          163,
          157,
          127,
          126,
          67,
          55
         ],
         "yaxis": "y"
        }
       ],
       "layout": {
        "barmode": "relative",
        "legend": {
         "tracegroupgap": 0
        },
        "template": {
         "data": {
          "bar": [
           {
            "error_x": {
             "color": "#2a3f5f"
            },
            "error_y": {
             "color": "#2a3f5f"
            },
            "marker": {
             "line": {
              "color": "#E5ECF6",
              "width": 0.5
             },
             "pattern": {
              "fillmode": "overlay",
              "size": 10,
              "solidity": 0.2
             }
            },
            "type": "bar"
           }
          ],
          "barpolar": [
           {
            "marker": {
             "line": {
              "color": "#E5ECF6",
              "width": 0.5
             },
             "pattern": {
              "fillmode": "overlay",
              "size": 10,
              "solidity": 0.2
             }
            },
            "type": "barpolar"
           }
          ],
          "carpet": [
           {
            "aaxis": {
             "endlinecolor": "#2a3f5f",
             "gridcolor": "white",
             "linecolor": "white",
             "minorgridcolor": "white",
             "startlinecolor": "#2a3f5f"
            },
            "baxis": {
             "endlinecolor": "#2a3f5f",
             "gridcolor": "white",
             "linecolor": "white",
             "minorgridcolor": "white",
             "startlinecolor": "#2a3f5f"
            },
            "type": "carpet"
           }
          ],
          "choropleth": [
           {
            "colorbar": {
             "outlinewidth": 0,
             "ticks": ""
            },
            "type": "choropleth"
           }
          ],
          "contour": [
           {
            "colorbar": {
             "outlinewidth": 0,
             "ticks": ""
            },
            "colorscale": [
             [
              0,
              "#0d0887"
             ],
             [
              0.1111111111111111,
              "#46039f"
             ],
             [
              0.2222222222222222,
              "#7201a8"
             ],
             [
              0.3333333333333333,
              "#9c179e"
             ],
             [
              0.4444444444444444,
              "#bd3786"
             ],
             [
              0.5555555555555556,
              "#d8576b"
             ],
             [
              0.6666666666666666,
              "#ed7953"
             ],
             [
              0.7777777777777778,
              "#fb9f3a"
             ],
             [
              0.8888888888888888,
              "#fdca26"
             ],
             [
              1,
              "#f0f921"
             ]
            ],
            "type": "contour"
           }
          ],
          "contourcarpet": [
           {
            "colorbar": {
             "outlinewidth": 0,
             "ticks": ""
            },
            "type": "contourcarpet"
           }
          ],
          "heatmap": [
           {
            "colorbar": {
             "outlinewidth": 0,
             "ticks": ""
            },
            "colorscale": [
             [
              0,
              "#0d0887"
             ],
             [
              0.1111111111111111,
              "#46039f"
             ],
             [
              0.2222222222222222,
              "#7201a8"
             ],
             [
              0.3333333333333333,
              "#9c179e"
             ],
             [
              0.4444444444444444,
              "#bd3786"
             ],
             [
              0.5555555555555556,
              "#d8576b"
             ],
             [
              0.6666666666666666,
              "#ed7953"
             ],
             [
              0.7777777777777778,
              "#fb9f3a"
             ],
             [
              0.8888888888888888,
              "#fdca26"
             ],
             [
              1,
              "#f0f921"
             ]
            ],
            "type": "heatmap"
           }
          ],
          "heatmapgl": [
           {
            "colorbar": {
             "outlinewidth": 0,
             "ticks": ""
            },
            "colorscale": [
             [
              0,
              "#0d0887"
             ],
             [
              0.1111111111111111,
              "#46039f"
             ],
             [
              0.2222222222222222,
              "#7201a8"
             ],
             [
              0.3333333333333333,
              "#9c179e"
             ],
             [
              0.4444444444444444,
              "#bd3786"
             ],
             [
              0.5555555555555556,
              "#d8576b"
             ],
             [
              0.6666666666666666,
              "#ed7953"
             ],
             [
              0.7777777777777778,
              "#fb9f3a"
             ],
             [
              0.8888888888888888,
              "#fdca26"
             ],
             [
              1,
              "#f0f921"
             ]
            ],
            "type": "heatmapgl"
           }
          ],
          "histogram": [
           {
            "marker": {
             "pattern": {
              "fillmode": "overlay",
              "size": 10,
              "solidity": 0.2
             }
            },
            "type": "histogram"
           }
          ],
          "histogram2d": [
           {
            "colorbar": {
             "outlinewidth": 0,
             "ticks": ""
            },
            "colorscale": [
             [
              0,
              "#0d0887"
             ],
             [
              0.1111111111111111,
              "#46039f"
             ],
             [
              0.2222222222222222,
              "#7201a8"
             ],
             [
              0.3333333333333333,
              "#9c179e"
             ],
             [
              0.4444444444444444,
              "#bd3786"
             ],
             [
              0.5555555555555556,
              "#d8576b"
             ],
             [
              0.6666666666666666,
              "#ed7953"
             ],
             [
              0.7777777777777778,
              "#fb9f3a"
             ],
             [
              0.8888888888888888,
              "#fdca26"
             ],
             [
              1,
              "#f0f921"
             ]
            ],
            "type": "histogram2d"
           }
          ],
          "histogram2dcontour": [
           {
            "colorbar": {
             "outlinewidth": 0,
             "ticks": ""
            },
            "colorscale": [
             [
              0,
              "#0d0887"
             ],
             [
              0.1111111111111111,
              "#46039f"
             ],
             [
              0.2222222222222222,
              "#7201a8"
             ],
             [
              0.3333333333333333,
              "#9c179e"
             ],
             [
              0.4444444444444444,
              "#bd3786"
             ],
             [
              0.5555555555555556,
              "#d8576b"
             ],
             [
              0.6666666666666666,
              "#ed7953"
             ],
             [
              0.7777777777777778,
              "#fb9f3a"
             ],
             [
              0.8888888888888888,
              "#fdca26"
             ],
             [
              1,
              "#f0f921"
             ]
            ],
            "type": "histogram2dcontour"
           }
          ],
          "mesh3d": [
           {
            "colorbar": {
             "outlinewidth": 0,
             "ticks": ""
            },
            "type": "mesh3d"
           }
          ],
          "parcoords": [
           {
            "line": {
             "colorbar": {
              "outlinewidth": 0,
              "ticks": ""
             }
            },
            "type": "parcoords"
           }
          ],
          "pie": [
           {
            "automargin": true,
            "type": "pie"
           }
          ],
          "scatter": [
           {
            "fillpattern": {
             "fillmode": "overlay",
             "size": 10,
             "solidity": 0.2
            },
            "type": "scatter"
           }
          ],
          "scatter3d": [
           {
            "line": {
             "colorbar": {
              "outlinewidth": 0,
              "ticks": ""
             }
            },
            "marker": {
             "colorbar": {
              "outlinewidth": 0,
              "ticks": ""
             }
            },
            "type": "scatter3d"
           }
          ],
          "scattercarpet": [
           {
            "marker": {
             "colorbar": {
              "outlinewidth": 0,
              "ticks": ""
             }
            },
            "type": "scattercarpet"
           }
          ],
          "scattergeo": [
           {
            "marker": {
             "colorbar": {
              "outlinewidth": 0,
              "ticks": ""
             }
            },
            "type": "scattergeo"
           }
          ],
          "scattergl": [
           {
            "marker": {
             "colorbar": {
              "outlinewidth": 0,
              "ticks": ""
             }
            },
            "type": "scattergl"
           }
          ],
          "scattermapbox": [
           {
            "marker": {
             "colorbar": {
              "outlinewidth": 0,
              "ticks": ""
             }
            },
            "type": "scattermapbox"
           }
          ],
          "scatterpolar": [
           {
            "marker": {
             "colorbar": {
              "outlinewidth": 0,
              "ticks": ""
             }
            },
            "type": "scatterpolar"
           }
          ],
          "scatterpolargl": [
           {
            "marker": {
             "colorbar": {
              "outlinewidth": 0,
              "ticks": ""
             }
            },
            "type": "scatterpolargl"
           }
          ],
          "scatterternary": [
           {
            "marker": {
             "colorbar": {
              "outlinewidth": 0,
              "ticks": ""
             }
            },
            "type": "scatterternary"
           }
          ],
          "surface": [
           {
            "colorbar": {
             "outlinewidth": 0,
             "ticks": ""
            },
            "colorscale": [
             [
              0,
              "#0d0887"
             ],
             [
              0.1111111111111111,
              "#46039f"
             ],
             [
              0.2222222222222222,
              "#7201a8"
             ],
             [
              0.3333333333333333,
              "#9c179e"
             ],
             [
              0.4444444444444444,
              "#bd3786"
             ],
             [
              0.5555555555555556,
              "#d8576b"
             ],
             [
              0.6666666666666666,
              "#ed7953"
             ],
             [
              0.7777777777777778,
              "#fb9f3a"
             ],
             [
              0.8888888888888888,
              "#fdca26"
             ],
             [
              1,
              "#f0f921"
             ]
            ],
            "type": "surface"
           }
          ],
          "table": [
           {
            "cells": {
             "fill": {
              "color": "#EBF0F8"
             },
             "line": {
              "color": "white"
             }
            },
            "header": {
             "fill": {
              "color": "#C8D4E3"
             },
             "line": {
              "color": "white"
             }
            },
            "type": "table"
           }
          ]
         },
         "layout": {
          "annotationdefaults": {
           "arrowcolor": "#2a3f5f",
           "arrowhead": 0,
           "arrowwidth": 1
          },
          "autotypenumbers": "strict",
          "coloraxis": {
           "colorbar": {
            "outlinewidth": 0,
            "ticks": ""
           }
          },
          "colorscale": {
           "diverging": [
            [
             0,
             "#8e0152"
            ],
            [
             0.1,
             "#c51b7d"
            ],
            [
             0.2,
             "#de77ae"
            ],
            [
             0.3,
             "#f1b6da"
            ],
            [
             0.4,
             "#fde0ef"
            ],
            [
             0.5,
             "#f7f7f7"
            ],
            [
             0.6,
             "#e6f5d0"
            ],
            [
             0.7,
             "#b8e186"
            ],
            [
             0.8,
             "#7fbc41"
            ],
            [
             0.9,
             "#4d9221"
            ],
            [
             1,
             "#276419"
            ]
           ],
           "sequential": [
            [
             0,
             "#0d0887"
            ],
            [
             0.1111111111111111,
             "#46039f"
            ],
            [
             0.2222222222222222,
             "#7201a8"
            ],
            [
             0.3333333333333333,
             "#9c179e"
            ],
            [
             0.4444444444444444,
             "#bd3786"
            ],
            [
             0.5555555555555556,
             "#d8576b"
            ],
            [
             0.6666666666666666,
             "#ed7953"
            ],
            [
             0.7777777777777778,
             "#fb9f3a"
            ],
            [
             0.8888888888888888,
             "#fdca26"
            ],
            [
             1,
             "#f0f921"
            ]
           ],
           "sequentialminus": [
            [
             0,
             "#0d0887"
            ],
            [
             0.1111111111111111,
             "#46039f"
            ],
            [
             0.2222222222222222,
             "#7201a8"
            ],
            [
             0.3333333333333333,
             "#9c179e"
            ],
            [
             0.4444444444444444,
             "#bd3786"
            ],
            [
             0.5555555555555556,
             "#d8576b"
            ],
            [
             0.6666666666666666,
             "#ed7953"
            ],
            [
             0.7777777777777778,
             "#fb9f3a"
            ],
            [
             0.8888888888888888,
             "#fdca26"
            ],
            [
             1,
             "#f0f921"
            ]
           ]
          },
          "colorway": [
           "#636efa",
           "#EF553B",
           "#00cc96",
           "#ab63fa",
           "#FFA15A",
           "#19d3f3",
           "#FF6692",
           "#B6E880",
           "#FF97FF",
           "#FECB52"
          ],
          "font": {
           "color": "#2a3f5f"
          },
          "geo": {
           "bgcolor": "white",
           "lakecolor": "white",
           "landcolor": "#E5ECF6",
           "showlakes": true,
           "showland": true,
           "subunitcolor": "white"
          },
          "hoverlabel": {
           "align": "left"
          },
          "hovermode": "closest",
          "mapbox": {
           "style": "light"
          },
          "paper_bgcolor": "white",
          "plot_bgcolor": "#E5ECF6",
          "polar": {
           "angularaxis": {
            "gridcolor": "white",
            "linecolor": "white",
            "ticks": ""
           },
           "bgcolor": "#E5ECF6",
           "radialaxis": {
            "gridcolor": "white",
            "linecolor": "white",
            "ticks": ""
           }
          },
          "scene": {
           "xaxis": {
            "backgroundcolor": "#E5ECF6",
            "gridcolor": "white",
            "gridwidth": 2,
            "linecolor": "white",
            "showbackground": true,
            "ticks": "",
            "zerolinecolor": "white"
           },
           "yaxis": {
            "backgroundcolor": "#E5ECF6",
            "gridcolor": "white",
            "gridwidth": 2,
            "linecolor": "white",
            "showbackground": true,
            "ticks": "",
            "zerolinecolor": "white"
           },
           "zaxis": {
            "backgroundcolor": "#E5ECF6",
            "gridcolor": "white",
            "gridwidth": 2,
            "linecolor": "white",
            "showbackground": true,
            "ticks": "",
            "zerolinecolor": "white"
           }
          },
          "shapedefaults": {
           "line": {
            "color": "#2a3f5f"
           }
          },
          "ternary": {
           "aaxis": {
            "gridcolor": "white",
            "linecolor": "white",
            "ticks": ""
           },
           "baxis": {
            "gridcolor": "white",
            "linecolor": "white",
            "ticks": ""
           },
           "bgcolor": "#E5ECF6",
           "caxis": {
            "gridcolor": "white",
            "linecolor": "white",
            "ticks": ""
           }
          },
          "title": {
           "x": 0.05
          },
          "xaxis": {
           "automargin": true,
           "gridcolor": "white",
           "linecolor": "white",
           "ticks": "",
           "title": {
            "standoff": 15
           },
           "zerolinecolor": "white",
           "zerolinewidth": 2
          },
          "yaxis": {
           "automargin": true,
           "gridcolor": "white",
           "linecolor": "white",
           "ticks": "",
           "title": {
            "standoff": 15
           },
           "zerolinecolor": "white",
           "zerolinewidth": 2
          }
         }
        },
        "title": {
         "text": "Số lượng bệnh nhân"
        },
        "xaxis": {
         "anchor": "y",
         "domain": [
          0,
          1
         ],
         "title": {
          "text": "Drug"
         }
        },
        "yaxis": {
         "anchor": "x",
         "domain": [
          0,
          1
         ],
         "title": {
          "text": "Count"
         }
        }
       }
      }
     },
     "metadata": {},
     "output_type": "display_data"
    }
   ],
   "source": [
    "#LẶp qua tất cả các cột thuốc, vì đây là boolean nên chỉ cần dùng .sum() để đếm số lượng True\n",
    "drugs_found = DrugDeath_df[drug_column].sum().sort_values(ascending=False)\n",
    "drugs_found \n",
    "\n",
    "# Chuyển đổi Series thành DataFrame để vẽ biểu đồ\n",
    "drugs_found_df = drugs_found.reset_index()\n",
    "drugs_found_df.columns = ['Drug', 'Count']\n",
    "\n",
    "# Vẽ biểu đồ cột\n",
    "fig = px.bar(drugs_found_df, x='Drug', y='Count', title='Số lượng bệnh nhân', color_discrete_sequence=['steelblue'])\n",
    "fig.show()\n"
   ]
  },
  {
   "cell_type": "markdown",
   "id": "fbae8e7b",
   "metadata": {},
   "source": [
    "For the column indicating the cause of death, we will examine how many victims were directly related to each type of drug."
   ]
  },
  {
   "cell_type": "code",
   "execution_count": 103,
   "id": "18eb8415",
   "metadata": {},
   "outputs": [
    {
     "data": {
      "application/vnd.plotly.v1+json": {
       "config": {
        "plotlyServerURL": "https://plot.ly"
       },
       "data": [
        {
         "alignmentgroup": "True",
         "hovertemplate": "Drug=%{x}<br>Count=%{y}<extra></extra>",
         "legendgroup": "",
         "marker": {
          "color": "steelblue",
          "pattern": {
           "shape": ""
          }
         },
         "name": "",
         "offsetgroup": "",
         "orientation": "v",
         "showlegend": false,
         "textposition": "auto",
         "type": "bar",
         "x": [
          "Fentanyl",
          "Fentanyl Analogue",
          "Cocaine",
          "Heroin",
          "Ethanol",
          "Methadone",
          "Oxycodone",
          "Xylazine",
          "Gabapentin",
          "Amphetamine",
          "Morphine",
          "['Other']",
          "Tramadol",
          "Hydrocodone",
          "Oxymorphone",
          "Hydromorphone",
          "Opiate NOS",
          "Benzodiazepine",
          "Codeine"
         ],
         "xaxis": "x",
         "y": [
          6891,
          6688,
          3516,
          3047,
          2847,
          906,
          870,
          859,
          612,
          473,
          440,
          415,
          301,
          136,
          130,
          129,
          124,
          118,
          48
         ],
         "yaxis": "y"
        }
       ],
       "layout": {
        "barmode": "relative",
        "legend": {
         "tracegroupgap": 0
        },
        "template": {
         "data": {
          "bar": [
           {
            "error_x": {
             "color": "#2a3f5f"
            },
            "error_y": {
             "color": "#2a3f5f"
            },
            "marker": {
             "line": {
              "color": "#E5ECF6",
              "width": 0.5
             },
             "pattern": {
              "fillmode": "overlay",
              "size": 10,
              "solidity": 0.2
             }
            },
            "type": "bar"
           }
          ],
          "barpolar": [
           {
            "marker": {
             "line": {
              "color": "#E5ECF6",
              "width": 0.5
             },
             "pattern": {
              "fillmode": "overlay",
              "size": 10,
              "solidity": 0.2
             }
            },
            "type": "barpolar"
           }
          ],
          "carpet": [
           {
            "aaxis": {
             "endlinecolor": "#2a3f5f",
             "gridcolor": "white",
             "linecolor": "white",
             "minorgridcolor": "white",
             "startlinecolor": "#2a3f5f"
            },
            "baxis": {
             "endlinecolor": "#2a3f5f",
             "gridcolor": "white",
             "linecolor": "white",
             "minorgridcolor": "white",
             "startlinecolor": "#2a3f5f"
            },
            "type": "carpet"
           }
          ],
          "choropleth": [
           {
            "colorbar": {
             "outlinewidth": 0,
             "ticks": ""
            },
            "type": "choropleth"
           }
          ],
          "contour": [
           {
            "colorbar": {
             "outlinewidth": 0,
             "ticks": ""
            },
            "colorscale": [
             [
              0,
              "#0d0887"
             ],
             [
              0.1111111111111111,
              "#46039f"
             ],
             [
              0.2222222222222222,
              "#7201a8"
             ],
             [
              0.3333333333333333,
              "#9c179e"
             ],
             [
              0.4444444444444444,
              "#bd3786"
             ],
             [
              0.5555555555555556,
              "#d8576b"
             ],
             [
              0.6666666666666666,
              "#ed7953"
             ],
             [
              0.7777777777777778,
              "#fb9f3a"
             ],
             [
              0.8888888888888888,
              "#fdca26"
             ],
             [
              1,
              "#f0f921"
             ]
            ],
            "type": "contour"
           }
          ],
          "contourcarpet": [
           {
            "colorbar": {
             "outlinewidth": 0,
             "ticks": ""
            },
            "type": "contourcarpet"
           }
          ],
          "heatmap": [
           {
            "colorbar": {
             "outlinewidth": 0,
             "ticks": ""
            },
            "colorscale": [
             [
              0,
              "#0d0887"
             ],
             [
              0.1111111111111111,
              "#46039f"
             ],
             [
              0.2222222222222222,
              "#7201a8"
             ],
             [
              0.3333333333333333,
              "#9c179e"
             ],
             [
              0.4444444444444444,
              "#bd3786"
             ],
             [
              0.5555555555555556,
              "#d8576b"
             ],
             [
              0.6666666666666666,
              "#ed7953"
             ],
             [
              0.7777777777777778,
              "#fb9f3a"
             ],
             [
              0.8888888888888888,
              "#fdca26"
             ],
             [
              1,
              "#f0f921"
             ]
            ],
            "type": "heatmap"
           }
          ],
          "heatmapgl": [
           {
            "colorbar": {
             "outlinewidth": 0,
             "ticks": ""
            },
            "colorscale": [
             [
              0,
              "#0d0887"
             ],
             [
              0.1111111111111111,
              "#46039f"
             ],
             [
              0.2222222222222222,
              "#7201a8"
             ],
             [
              0.3333333333333333,
              "#9c179e"
             ],
             [
              0.4444444444444444,
              "#bd3786"
             ],
             [
              0.5555555555555556,
              "#d8576b"
             ],
             [
              0.6666666666666666,
              "#ed7953"
             ],
             [
              0.7777777777777778,
              "#fb9f3a"
             ],
             [
              0.8888888888888888,
              "#fdca26"
             ],
             [
              1,
              "#f0f921"
             ]
            ],
            "type": "heatmapgl"
           }
          ],
          "histogram": [
           {
            "marker": {
             "pattern": {
              "fillmode": "overlay",
              "size": 10,
              "solidity": 0.2
             }
            },
            "type": "histogram"
           }
          ],
          "histogram2d": [
           {
            "colorbar": {
             "outlinewidth": 0,
             "ticks": ""
            },
            "colorscale": [
             [
              0,
              "#0d0887"
             ],
             [
              0.1111111111111111,
              "#46039f"
             ],
             [
              0.2222222222222222,
              "#7201a8"
             ],
             [
              0.3333333333333333,
              "#9c179e"
             ],
             [
              0.4444444444444444,
              "#bd3786"
             ],
             [
              0.5555555555555556,
              "#d8576b"
             ],
             [
              0.6666666666666666,
              "#ed7953"
             ],
             [
              0.7777777777777778,
              "#fb9f3a"
             ],
             [
              0.8888888888888888,
              "#fdca26"
             ],
             [
              1,
              "#f0f921"
             ]
            ],
            "type": "histogram2d"
           }
          ],
          "histogram2dcontour": [
           {
            "colorbar": {
             "outlinewidth": 0,
             "ticks": ""
            },
            "colorscale": [
             [
              0,
              "#0d0887"
             ],
             [
              0.1111111111111111,
              "#46039f"
             ],
             [
              0.2222222222222222,
              "#7201a8"
             ],
             [
              0.3333333333333333,
              "#9c179e"
             ],
             [
              0.4444444444444444,
              "#bd3786"
             ],
             [
              0.5555555555555556,
              "#d8576b"
             ],
             [
              0.6666666666666666,
              "#ed7953"
             ],
             [
              0.7777777777777778,
              "#fb9f3a"
             ],
             [
              0.8888888888888888,
              "#fdca26"
             ],
             [
              1,
              "#f0f921"
             ]
            ],
            "type": "histogram2dcontour"
           }
          ],
          "mesh3d": [
           {
            "colorbar": {
             "outlinewidth": 0,
             "ticks": ""
            },
            "type": "mesh3d"
           }
          ],
          "parcoords": [
           {
            "line": {
             "colorbar": {
              "outlinewidth": 0,
              "ticks": ""
             }
            },
            "type": "parcoords"
           }
          ],
          "pie": [
           {
            "automargin": true,
            "type": "pie"
           }
          ],
          "scatter": [
           {
            "fillpattern": {
             "fillmode": "overlay",
             "size": 10,
             "solidity": 0.2
            },
            "type": "scatter"
           }
          ],
          "scatter3d": [
           {
            "line": {
             "colorbar": {
              "outlinewidth": 0,
              "ticks": ""
             }
            },
            "marker": {
             "colorbar": {
              "outlinewidth": 0,
              "ticks": ""
             }
            },
            "type": "scatter3d"
           }
          ],
          "scattercarpet": [
           {
            "marker": {
             "colorbar": {
              "outlinewidth": 0,
              "ticks": ""
             }
            },
            "type": "scattercarpet"
           }
          ],
          "scattergeo": [
           {
            "marker": {
             "colorbar": {
              "outlinewidth": 0,
              "ticks": ""
             }
            },
            "type": "scattergeo"
           }
          ],
          "scattergl": [
           {
            "marker": {
             "colorbar": {
              "outlinewidth": 0,
              "ticks": ""
             }
            },
            "type": "scattergl"
           }
          ],
          "scattermapbox": [
           {
            "marker": {
             "colorbar": {
              "outlinewidth": 0,
              "ticks": ""
             }
            },
            "type": "scattermapbox"
           }
          ],
          "scatterpolar": [
           {
            "marker": {
             "colorbar": {
              "outlinewidth": 0,
              "ticks": ""
             }
            },
            "type": "scatterpolar"
           }
          ],
          "scatterpolargl": [
           {
            "marker": {
             "colorbar": {
              "outlinewidth": 0,
              "ticks": ""
             }
            },
            "type": "scatterpolargl"
           }
          ],
          "scatterternary": [
           {
            "marker": {
             "colorbar": {
              "outlinewidth": 0,
              "ticks": ""
             }
            },
            "type": "scatterternary"
           }
          ],
          "surface": [
           {
            "colorbar": {
             "outlinewidth": 0,
             "ticks": ""
            },
            "colorscale": [
             [
              0,
              "#0d0887"
             ],
             [
              0.1111111111111111,
              "#46039f"
             ],
             [
              0.2222222222222222,
              "#7201a8"
             ],
             [
              0.3333333333333333,
              "#9c179e"
             ],
             [
              0.4444444444444444,
              "#bd3786"
             ],
             [
              0.5555555555555556,
              "#d8576b"
             ],
             [
              0.6666666666666666,
              "#ed7953"
             ],
             [
              0.7777777777777778,
              "#fb9f3a"
             ],
             [
              0.8888888888888888,
              "#fdca26"
             ],
             [
              1,
              "#f0f921"
             ]
            ],
            "type": "surface"
           }
          ],
          "table": [
           {
            "cells": {
             "fill": {
              "color": "#EBF0F8"
             },
             "line": {
              "color": "white"
             }
            },
            "header": {
             "fill": {
              "color": "#C8D4E3"
             },
             "line": {
              "color": "white"
             }
            },
            "type": "table"
           }
          ]
         },
         "layout": {
          "annotationdefaults": {
           "arrowcolor": "#2a3f5f",
           "arrowhead": 0,
           "arrowwidth": 1
          },
          "autotypenumbers": "strict",
          "coloraxis": {
           "colorbar": {
            "outlinewidth": 0,
            "ticks": ""
           }
          },
          "colorscale": {
           "diverging": [
            [
             0,
             "#8e0152"
            ],
            [
             0.1,
             "#c51b7d"
            ],
            [
             0.2,
             "#de77ae"
            ],
            [
             0.3,
             "#f1b6da"
            ],
            [
             0.4,
             "#fde0ef"
            ],
            [
             0.5,
             "#f7f7f7"
            ],
            [
             0.6,
             "#e6f5d0"
            ],
            [
             0.7,
             "#b8e186"
            ],
            [
             0.8,
             "#7fbc41"
            ],
            [
             0.9,
             "#4d9221"
            ],
            [
             1,
             "#276419"
            ]
           ],
           "sequential": [
            [
             0,
             "#0d0887"
            ],
            [
             0.1111111111111111,
             "#46039f"
            ],
            [
             0.2222222222222222,
             "#7201a8"
            ],
            [
             0.3333333333333333,
             "#9c179e"
            ],
            [
             0.4444444444444444,
             "#bd3786"
            ],
            [
             0.5555555555555556,
             "#d8576b"
            ],
            [
             0.6666666666666666,
             "#ed7953"
            ],
            [
             0.7777777777777778,
             "#fb9f3a"
            ],
            [
             0.8888888888888888,
             "#fdca26"
            ],
            [
             1,
             "#f0f921"
            ]
           ],
           "sequentialminus": [
            [
             0,
             "#0d0887"
            ],
            [
             0.1111111111111111,
             "#46039f"
            ],
            [
             0.2222222222222222,
             "#7201a8"
            ],
            [
             0.3333333333333333,
             "#9c179e"
            ],
            [
             0.4444444444444444,
             "#bd3786"
            ],
            [
             0.5555555555555556,
             "#d8576b"
            ],
            [
             0.6666666666666666,
             "#ed7953"
            ],
            [
             0.7777777777777778,
             "#fb9f3a"
            ],
            [
             0.8888888888888888,
             "#fdca26"
            ],
            [
             1,
             "#f0f921"
            ]
           ]
          },
          "colorway": [
           "#636efa",
           "#EF553B",
           "#00cc96",
           "#ab63fa",
           "#FFA15A",
           "#19d3f3",
           "#FF6692",
           "#B6E880",
           "#FF97FF",
           "#FECB52"
          ],
          "font": {
           "color": "#2a3f5f"
          },
          "geo": {
           "bgcolor": "white",
           "lakecolor": "white",
           "landcolor": "#E5ECF6",
           "showlakes": true,
           "showland": true,
           "subunitcolor": "white"
          },
          "hoverlabel": {
           "align": "left"
          },
          "hovermode": "closest",
          "mapbox": {
           "style": "light"
          },
          "paper_bgcolor": "white",
          "plot_bgcolor": "#E5ECF6",
          "polar": {
           "angularaxis": {
            "gridcolor": "white",
            "linecolor": "white",
            "ticks": ""
           },
           "bgcolor": "#E5ECF6",
           "radialaxis": {
            "gridcolor": "white",
            "linecolor": "white",
            "ticks": ""
           }
          },
          "scene": {
           "xaxis": {
            "backgroundcolor": "#E5ECF6",
            "gridcolor": "white",
            "gridwidth": 2,
            "linecolor": "white",
            "showbackground": true,
            "ticks": "",
            "zerolinecolor": "white"
           },
           "yaxis": {
            "backgroundcolor": "#E5ECF6",
            "gridcolor": "white",
            "gridwidth": 2,
            "linecolor": "white",
            "showbackground": true,
            "ticks": "",
            "zerolinecolor": "white"
           },
           "zaxis": {
            "backgroundcolor": "#E5ECF6",
            "gridcolor": "white",
            "gridwidth": 2,
            "linecolor": "white",
            "showbackground": true,
            "ticks": "",
            "zerolinecolor": "white"
           }
          },
          "shapedefaults": {
           "line": {
            "color": "#2a3f5f"
           }
          },
          "ternary": {
           "aaxis": {
            "gridcolor": "white",
            "linecolor": "white",
            "ticks": ""
           },
           "baxis": {
            "gridcolor": "white",
            "linecolor": "white",
            "ticks": ""
           },
           "bgcolor": "#E5ECF6",
           "caxis": {
            "gridcolor": "white",
            "linecolor": "white",
            "ticks": ""
           }
          },
          "title": {
           "x": 0.05
          },
          "xaxis": {
           "automargin": true,
           "gridcolor": "white",
           "linecolor": "white",
           "ticks": "",
           "title": {
            "standoff": 15
           },
           "zerolinecolor": "white",
           "zerolinewidth": 2
          },
          "yaxis": {
           "automargin": true,
           "gridcolor": "white",
           "linecolor": "white",
           "ticks": "",
           "title": {
            "standoff": 15
           },
           "zerolinecolor": "white",
           "zerolinewidth": 2
          }
         }
        },
        "title": {
         "text": "Tần suất xuất hiện của từng loại thuốc"
        },
        "xaxis": {
         "anchor": "y",
         "domain": [
          0,
          1
         ],
         "title": {
          "text": "Drug"
         }
        },
        "yaxis": {
         "anchor": "x",
         "domain": [
          0,
          1
         ],
         "title": {
          "text": "Count"
         }
        }
       }
      }
     },
     "metadata": {},
     "output_type": "display_data"
    }
   ],
   "source": [
    "# value count for each name of drug in each row\n",
    "\n",
    "def count_drug_frequency(df, column):\n",
    "    # Split the column into separate drugs\n",
    "    df[column] = df[column].str.split(',')\n",
    "\n",
    "    # Expand the lists into separate rows\n",
    "    df = df.explode(column)\n",
    "\n",
    "    # Strip leading/trailing whitespace\n",
    "    df[column] = df[column].str.strip()\n",
    "\n",
    "    # Count the frequency of each drug\n",
    "    drug_counts = df[column].value_counts()\n",
    "\n",
    "    return drug_counts\n",
    "\n",
    "drug_counts = count_drug_frequency(DrugDeath_df, 'Details Cause')\n",
    "\n",
    "# Chuyển đổi Series thành DataFrame để vẽ biểu đồ\n",
    "drug_counts_df = drug_counts.reset_index()\n",
    "drug_counts_df.columns = ['Drug', 'Count']\n",
    "\n",
    "# Vẽ biểu đồ cột\n",
    "fig = px.bar(drug_counts_df, x='Drug', y='Count', title='Tần suất xuất hiện của từng loại thuốc', color_discrete_sequence=['steelblue'])\n",
    "fig.show()\n"
   ]
  },
  {
   "cell_type": "markdown",
   "id": "780509f6",
   "metadata": {},
   "source": [
    "# Quick view of Data"
   ]
  },
  {
   "cell_type": "code",
   "execution_count": 104,
   "id": "9cf3a52e",
   "metadata": {},
   "outputs": [
    {
     "name": "stdout",
     "output_type": "stream",
     "text": [
      "<class 'pandas.core.frame.DataFrame'>\n",
      "RangeIndex: 10654 entries, 0 to 10653\n",
      "Data columns (total 28 columns):\n",
      " #   Column                 Non-Null Count  Dtype         \n",
      "---  ------                 --------------  -----         \n",
      " 0   Date                   10654 non-null  datetime64[ns]\n",
      " 1   Age                    10654 non-null  int32         \n",
      " 2   Sex                    10654 non-null  object        \n",
      " 3   Race                   10654 non-null  object        \n",
      " 4   Location               10654 non-null  object        \n",
      " 5   COD                    10654 non-null  object        \n",
      " 6   Heroin                 10654 non-null  bool          \n",
      " 7   Cocaine                10654 non-null  bool          \n",
      " 8   Fentanyl               10654 non-null  bool          \n",
      " 9   Fentanyl Analogue      10654 non-null  bool          \n",
      " 10  Oxycodone              10654 non-null  bool          \n",
      " 11  Oxymorphone            10654 non-null  bool          \n",
      " 12  Ethanol                10654 non-null  bool          \n",
      " 13  Hydrocodone            10654 non-null  bool          \n",
      " 14  Benzodiazepine         10654 non-null  bool          \n",
      " 15  Methadone              10654 non-null  bool          \n",
      " 16  Meth/Amphetamine       10654 non-null  bool          \n",
      " 17  Amphet                 10654 non-null  bool          \n",
      " 18  Tramad                 10654 non-null  bool          \n",
      " 19  Hydromorphone          10654 non-null  bool          \n",
      " 20  Morphine (Not Heroin)  10654 non-null  bool          \n",
      " 21  Xylazine               10654 non-null  bool          \n",
      " 22  Gabapentin             10654 non-null  bool          \n",
      " 23  Opiate NOS             10654 non-null  bool          \n",
      " 24  Heroin/Morph/Codeine   10654 non-null  bool          \n",
      " 25  ResidenceCityGeo       10654 non-null  object        \n",
      " 26  DeathCityGeo           10654 non-null  object        \n",
      " 27  Details Cause          10654 non-null  object        \n",
      "dtypes: bool(19), datetime64[ns](1), int32(1), object(7)\n",
      "memory usage: 905.3+ KB\n"
     ]
    }
   ],
   "source": [
    "DrugDeath_df.info()"
   ]
  },
  {
   "cell_type": "markdown",
   "id": "33984bb8",
   "metadata": {},
   "source": [
    "## 1. The correlation between \"Age\" and \"Types of drugs\""
   ]
  },
  {
   "cell_type": "markdown",
   "id": "06051794",
   "metadata": {},
   "source": [
    "### Step 1: Calculating correlation coefficients"
   ]
  },
  {
   "cell_type": "code",
   "execution_count": 105,
   "id": "b18daf7f",
   "metadata": {},
   "outputs": [
    {
     "name": "stdout",
     "output_type": "stream",
     "text": [
      "Correlation between Age and Heroin: -0.07954282704926738\n",
      "Correlation between Age and Cocaine: 0.05854990200908167\n",
      "Correlation between Age and Fentanyl: -0.0683874293737659\n",
      "Correlation between Age and Fentanyl Analogue: -0.005477558063258838\n",
      "Correlation between Age and Oxycodone: 0.0875542600154364\n",
      "Correlation between Age and Oxymorphone: 0.01843000676343884\n",
      "Correlation between Age and Ethanol: 0.07229435752075965\n",
      "Correlation between Age and Hydrocodone: 0.06154210067710383\n",
      "Correlation between Age and Benzodiazepine: 0.018169514531857067\n",
      "Correlation between Age and Methadone: 0.07257838402874138\n",
      "Correlation between Age and Meth/Amphetamine: -0.04196824014760545\n",
      "Correlation between Age and Amphet: -0.051560261579607074\n",
      "Correlation between Age and Tramad: 0.05811712431329165\n",
      "Correlation between Age and Hydromorphone: 0.030105710979642344\n",
      "Correlation between Age and Morphine (Not Heroin): 0.0302137338762264\n",
      "Correlation between Age and Xylazine: 0.028140849817594803\n",
      "Correlation between Age and Gabapentin: 0.09800964090994865\n",
      "Correlation between Age and Opiate NOS: 0.007103311719656147\n",
      "Correlation between Age and Heroin/Morph/Codeine: -0.014196632921614633\n"
     ]
    }
   ],
   "source": [
    "# Sao lưu một bản sao của DataFrame gốc\n",
    "df_copy = DrugDeath_df.copy()\n",
    "\n",
    "# Tạo một dictionary để lưu trữ hệ số tương quan giữa 'Age' và các thuốc\n",
    "correlations = {}\n",
    "\n",
    "# Lặp qua từng cột thuốc và tính toán tương quan\n",
    "for column in df_copy.columns:\n",
    "    if df_copy[column].dtype == bool:  # Chỉ xem xét các cột dạng boolean\n",
    "        correlation = df_copy['Age'].corr(df_copy[column].astype(int), method='pearson')\n",
    "        correlations[column] = correlation\n",
    "\n",
    "# In ra các hệ số tương quan\n",
    "for drug, correlation in correlations.items():\n",
    "    print(f\"Correlation between Age and {drug}: {correlation}\")"
   ]
  },
  {
   "cell_type": "markdown",
   "id": "c389c566",
   "metadata": {},
   "source": [
    "### Step 2: Visualize by heatmap"
   ]
  },
  {
   "cell_type": "code",
   "execution_count": 106,
   "id": "b685c97a",
   "metadata": {},
   "outputs": [
    {
     "data": {
      "image/png": "[encoded data removed]",
      "text/plain": [
       "<Figure size 1000x600 with 2 Axes>"
      ]
     },
     "metadata": {},
     "output_type": "display_data"
    }
   ],
   "source": [
    "# Chuyển đổi dictionary thành DataFrame để vẽ biểu đồ\n",
    "correlation_df = pd.DataFrame(list(correlations.items()), columns=['Drug', 'Correlation'])\n",
    "\n",
    "# Sắp xếp DataFrame theo giá trị tăng dần của hệ số tương quan\n",
    "correlation_df = correlation_df.sort_values(by='Correlation')\n",
    "\n",
    "# Tạo DataFrame có chỉ số là tên thuốc và cột là 'Age' và giá trị là hệ số tương quan\n",
    "heatmap_data = correlation_df.set_index('Drug').T\n",
    "\n",
    "# Vẽ biểu đồ heatmap\n",
    "plt.figure(figsize=(10, 6))\n",
    "sns.heatmap(heatmap_data, annot=True, cmap='coolwarm', fmt='.2f')\n",
    "plt.title('Correlation Heatmap between Age and Drugs')\n",
    "plt.xlabel('Drug')\n",
    "plt.ylabel('Age')\n",
    "plt.show()"
   ]
  },
  {
   "cell_type": "markdown",
   "id": "1a8a101e",
   "metadata": {},
   "source": [
    "**Nhận xét:**\n",
    "- Các loại ma túy có mức tương quan tiêu cực mạnh với tuổi tác (màu xanh lam sẫm) bao gồm: Heroin và Fentanyl. Điều này có thể cho thấy rằng những loại ma túy này thường được sử dụng nhiều hơn bởi những người trẻ tuổi.\n",
    "- Ma túy có mức tương quan tiêu cực nhẹ hơn (màu xanh nhạt) bao gồm: Amphet và Meth/Amphetamine.\n",
    "- Gabapentin có mức tương quan tích cực mạnh nhất với tuổi tác (màu đỏ sẫm), có nghĩa là loại ma túy này có thể được sử dụng nhiều hơn bởi những người lớn tuổi.\n",
    "- Các loại ma túy khác như Cocaine, Methadone, và Hydrocodone cũng cho thấy một mức độ tương quan tích cực nhẹ hơn (màu đỏ nhạt)."
   ]
  },
  {
   "cell_type": "markdown",
   "id": "728e9893",
   "metadata": {},
   "source": [
    "## 2. What is the death rate between males and females?"
   ]
  },
  {
   "cell_type": "markdown",
   "id": "aa4b1852",
   "metadata": {},
   "source": [
    "### Step 1: Calculate death rate for each gender"
   ]
  },
  {
   "cell_type": "code",
   "execution_count": 107,
   "id": "a0d37489",
   "metadata": {},
   "outputs": [
    {
     "name": "stdout",
     "output_type": "stream",
     "text": [
      "Death rate for males: 74.14%\n",
      "Death rate for females: 25.86%\n"
     ]
    }
   ],
   "source": [
    "# Sao lưu một bản sao của DataFrame gốc\n",
    "df_copy = DrugDeath_df.copy()\n",
    "\n",
    "# Lọc các hàng có thông tin giới tính hợp lệ và chi tiết về nguyên nhân tử vong không thiếu\n",
    "filtered_df = df_copy[(df_copy['Sex'].isin(['Male', 'Female'])) & (df_copy['Details Cause'].notna())]\n",
    "\n",
    "# Tính tỷ lệ tử vong cho mỗi giới tính\n",
    "death_rate_by_gender = filtered_df.groupby('Sex')['Details Cause'].count() / len(filtered_df) * 100\n",
    "\n",
    "# In tỷ lệ tử vong cho nam và nữ\n",
    "print(f\"Death rate for males: {death_rate_by_gender['Male']:.2f}%\")\n",
    "print(f\"Death rate for females: {death_rate_by_gender['Female']:.2f}%\")"
   ]
  },
  {
   "cell_type": "markdown",
   "id": "d7d91895",
   "metadata": {},
   "source": [
    "### Step 2: Visualize by bar chart"
   ]
  },
  {
   "cell_type": "code",
   "execution_count": 108,
   "id": "251fcf6b",
   "metadata": {},
   "outputs": [
    {
     "data": {
      "image/png": "[encoded data removed]",
      "text/plain": [
       "<Figure size 800x600 with 1 Axes>"
      ]
     },
     "metadata": {},
     "output_type": "display_data"
    }
   ],
   "source": [
    "# Vẽ biểu đồ tỷ lệ tử vong\n",
    "plt.figure(figsize=(8, 6))\n",
    "death_rate_by_gender.plot(kind='bar', color=['blue', 'pink'])\n",
    "plt.title('Death Rates between Males and Females')\n",
    "plt.xlabel('Gender')\n",
    "plt.ylabel('Death Rate (%)')\n",
    "plt.xticks(rotation=0)\n",
    "plt.grid(axis='y')\n",
    "plt.show()"
   ]
  },
  {
   "cell_type": "markdown",
   "id": "cd184a56",
   "metadata": {},
   "source": [
    "**Nhận xét:**\n",
    "- Tỉ lệ tử vong ở phụ nữ được biểu thị bằng một cột màu xanh dương với chiều cao khoảng hơn 20%, cho thấy tỉ lệ tử vong trong nhóm này.\n",
    "- Tỉ lệ tử vong ở nam giới đáng chú ý cao hơn nhiều, với cột màu hồng chiếm khoảng hơn 60% tỉ lệ tử vong."
   ]
  },
  {
   "cell_type": "markdown",
   "id": "33eb749a",
   "metadata": {},
   "source": [
    "## 3. The distribution of different types of drugs in different locations?"
   ]
  },
  {
   "cell_type": "markdown",
   "id": "85a2686b",
   "metadata": {},
   "source": [
    "### Step 1: Related to each type of drug and the 'Location' column"
   ]
  },
  {
   "cell_type": "code",
   "execution_count": 109,
   "id": "dc9aa662",
   "metadata": {},
   "outputs": [],
   "source": [
    "# Sao lưu một bản sao của DataFrame gốc\n",
    "df_copy = DrugDeath_df.copy()\n",
    "\n",
    "# Lọc các hàng có thông tin về chất gây nghiện và địa điểm thành phố hợp lệ\n",
    "filtered_df = df_copy[df_copy['Location'].notna()]\n",
    "\n",
    "# Chọn các cột liên quan đến từng loại chất gây nghiện và cột 'Location'\n",
    "drug_columns = [col for col in df_copy.columns if col not in ['Location'] and df_copy[col].dtype == bool]\n",
    "columns_of_interest = ['Location'] + drug_columns\n",
    "filtered_data = filtered_df[columns_of_interest]\n",
    "\n",
    "# Nhóm theo 'Location' để quan sát sự phân phối chất gây nghiện tại các thành phố khác nhau\n",
    "drug_distribution_by_city = filtered_data.groupby('Location').sum()"
   ]
  },
  {
   "cell_type": "markdown",
   "id": "2fcb589d",
   "metadata": {},
   "source": [
    "### Step 2: Visualize"
   ]
  },
  {
   "cell_type": "code",
   "execution_count": 110,
   "id": "8a5014ab",
   "metadata": {},
   "outputs": [
    {
     "data": {
      "text/plain": [
       "<Figure size 1200x800 with 0 Axes>"
      ]
     },
     "metadata": {},
     "output_type": "display_data"
    },
    {
     "data": {
      "image/png": "[encoded data removed]",
      "text/plain": [
       "<Figure size 640x480 with 1 Axes>"
      ]
     },
     "metadata": {},
     "output_type": "display_data"
    }
   ],
   "source": [
    "# Vẽ biểu đồ phân phối chất gây nghiện tại các thành phố khác nhau\n",
    "plt.figure(figsize=(12, 8))\n",
    "drug_distribution_by_city.plot(kind='bar', stacked=True, colormap='tab20')\n",
    "plt.title('Drug Distribution in Different Locations')\n",
    "plt.xlabel('Cities')\n",
    "plt.ylabel('Number of Cases')\n",
    "plt.legend(title='Drug Types', bbox_to_anchor=(1.05, 1), loc='upper left')\n",
    "plt.xticks(rotation=90)\n",
    "plt.tight_layout()\n",
    "plt.show()"
   ]
  },
  {
   "cell_type": "markdown",
   "id": "505141d9",
   "metadata": {},
   "source": [
    "**Nhận xét:**\n",
    "- \"Residence/Home\" có số lượng trường hợp sử dụng ma túy cao nhất, với heroin và fentanyl là những loại phổ biến nhất."
   ]
  },
  {
   "cell_type": "markdown",
   "id": "60f2620e",
   "metadata": {},
   "source": [
    "## 4. Which are the top 5 locations with the highest number of deaths?"
   ]
  },
  {
   "cell_type": "markdown",
   "id": "bd65fce4",
   "metadata": {},
   "source": [
    "### Step 1: Top 5 cities with the highest death counts"
   ]
  },
  {
   "cell_type": "code",
   "execution_count": 111,
   "id": "380ad1bb",
   "metadata": {},
   "outputs": [
    {
     "name": "stdout",
     "output_type": "stream",
     "text": [
      "Top 5 Cities with Highest Death Counts:\n",
      "DeathCityGeo\n",
      "CT\\r\\n(41.57350273000003, -72.73830590799997)    1453\n",
      "Hartford, CT\\r\\n(41.765775, -72.673356)          1083\n",
      "New Haven, CT\\r\\n(41.308252, -72.924161)          765\n",
      "Waterbury, CT\\r\\n(41.554261, -73.043069)          728\n",
      "Bridgeport, CT\\r\\n(41.179195, -73.189476)         625\n",
      "Name: count, dtype: int64\n"
     ]
    }
   ],
   "source": [
    "# Sao lưu một bản sao của DataFrame gốc\n",
    "df_copy = DrugDeath_df.copy()\n",
    "\n",
    "# Nhóm theo thành phố và đếm số lượng tử vong tại mỗi thành phố\n",
    "death_count_by_city = df_copy['DeathCityGeo'].value_counts()\n",
    "\n",
    "# Chọn ra 5 thành phố có số ca tử vong cao nhất\n",
    "top_5_cities = death_count_by_city.head(5)\n",
    "\n",
    "# Hiển thị 5 thành phố có số ca tử vong cao nhất\n",
    "print(\"Top 5 Cities with Highest Death Counts:\")\n",
    "print(top_5_cities)\n"
   ]
  },
  {
   "cell_type": "markdown",
   "id": "1ed3cd94",
   "metadata": {},
   "source": [
    "### Step 2: Visualize"
   ]
  },
  {
   "cell_type": "code",
   "execution_count": 112,
   "id": "917ca0a7",
   "metadata": {},
   "outputs": [
    {
     "name": "stderr",
     "output_type": "stream",
     "text": [
      "c:\\Users\\dntti\\anaconda3\\Lib\\site-packages\\IPython\\core\\pylabtools.py:152: UserWarning:\n",
      "\n",
      ") missing from current font.\n",
      "\n"
     ]
    },
    {
     "data": {
      "image/png": "[encoded data removed]",
      "text/plain": [
       "<Figure size 1000x600 with 1 Axes>"
      ]
     },
     "metadata": {},
     "output_type": "display_data"
    }
   ],
   "source": [
    "# Vẽ biểu đồ cho 5 thành phố có số ca tử vong cao nhất\n",
    "plt.figure(figsize=(10, 6))\n",
    "top_5_cities.plot(kind='barh', color='skyblue')\n",
    "plt.title('Top 5 Cities with Highest Death Counts')\n",
    "plt.xlabel('Number of Deaths')\n",
    "plt.ylabel('Cities')\n",
    "plt.show()"
   ]
  },
  {
   "cell_type": "markdown",
   "id": "0f638657",
   "metadata": {},
   "source": [
    "**Nhận xét:**\n",
    "- Thành phố không rõ tên (có tọa độ 41.573507300003, -72.738509097997) dẫn đầu với số lượng tử vong vượt quá 1400.\n",
    "- Hartford, CT (với tọa độ 41.765775, -72.673356) tiếp theo với số lượng tử vong hơn 800.\n",
    "- New Haven, CT (tọa độ 41.308252, -72.924161) với số lượng tử vong hơn 600.\n",
    "- Waterbury, CT (tọa độ 41.554261, -73.043069) có số lượng tử vong hơn 400.\n",
    "- Bridgeport, CT (tọa độ 41.179195, -73.189476) với số lượng tử vong gần 400."
   ]
  },
  {
   "cell_type": "markdown",
   "id": "28f5a43b",
   "metadata": {},
   "source": [
    "## 5. Top 5 most common details of death causes?"
   ]
  },
  {
   "cell_type": "markdown",
   "id": "4f2969ee",
   "metadata": {},
   "source": [
    "### Step 1: Counting occurrences of each death cause detail. Then selecting the top 5"
   ]
  },
  {
   "cell_type": "code",
   "execution_count": 113,
   "id": "f18810a2",
   "metadata": {},
   "outputs": [
    {
     "name": "stdout",
     "output_type": "stream",
     "text": [
      "Top 5 Most Common Death Cause Details:\n",
      "Details Cause\n",
      "[Fentanyl,  Fentanyl Analogue]              1364\n",
      "[Cocaine,  Fentanyl,  Fentanyl Analogue]     842\n",
      "[Heroin]                                     640\n",
      "[Ethanol,  Fentanyl,  Fentanyl Analogue]     570\n",
      "[Fentanyl,  Fentanyl Analogue,  Heroin]      559\n",
      "Name: count, dtype: int64\n"
     ]
    }
   ],
   "source": [
    "# Sao lưu một bản sao của DataFrame gốc\n",
    "df_copy = DrugDeath_df.copy()\n",
    "\n",
    "# Counting occurrences of each death cause detail and selecting the top 5\n",
    "top_5_death_causes = df_copy['Details Cause'].value_counts().head(5)\n",
    "\n",
    "# Displaying the top 5 most common death cause details\n",
    "print(\"Top 5 Most Common Death Cause Details:\")\n",
    "print(top_5_death_causes)"
   ]
  },
  {
   "cell_type": "markdown",
   "id": "974890a6",
   "metadata": {},
   "source": [
    "### Step 2: Visualize by bar chart"
   ]
  },
  {
   "cell_type": "code",
   "execution_count": 114,
   "id": "0ee40050",
   "metadata": {},
   "outputs": [
    {
     "data": {
      "image/png": "[encoded data removed]",
      "text/plain": [
       "<Figure size 1000x600 with 1 Axes>"
      ]
     },
     "metadata": {},
     "output_type": "display_data"
    }
   ],
   "source": [
    "# Vẽ biểu đồ cho 5 nguyên nhân gây tử vong phổ biến nhất\n",
    "plt.figure(figsize=(10, 6))\n",
    "top_5_death_causes.plot(kind='barh', color='skyblue')\n",
    "plt.title('Top 5 Most Common Death Cause Details')\n",
    "plt.xlabel('Number of Occurrences')\n",
    "plt.ylabel('Death Cause Details')\n",
    "plt.show()"
   ]
  },
  {
   "cell_type": "markdown",
   "id": "e4f4579d",
   "metadata": {},
   "source": [
    "**Nhận xét:**\n",
    "- Các nguyên nhân từ cao xuống thấp là:\n",
    "    - Fentanyl, Fentanyl Analog, Heroin\n",
    "    - Ethanol, Fentanyl, Fentanyl Analog\n",
    "    - Heroin\n",
    "    - Cocaine, Fentanyl, Fentanyl Analog\n",
    "    - Fentanyl, Fentanyl Analog\n",
    "- Nguyên nhân hàng đầu gây tử vong là sự kết hợp của Fentanyl, Fentanyl Analog và Heroin với số lần xuất hiện gần 1400 lần. Các nguyên nhân khác cũng chứa Fentanyl và các chất analog của nó, cho thấy rằng Fentanyl là một vấn đề lớn trong các trường hợp tử vong liên quan đến ma túy.\n",
    "- Heroin và Ethanol cũng được nhắc đến như là các nguyên nhân chính"
   ]
  },
  {
   "cell_type": "markdown",
   "id": "0f2b2efe",
   "metadata": {},
   "source": [
    "# Questions"
   ]
  },
  {
   "cell_type": "code",
   "execution_count": null,
   "id": "6656e936",
   "metadata": {},
   "outputs": [],
   "source": []
  },
  {
   "cell_type": "markdown",
   "id": "02483f21",
   "metadata": {},
   "source": [
    "# Reflection"
   ]
  },
  {
   "cell_type": "markdown",
   "id": "faf2fb89",
   "metadata": {},
   "source": [
    "# References"
   ]
  }
 ],
 "metadata": {
  "kernelspec": {
   "display_name": "Python 3 (ipykernel)",
   "language": "python",
   "name": "python3"
  },
  "language_info": {
   "codemirror_mode": {
    "name": "ipython",
    "version": 3
   },
   "file_extension": ".py",
   "mimetype": "text/x-python",
   "name": "python",
   "nbconvert_exporter": "python",
   "pygments_lexer": "ipython3",
   "version": "3.11.5"
  }
 },
 "nbformat": 4,
 "nbformat_minor": 5
}
